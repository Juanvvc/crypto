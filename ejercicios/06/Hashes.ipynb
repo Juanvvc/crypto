{
  "cells": [
    {
      "cell_type": "markdown",
      "id": "oriental-disco",
      "metadata": {
        "id": "oriental-disco"
      },
      "source": [
        "# Funciones de Hash"
      ]
    },
    {
      "cell_type": "markdown",
      "id": "28b1c509",
      "metadata": {},
      "source": [
        "<font color=\"#f00\">NOTA IMPORTANTE: Las preguntas están marcadas en color rojo. Para la entrega, prepara un documento separado que solo contenga las preguntas y tus respuestas</font>\n",
        "\n",
        "<font color=\"#f00\">**Entrega solo ese documento en formato PDF**</font>"
      ]
    },
    {
      "cell_type": "markdown",
      "id": "terminal-bride",
      "metadata": {
        "id": "terminal-bride"
      },
      "source": [
        "La librería PyCryptoDome tiene funciones de hash para varios algoritmos. Vamos a cargar algunas de ellas. La lista completa está en: https://pycryptodome.readthedocs.io/en/latest/src/hash/hash.html\n",
        "\n",
        "Recuerda:\n",
        "\n",
        "- MD5 está obsoleto y roto, no se tiene que utilizar en aplicaciones reales\n",
        "- Los valores de hash se suelen representar en hexadecimal (lo veremos más adelante) y en hexadecimal da igual si las letras son mayúsculas o minúsculas\n",
        "- El valor de hash también se llamaba antes *digest*, y algunas librerías prefieren seguir usando ese nombre"
      ]
    },
    {
      "cell_type": "code",
      "execution_count": null,
      "id": "structured-claim",
      "metadata": {
        "id": "structured-claim",
        "outputId": "bd74be83-755f-41bf-aa89-aa6c50da0ea7"
      },
      "outputs": [],
      "source": [
        "!pip install pycryptodome\n",
        "import time\n",
        "from Crypto.Hash import MD5, SHA256, SHA512, SHA3_256"
      ]
    },
    {
      "cell_type": "markdown",
      "id": "violent-incidence",
      "metadata": {
        "id": "violent-incidence"
      },
      "source": [
        "Tradicionalmente, una función de hash se va alimentanto de datos (`update()`) hasta que necesitas el valor de hash. Este procedimiento de `update()` funciona, por ejemplo, si tienes que calcular el hash de un conjunto de mensajes o lees los bytes bloque a bloque de un archivo grande."
      ]
    },
    {
      "cell_type": "code",
      "execution_count": null,
      "id": "acknowledged-reach",
      "metadata": {
        "id": "acknowledged-reach",
        "outputId": "db9e5358-0ce4-4d91-9367-354675a0d432"
      },
      "outputs": [],
      "source": [
        "hasher = SHA256.new()\n",
        "hasher.update(b'hola')\n",
        "hasher.update(b'mundo')\n",
        "hash1 = hasher.hexdigest()\n",
        "print(hash1)"
      ]
    },
    {
      "cell_type": "markdown",
      "id": "arabic-wesley",
      "metadata": {
        "id": "arabic-wesley"
      },
      "source": [
        "Si ya conoces el mensaje puedes hacerlo todo en una sola línea como en el ejemplo siguiente. Observa que el hash coincide con el calculado antes."
      ]
    },
    {
      "cell_type": "code",
      "execution_count": null,
      "id": "enclosed-yahoo",
      "metadata": {
        "id": "enclosed-yahoo",
        "outputId": "b502d81b-f337-4e75-a7f1-2275da2d789c"
      },
      "outputs": [],
      "source": [
        "hash2 = SHA256.new(data=b'holamundo').hexdigest()\n",
        "print(hash2)\n",
        "print(hash1 == hash2)"
      ]
    },
    {
      "cell_type": "markdown",
      "id": "ahead-stewart",
      "metadata": {
        "id": "ahead-stewart"
      },
      "source": [
        "¿Qué pasa si cambiamos ligeramente el mensaje? Por ejemplo, añadimos un espacio, o ponemos letras en mayúsculas, o signos de admiración..."
      ]
    },
    {
      "cell_type": "code",
      "execution_count": null,
      "id": "cardiac-guinea",
      "metadata": {
        "id": "cardiac-guinea",
        "outputId": "9bf6b3ad-96ff-4ded-9c32-bb62cbc791d8"
      },
      "outputs": [],
      "source": [
        "hash2 = SHA256.new(data=b'hola mundo').hexdigest()\n",
        "print(hash2)\n",
        "print(hash1 == hash2)"
      ]
    },
    {
      "cell_type": "markdown",
      "id": "seeing-validity",
      "metadata": {
        "id": "seeing-validity"
      },
      "source": [
        "<font color=\"#f00\">\n",
        "PREGUNTAS:\n",
        "\n",
        "- Prueba varios cambios en el mensaje \"hola mundo\" y apunta los hashes, verás que cambian totalmente por muy pequeños que sean los cambios: algunas mayúsculas, números, signos de puntuación...\n",
        "- ¿Cuántos mensajes existen que tengan el mismo hash que \"hola mundo\"?\n",
        "- ¿Podrías encontrar alguno de estos mensajes que tengan el mismo hash que \"hola mundo\"?\n",
        "- Calcula el valor de hash **de un archivo de texto TXT** con el texto \"hola mundo\" en tu PC desde línea de comandos. ¿Coincide con el hash anterior? NOTA: asegúrate de que no hay \"nueva línea\" al final del archivo.\n",
        "    - Windows usando Powershell: `Get-FileHash -Algorithm SHA256 NOMBREDEARCHIVO`\n",
        "    - Windows usando CMD: `certutil -hashfile NOMBREDEARCHIVO SHA256`\n",
        "    - Linux/OSX: `sha256sum NOMBREDEARCHIVO`\n",
        "- Cambia el nombre del archivo y calcula su hash. ¿Ha cambiado el hash al cambiar el nombre del archivo?\n",
        "</font>\n",
        "\n",
        "<P><FONT COLOR=\"#00F\">\n",
        "RESPUESTA: texto de tu respuesta\n",
        "</FONT></P>"
      ]
    },
    {
      "cell_type": "markdown",
      "id": "endless-minneapolis",
      "metadata": {
        "id": "endless-minneapolis"
      },
      "source": [
        "# Tamaño de un resumen hash"
      ]
    },
    {
      "cell_type": "markdown",
      "id": "capable-brake",
      "metadata": {
        "id": "capable-brake"
      },
      "source": [
        "Fíjate: el hash SHA256 siempre tiene la misma longitud, sea como sea de largo el texto de la entrada.\n",
        "\n",
        "- SHA256: longitud 256 bits\n",
        "- SHA512: longitud 512 bits"
      ]
    },
    {
      "cell_type": "code",
      "execution_count": null,
      "id": "romantic-pennsylvania",
      "metadata": {
        "id": "romantic-pennsylvania",
        "outputId": "e6b9386f-df6d-44cf-f880-297562cfa8b5"
      },
      "outputs": [],
      "source": [
        "print(SHA256.new(data=b'hola').hexdigest())\n",
        "print(SHA256.new(data=b'hola mundo').hexdigest())\n",
        "print(SHA256.new(data=b\"\"\"Cryptographic hash functions take arbitrary binary strings as input,\n",
        "and produce a random-like fixed-length output (called digest or hash value).\n",
        "\n",
        "It is practically infeasible to derive the original input data from the digest. In other\n",
        "words, the cryptographic hash function is one-way (pre-image resistance).\n",
        "\n",
        "Given the digest of one message, it is also practically infeasible to find another\n",
        "message (second pre-image) with the same digest (weak collision resistance).\n",
        "\n",
        "Finally, it is infeasible to find two arbitrary messages with the same digest\n",
        "(strong collision resistance).\n",
        "\n",
        "Regardless of the hash algorithm, an n bits long digest is at most as secure as a\n",
        "symmetric encryption algorithm keyed with n/2 bits (birthday attack).\n",
        "\n",
        "Hash functions can be simply used as integrity checks. In combination with a\n",
        "public-key algorithm, you can implement a digital signature.\"\"\").hexdigest())"
      ]
    },
    {
      "cell_type": "markdown",
      "id": "elder-suggestion",
      "metadata": {
        "id": "elder-suggestion"
      },
      "source": [
        "En los ejemplos anteriores hemos utilizado la función `hexdigest`, que es como tradicionalmente se presentan los hashes para poder imprimirlos. Esa es la representación hexadecimal de un número. Por ejemplo, el número 14 (decimal) se representa como '0e' (hexadecimal) y el número 254 (decimal) como 'fe' (hexadecimal). Fíjate: 8 bits son un byte, es decir, un número entre $0$ y $255$ (en decimal), que en hexadecimal se representa como un número entre $00$ y $ff$ (en hexadecimal). **Un byte son dos caracteres hexadecimales**.\n",
        "\n",
        "Podemos accede a la cadena binaria de bytes, sin pasarla a hexadecimal, utilizando la función `digest()` en vez de `hexdigest()`. Pero no podríamos imprimirla.\n",
        "\n",
        "Así que:\n",
        "\n",
        "- El resumen SHA256 es de 256 bits, sea como sea el tamaño de la entrada\n",
        "- 256 bits son **32 bytes**\n",
        "- Que se representan como **64 caracteres hexadecimales**\n",
        "- Pero ambas representaciones son equivalentes. Simplemente, una podemos imprimirla y la otra no. A veces querremos imprimir hashes y por eso es común que los veamos en hexadecimal"
      ]
    },
    {
      "cell_type": "code",
      "execution_count": null,
      "id": "satisfactory-nutrition",
      "metadata": {
        "id": "satisfactory-nutrition",
        "outputId": "82a5adeb-eaff-4729-aad8-9a81fba9e5cc"
      },
      "outputs": [],
      "source": [
        "hasher = SHA256.new(data=b'hola')\n",
        "hash_bytes = hasher.digest()\n",
        "hash_hexa = hasher.hexdigest()\n",
        "\n",
        "print(f'Valor de hash SHA256 en binario. Longitud={len(hash_bytes)} bytes Valor={hash_bytes}')\n",
        "print(f'Valor de hash SHA256 en hexadecimal. Longitud={len(hash_hexa)} caracteres Valor={hash_hexa}')"
      ]
    },
    {
      "cell_type": "markdown",
      "id": "classical-product",
      "metadata": {
        "id": "classical-product"
      },
      "source": [
        "Por tradición, se ha preferido codificar los hashes en hexadecimal y no en base64, que hubiese sido otra opción perfectamente válida."
      ]
    },
    {
      "cell_type": "markdown",
      "id": "circular-booth",
      "metadata": {
        "id": "circular-booth"
      },
      "source": [
        "# Velocidades de cálculo de hash"
      ]
    },
    {
      "cell_type": "markdown",
      "id": "optimum-attachment",
      "metadata": {
        "id": "optimum-attachment"
      },
      "source": [
        "Vamos a calcular cuántos hashes podemos calcular por segundo.\n",
        "\n",
        "OJO: este cálculo simplemente nos vale para comparar algoritmos entre sí. Jupyter no tiene acceso a la GPU de tu ordenador, ni Pycryptodome está pensada para gran velocidad. Si exprimes tu ordenador con programas externos seguro que obtendrás números mucho mayores.\n",
        "\n",
        "**La ejecución de estas líneas puede llevar desde varios segundos a un minuto**. Fíjate en que el bloque empieza con `In[*]` mientras está haciendo cálculos."
      ]
    },
    {
      "cell_type": "code",
      "execution_count": null,
      "id": "dressed-toronto",
      "metadata": {
        "id": "dressed-toronto"
      },
      "outputs": [],
      "source": [
        "import timeit\n",
        "\n",
        "NUM=500000\n",
        "print(f'Calculando {NUM} hashes en MD5, SHA256, SHA512, SHA3_256...')\n",
        "\n",
        "time_md5 = timeit.timeit(lambda: MD5.new(data=b'hola').hexdigest(), number=NUM)\n",
        "time_sha256 = timeit.timeit(lambda: SHA256.new(data=b'hola').hexdigest(), number=NUM)\n",
        "time_sha512 = timeit.timeit(lambda: SHA512.new(data=b'hola').hexdigest(), number=NUM)\n",
        "time_sha3 = timeit.timeit(lambda: SHA3_256.new(data=b'hola').hexdigest(), number=NUM)\n",
        "\n",
        "print(f'MD5: spent={time_md5} s speed={NUM / time_md5:.{2}} H/s')\n",
        "print(f'SHA256: spent={time_sha256} s speed={NUM / time_sha256:.2f} H/s')\n",
        "print(f'SHA512: spent={time_sha512} s speed={NUM / time_sha512:.2f} H/s')\n",
        "print(f'SHA3_256: spent={time_sha3} s speed={NUM / time_sha3:.2f} H/s')"
      ]
    },
    {
      "cell_type": "markdown",
      "id": "metric-advocacy",
      "metadata": {
        "id": "metric-advocacy"
      },
      "source": [
        "<p><font color=\"#f00\">\n",
        "PREGUNTAS:\n",
        "\n",
        "- ¿Cuál de los algoritmos es más rápido? ¿Cómo afecta doblar el número de bits (es decir, pasar de 256 a 512 bits)?\n",
        "- Calcula el hash SHA-256 y SHA-512 de un archivo de unos 500MB en tu PC (por ejemplo, una película) ¿Cuánto tiempo le lleva?\n",
        "\n",
        "</font></p>\n",
        "\n",
        "<p><font color=\"#00f\">\n",
        "TU RESPUESTA: texto de tu respuesta\n",
        "</font></p>\n"
      ]
    },
    {
      "cell_type": "markdown",
      "id": "d184e060",
      "metadata": {
        "id": "d184e060"
      },
      "source": [
        "## Proof of work: Hashcat y Bitcoin\n",
        "\n",
        "Una *proof of work* (*pow*) es un sistema para demostrar que un PC ha estado un tiempo trabajando sin hacer nada más. Originalmente se utilizó para limitar el número de emails que un servidor podía enviar por minuto y limitar los correos de spam: para aceptar un correo de alguien, tiene que poder demostrar que no ha enviado otros correos el los últimos 5 minutos (por ejemplo). La aplicación en correo electrónico no tuvo éxito, y el uso principal de las *proof of work* en la actualidad es el minado de monedas electrónicas como Bitcoin.\n",
        "\n",
        "Vamos a programar una \"Proof of work\" muy sencilla inspirada en Hashcat, la misma tecnología utilizada por Bitcoin: \"encuentra un número aleatorio tal que al juntarlo a un texto y calcular su hash, el valor de hash empiece por un número determinado de ceros\". Funciona así:\n",
        "\n",
        "¿El hash(12345 + \"hola mundo\") empieza por 3 ceros? ¿Y si ponemos 12346? ¿tampoco? ¿ y con 12347? La idea es ir probando números hasta que uno por simple azar tenga un hash que empiece por un número determinado de ceros.\n",
        "\n",
        "Esto es una \"proof of work\": la única manera que conocemos para que el valor de un hash de un texto empiece por un número determinado de ceros es probar todos los textos uno a uno, hasta que por suerte encontramos ese valor.\n",
        "\n",
        "La idea de los sistemas que usan proof-of-work como bitcoin es que no se aceptará un nuevo mensaje si el emisor no incluye una \"proof of work\" junto con el mensaje. Es decir, que pruebe que ha estado X minutos buscando el contador que resulte en un hash correcto. De esta manera se limita el número de mensajes por minuto que puede emitir una persona. Fíjate que encontrar el contador es un proceso costoso, pero comprobar que el contador es correcto es muy rápido: solo tienes que calcular el hash y mirar si empieza con el número correcto de ceros.\n",
        "\n",
        "Nosotros vamos a utilizar el mensaje \"hola mundo\" solo para ilustrar. Bitcoin funciona de una manera similar, pero el \"mensaje\" en Bitcoin es un bloque con las descripciones de las transacciones realizadas en los últimos minutos y sus firmas electrónicas.\n",
        "\n",
        "Una propuesta de función (poco eficiente) sería así:\n"
      ]
    },
    {
      "cell_type": "code",
      "execution_count": null,
      "id": "7ae589cf",
      "metadata": {
        "id": "7ae589cf"
      },
      "outputs": [],
      "source": [
        "def proof_of_work(msg, effort):\n",
        "    start = time.time()\n",
        "    test = '0' * effort\n",
        "    ctr = 0\n",
        "    blk = f'{msg}:{ctr}'.encode()\n",
        "    h = SHA256.new(data=blk).hexdigest()\n",
        "    while not h[:effort] == test:\n",
        "        ctr += 1\n",
        "        blk = f'{msg}:{ctr}'.encode()\n",
        "        h = SHA256.new(data=blk).hexdigest()\n",
        "    return dict(proof=blk, hash=h, seconds=time.time() - start)"
      ]
    },
    {
      "cell_type": "markdown",
      "id": "24afbe6b",
      "metadata": {
        "id": "24afbe6b"
      },
      "source": [
        "Y vamos a probar con dos esfuerzos: que el hash \"MSG:CONTADOR\" empiece por solo un cero, o que empiece por dos ceros, o que empiece por tres ceros."
      ]
    },
    {
      "cell_type": "code",
      "execution_count": null,
      "id": "50f7e13f",
      "metadata": {
        "id": "50f7e13f"
      },
      "outputs": [],
      "source": [
        "print(proof_of_work('hola mundo', effort=1))\n",
        "print(proof_of_work('hola mundo', effort=2))\n",
        "print(proof_of_work('hola mundo', effort=3))"
      ]
    },
    {
      "cell_type": "markdown",
      "id": "9b1b6cca",
      "metadata": {
        "id": "9b1b6cca"
      },
      "source": [
        "<p><font color=\"#f00\">\n",
        "PREGUNTA: ¿Con qué esfuerzo(=número inicial de ceros en el hash) tu PC necesita (más o menos) 30 segundos para encontrar el contador?\n",
        "</font></p>\n",
        "\n",
        "<p><font color=\"#00f\">\n",
        "TU RESPUESTA: texto de tu respuesta\n",
        "</font></p>"
      ]
    },
    {
      "cell_type": "markdown",
      "id": "7lZSp2Mp2jqs",
      "metadata": {
        "id": "7lZSp2Mp2jqs"
      },
      "source": [
        "Nota que encontrar la *proof of work* de unos mensajes llevarán varios minutos y otros serán más rápidos. Puedes probarlo calculando la *proof of work* de diferentes textos como por ejemplo \"hola mundo\" y tu nombre para el mismo esfuerzo. Verás que el tiempo que le lleva puede ser muy diferente cada vez. La *proof of work* es probabilística, pero se espera que la media lleve un tiempo determinado.\n",
        "\n",
        "Para que te hagas una idea, puedes comprobar que \"el esfuerzo\" en los últimos bloques de bitcoin minados es de 20 ceros (Julio de 20204): https://www.blockchain.com/explorer/blocks/btc Este esfuerzo se ha consensuado para que alguien en algún sitio del mundo encuentre un nuevo bitcoin cada 15 minutos aproximadamente por mero azar, pero es probabilístico y unas veces se encontrará antes y otras después. Si la red decide que se están minando bitcoins demasiado rápido, el esfuerzo aumenta. ¿Quién decide cuál es el esfuerzo necesario? Nadie en concreto, es una decisión consensuada entre todos los mineros.\n",
        "\n",
        "![image.png](bitcoin-effort.png)\n",
        "\n",
        "En la actualidad y con los esfuerzos necesarios, es muy poco probable que puedas minar un bitcoin en un PC casero"
      ]
    },
    {
      "cell_type": "markdown",
      "id": "e130259f",
      "metadata": {
        "id": "e130259f"
      },
      "source": [
        "# Firma Digital"
      ]
    },
    {
      "cell_type": "markdown",
      "id": "comparative-concert",
      "metadata": {
        "id": "comparative-concert"
      },
      "source": [
        "Vamos a aprovechar lo que ya sabemos de cifrado asimétrico y hashes para ver cómo funciona una firma digital."
      ]
    },
    {
      "cell_type": "markdown",
      "id": "refined-cassette",
      "metadata": {
        "id": "refined-cassette"
      },
      "source": [
        "## Alice firma un documento"
      ]
    },
    {
      "cell_type": "code",
      "execution_count": null,
      "id": "dedicated-magic",
      "metadata": {
        "id": "dedicated-magic"
      },
      "outputs": [],
      "source": [
        "document = b\"\"\"Cryptographic hash functions take arbitrary binary strings as input,\n",
        "and produce a random-like fixed-length output (called digest or hash value).\n",
        "\n",
        "It is practically infeasible to derive the original input data from the digest. In other\n",
        "words, the cryptographic hash function is one-way (pre-image resistance).\n",
        "\n",
        "Given the digest of one message, it is also practically infeasible to find another\n",
        "message (second pre-image) with the same digest (weak collision resistance).\n",
        "\n",
        "Finally, it is infeasible to find two arbitrary messages with the same digest\n",
        "(strong collision resistance).\n",
        "\n",
        "Regardless of the hash algorithm, an n bits long digest is at most as secure as a\n",
        "symmetric encryption algorithm keyed with n/2 bits (birthday attack).\n",
        "\n",
        "Hash functions can be simply used as integrity checks. In combination with a\n",
        "public-key algorithm, you can implement a digital signature.\"\"\""
      ]
    },
    {
      "cell_type": "markdown",
      "id": "healthy-works",
      "metadata": {
        "id": "healthy-works"
      },
      "source": [
        "Vamos a generar un par de claves RSA para Alice: una pública `alice_pk` y otra privada `alice_sk`. Recuerda: la clave pública la conoce todo el mundo, la clave privada solo la conoce Alice. Ya veremos cómo se distribuye esa clave pública.\n",
        "\n",
        "NOTA: En un entorno real esto se hace mucho antes de firmar: ¡el par de claves debería estar preparado y la clave pública distribuida desde meses antes de la firma! Veremos esto en el tema de PKI"
      ]
    },
    {
      "cell_type": "code",
      "execution_count": null,
      "id": "transparent-completion",
      "metadata": {
        "id": "transparent-completion"
      },
      "outputs": [],
      "source": [
        "# Clave de 2048 bits de Alice, pública y secreta\n",
        "from Crypto.PublicKey import RSA\n",
        "alice_sk = RSA.generate(2048) # Clave secreta de Alice\n",
        "alice_pk = alice_sk.publickey() # Clave pública de Alice"
      ]
    },
    {
      "cell_type": "markdown",
      "id": "appointed-basics",
      "metadata": {
        "id": "appointed-basics"
      },
      "source": [
        "PyCryptodome ya incluye un módulo para firmar usando las recomendaciones PKCS1. Vamos a aprovechar el módulo, para aprender buenas costumbres y porque PyCryptodome no nos deja utilizar RSA de forma insegura.\n",
        "\n",
        "Ese módulo de firma:\n",
        "\n",
        "- Calcula el hash del documento utilizando el hasher que le pasemos (que será SHA256)\n",
        "- Cifra el hash del documento utilizando la clave privada de Alice\n",
        "- Todo lo hace siguiendo las recomendaciones PKCS1\n",
        "- La firma la codifica en base64, para que podamos verla por pantalla (esto no es necesario en realidad)\n",
        "\n",
        "Finalmente, Alice enviaría en un mensaje el documento y su firma. En realidad, lo más probable es que Alice además cifre el documento utilizando algún tipo de cifrado simétrico como AES para proteger su confidencialidad, pero vamos a obviar esa parte en este ejercicio.\n",
        "\n",
        "NOTA: dado que se necesita la clave privada de Alice para firmar, **solamente Alice puede generar esta firma de este documento ya que solamente ella conoce su clave privada**."
      ]
    },
    {
      "cell_type": "code",
      "execution_count": null,
      "id": "sixth-eugene",
      "metadata": {
        "id": "sixth-eugene"
      },
      "outputs": [],
      "source": [
        "from Crypto.Signature import pkcs1_15\n",
        "from base64 import b64encode, b64decode\n",
        "\n",
        "hasher = SHA256.new(data=document)\n",
        "signature = pkcs1_15.new(alice_sk).sign(hasher)\n",
        "\n",
        "msg = dict(document=document, signature=b64encode(signature))\n",
        "print(msg)"
      ]
    },
    {
      "cell_type": "markdown",
      "id": "moral-exclusive",
      "metadata": {
        "id": "moral-exclusive"
      },
      "source": [
        "<p><font color=\"#f00\">\n",
        "PREGUNTA: ¿Por qué crees que Alice cifra **solamente** el hash del mensaje con RSA, en vez de cifrar directamente **todo** el mensaje con RSA?\n",
        "</font></p>\n",
        "\n",
        "<p><font color=\"#00f\">\n",
        "TU RESPUESTA: texto de tu respuesta\n",
        "</font></p>"
      ]
    },
    {
      "cell_type": "markdown",
      "id": "rural-holly",
      "metadata": {
        "id": "rural-holly"
      },
      "source": [
        "## Bob verifica la firma de Alice\n",
        "\n",
        "Bob recibe el mensaje `msg`, que incluye el documento y la firma de Alice, y ya conoce la clave pública de alice `alice_pk` de alguna manera (ver tema PKI)\n",
        "\n",
        "Así que Bob hace el proceso inverso:\n",
        "\n",
        "- Calcula el hash SHA256 del documento recibido\n",
        "- Decodifica el base64 y descifra la firma recibida utilizando la clave pública de Alice\n",
        "- Todo lo hace siguiendo las recomendaciones PKCS1\n",
        "\n",
        "Como curiosidad, la librería PyCryptodome lanza un error cuando la firma no es válida, y no hace nada si es correcta.\n",
        "\n",
        "Si la verificación de la firma con la clave pública de Alice es correcta, entonces **Bob sabe que el documento lo ha enviado Alice, y no puede haberlo enviado nadie más**."
      ]
    },
    {
      "cell_type": "code",
      "execution_count": null,
      "id": "military-devil",
      "metadata": {
        "id": "military-devil"
      },
      "outputs": [],
      "source": [
        "rcv_document = msg['document']\n",
        "rcv_signature = b64decode(msg['signature'])\n",
        "\n",
        "pkcs1_15.new(alice_pk).verify(SHA256.new(data=rcv_document), rcv_signature)\n",
        "print(\"La firma es válida\")"
      ]
    },
    {
      "cell_type": "markdown",
      "id": "different-garage",
      "metadata": {
        "id": "different-garage"
      },
      "source": [
        "¿Qué pasa si un atacante intercepta el mensaje y cambia el documento? Aquí vemos un ejemplo: el atacante ha interceptado el documento y ha puesto información falsa.\n",
        "\n",
        "Observa que ahora la firma de Alice no verifica y la función lanza un error."
      ]
    },
    {
      "cell_type": "code",
      "execution_count": null,
      "id": "imposed-breakdown",
      "metadata": {
        "id": "imposed-breakdown"
      },
      "outputs": [],
      "source": [
        "rcv_document = b\"\"\"Cryptographic hash functions take arbitrary binary strings as input,\n",
        "and produce a random-like fixed-length output (called digest or hash value).\n",
        "\n",
        "It is practically infeasible to derive the original input data from the digest. In other\n",
        "words, the cryptographic hash function is one-way (pre-image resistance).\n",
        "\n",
        "Given the digest of one message, it is also practically infeasible to find another\n",
        "message (second pre-image) with the same digest (weak collision resistance).\n",
        "\n",
        "Finally, it is infeasible to find two arbitrary messages with the same digest\n",
        "(strong collision resistance).\n",
        "\n",
        "Regardless of the hash algorithm, an n bits long digest is at most as secure as a\n",
        "symmetric encryption algorithm keyed with n/3 bits (birthday attack).\n",
        "\n",
        "Hash functions can be simply used as integrity checks. In combination with a\n",
        "public-key algorithm, you can implement a digital signature.\"\"\"\n",
        "\n",
        "pkcs1_15.new(alice_pk).verify(SHA256.new(data=rcv_document), rcv_signature)\n",
        "print(\"La firma es válida\")"
      ]
    },
    {
      "cell_type": "markdown",
      "id": "pQ0Irit-fLcY",
      "metadata": {
        "id": "pQ0Irit-fLcY"
      },
      "source": [
        "<p><font color=\"#f00\">\n",
        "PREGUNTA: ¿Podrías detectar qué parte del mensaje ha cambiado mirando solo la firma electrónica?\n",
        "</font></p>\n",
        "\n",
        "<p><font color=\"#00f\">\n",
        "TU RESPUESTA: texto de tu respuesta\n",
        "</font></p>"
      ]
    },
    {
      "cell_type": "markdown",
      "id": "british-congress",
      "metadata": {
        "id": "british-congress"
      },
      "source": [
        "Podemos gestionar los errores con un `try/except` e informar al usuario."
      ]
    },
    {
      "cell_type": "code",
      "execution_count": null,
      "id": "european-butler",
      "metadata": {
        "id": "european-butler"
      },
      "outputs": [],
      "source": [
        "try:\n",
        "    pkcs1_15.new(alice_pk).verify(SHA256.new(data=rcv_document), rcv_signature)\n",
        "    print(\"La firma es válida\")\n",
        "except ValueError:\n",
        "    print(\"La firma NO es válida\")"
      ]
    }
  ],
  "metadata": {
    "colab": {
      "provenance": []
    },
    "kernelspec": {
      "display_name": "Python 3 (ipykernel)",
      "language": "python",
      "name": "python3"
    },
    "language_info": {
      "codemirror_mode": {
        "name": "ipython",
        "version": 3
      },
      "file_extension": ".py",
      "mimetype": "text/x-python",
      "name": "python",
      "nbconvert_exporter": "python",
      "pygments_lexer": "ipython3",
      "version": "3.11.9"
    }
  },
  "nbformat": 4,
  "nbformat_minor": 5
}
