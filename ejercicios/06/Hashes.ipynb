{
 "cells": [
  {
   "cell_type": "markdown",
   "id": "oriental-disco",
   "metadata": {},
   "source": [
    "# Funciones de Hash"
   ]
  },
  {
   "cell_type": "markdown",
   "id": "terminal-bride",
   "metadata": {},
   "source": [
    "La librería PyCryptoDome tiene funciones de hash para varios algoritmos. Vamos a cargar algunas de ellas. La lista completa está en: https://pycryptodome.readthedocs.io/en/latest/src/hash/hash.html\n",
    "\n",
    "(Recuerda: MD5 está obsoleto y roto, no se tiene que utilizar en aplicaciones reales)"
   ]
  },
  {
   "cell_type": "code",
   "execution_count": null,
   "id": "structured-claim",
   "metadata": {},
   "outputs": [],
   "source": [
    "!pip install pycryptodome\n",
    "from Crypto.Hash import MD5, SHA256, SHA512, SHA3_256"
   ]
  },
  {
   "cell_type": "markdown",
   "id": "violent-incidence",
   "metadata": {},
   "source": [
    "Tradicionalmente, una función de hash se va alimentanto de datos (`update()`) hasta que necesitas el hash (también llamado \"digest\"). Este procedimiento de `update()` funciona, por ejemplo, si tienes que calcular el hash de un conjunto de mensajes o lees los bytes bloque a bloque de un archivo grande."
   ]
  },
  {
   "cell_type": "code",
   "execution_count": null,
   "id": "acknowledged-reach",
   "metadata": {},
   "outputs": [],
   "source": [
    "hasher = SHA256.new()\n",
    "hasher.update(b'hola')\n",
    "hasher.update(b'mundo')\n",
    "hash1 = hasher.hexdigest()\n",
    "print(hash1)"
   ]
  },
  {
   "cell_type": "markdown",
   "id": "arabic-wesley",
   "metadata": {},
   "source": [
    "Si ya conoces el mensaje puedes hacerlo todo en una sola línea como en el ejemplo siguiente. Observa que el hash coincide con el calculado antes."
   ]
  },
  {
   "cell_type": "code",
   "execution_count": null,
   "id": "enclosed-yahoo",
   "metadata": {},
   "outputs": [],
   "source": [
    "hash2 = SHA256.new(data=b'holamundo').hexdigest()\n",
    "print(hash2)\n",
    "print(hash1 == hash2)"
   ]
  },
  {
   "cell_type": "markdown",
   "id": "ahead-stewart",
   "metadata": {},
   "source": [
    "¿Qué pasa si cambiamos ligeramente el mensaje? Por ejemplo, añadimos un espacio, o ponemos letras en mayúsculas, o signos de admiración..."
   ]
  },
  {
   "cell_type": "code",
   "execution_count": null,
   "id": "cardiac-guinea",
   "metadata": {},
   "outputs": [],
   "source": [
    "hash2 = SHA256.new(data=b'hola mundo').hexdigest()\n",
    "print(hash2)\n",
    "print(hash1 == hash2)"
   ]
  },
  {
   "cell_type": "markdown",
   "id": "seeing-validity",
   "metadata": {},
   "source": [
    "Preguntas:\n",
    "\n",
    "- Prueba varios cambios en el mensaje \"hola mundo\" y apunta los hashes, verás que cambian totalmente por muy pequeños que sean los cambios: algunas mayúsculas, números, signos de puntuación...\n",
    "- ¿Cuántos mensajes existen que tengan el mismo hash que \"hola mundo\"?\n",
    "- ¿Podrías encontrar alguno de estos mensajes que tengan el mismo hash que \"hola mundo\"?\n",
    "- Calcula el valor de hash de un archivo de texto con el texto \"hola mundo\" en tu ordenador desde línea de comandos. ¿Coincide con el hash anterior?\n",
    "    - Powershell en Windows: `Get-FileHash NOMBREDEARCHIVO`\n",
    "    - Linux/OSX: `sha256sum NOMBREDEARCHIVO`\n",
    "- Cambia el nombre del archivo y calcula su hash. ¿Ha cambiado el hash al cambiar el nombre del archivo?"
   ]
  },
  {
   "cell_type": "markdown",
   "id": "endless-minneapolis",
   "metadata": {},
   "source": [
    "# Tamaño de un resumen hash"
   ]
  },
  {
   "cell_type": "markdown",
   "id": "capable-brake",
   "metadata": {},
   "source": [
    "Fíjate: el hash SHA256 siempre tiene la misma longitud, sea como sea de largo el texto de la entrada.\n",
    "\n",
    "- SHA256: longitud 256 bits\n",
    "- SHA512: longitud 512 bits"
   ]
  },
  {
   "cell_type": "code",
   "execution_count": null,
   "id": "romantic-pennsylvania",
   "metadata": {},
   "outputs": [],
   "source": [
    "print(SHA256.new(data=b'hola').hexdigest())\n",
    "print(SHA256.new(data=b'hola mundo').hexdigest())\n",
    "print(SHA256.new(data=b\"\"\"Cryptographic hash functions take arbitrary binary strings as input,\n",
    "and produce a random-like fixed-length output (called digest or hash value).\n",
    "\n",
    "It is practically infeasible to derive the original input data from the digest. In other\n",
    "words, the cryptographic hash function is one-way (pre-image resistance).\n",
    "\n",
    "Given the digest of one message, it is also practically infeasible to find another\n",
    "message (second pre-image) with the same digest (weak collision resistance).\n",
    "\n",
    "Finally, it is infeasible to find two arbitrary messages with the same digest\n",
    "(strong collision resistance).\n",
    "\n",
    "Regardless of the hash algorithm, an n bits long digest is at most as secure as a\n",
    "symmetric encryption algorithm keyed with n/2 bits (birthday attack).\n",
    "\n",
    "Hash functions can be simply used as integrity checks. In combination with a\n",
    "public-key algorithm, you can implement a digital signature.\"\"\").hexdigest())"
   ]
  },
  {
   "cell_type": "markdown",
   "id": "elder-suggestion",
   "metadata": {},
   "source": [
    "En los ejemplos anteriores hemos utilizado la función `hexdigest`, que es como tradicionalmente se presentan los hashes para poder imprimirlos. Esa es la representación hexadecimal de un número. Por ejemplo, el número 14 (decimal) se representa como '0e' (hexadecimal) y el número 254 (decimal) como 'fe' (hexadecimal). Fíjate: 8 bits son un byte, es decir, un número entre 0 y 255 (en decimal), es decir, un número entre 00 y ff (en hexadecimal). **Un byte son dos caracteres hexadecimales**.\n",
    "\n",
    "Podemos accede a la cadena binariade bytes, sin pasarla a hexadecimal, utilizando la función `digest()` en vez de `hexdigest()`. Pero no podríamos imprimirla.\n",
    "\n",
    "Así que:\n",
    "\n",
    "- El resumen SHA256 es de 256 bits, sea como sea el tamaño de la entrada\n",
    "- 256 bits son **32 bytes**\n",
    "- Que se representan como **64 caracteres hexadecimales**\n",
    "- Pero ambas representaciones son equivalentes. Simplemente, una podemos imprimirla y la otra no. A veces querremos imprimir hashes y por eso es común que los veamos en hexadecimal"
   ]
  },
  {
   "cell_type": "code",
   "execution_count": null,
   "id": "satisfactory-nutrition",
   "metadata": {},
   "outputs": [],
   "source": [
    "hasher = SHA256.new(data=b'hola')\n",
    "hash_bytes = hasher.digest()\n",
    "hash_hexa = hasher.hexdigest()\n",
    "\n",
    "print(f'Valor de hash SHA256 en binario. Longitud={len(hash_bytes)} bytes Valor={hash_bytes}')\n",
    "print(f'Valor de hash SHA256 en hexadecimal. Longitud={len(hash_hexa)} caracteres Valor={hash_hexa}')"
   ]
  },
  {
   "cell_type": "markdown",
   "id": "classical-product",
   "metadata": {},
   "source": [
    "Por tradición, se ha preferido codificar los hashes en hexadecimal y no en base64, que hubiese sido otra opción perfectamente válida."
   ]
  },
  {
   "cell_type": "markdown",
   "id": "circular-booth",
   "metadata": {},
   "source": [
    "# Velocidades de cálculo de hash"
   ]
  },
  {
   "cell_type": "markdown",
   "id": "optimum-attachment",
   "metadata": {},
   "source": [
    "Vamos a calcular cuántos hashes podemos calcular por segundo.\n",
    "\n",
    "OJO: este cálculo simplemente nos vale para comparar algoritmos entre sí. Jupyter no tiene acceso a la GPU de tu ordenador, ni Pycryptodome está pensada para gran velocidad. Si exprimes tu ordenador con programas externos seguro que obtendrás números mucho mayores.\n",
    "\n",
    "**La ejecución de estas líneas puede llevar desde varios segundos a un minuto**. Fíjate en que el bloque empieza con `In[*]` mientras está haciendo cálculos."
   ]
  },
  {
   "cell_type": "code",
   "execution_count": null,
   "id": "dressed-toronto",
   "metadata": {},
   "outputs": [],
   "source": [
    "import timeit\n",
    "\n",
    "NUM=500000\n",
    "print(f'Calculando {NUM} hashes en MD5, SHA256, SHA512, SHA3_256...')\n",
    "\n",
    "time_md5 = timeit.timeit(lambda: MD5.new(data=b'hola').hexdigest(), number=NUM)\n",
    "time_sha256 = timeit.timeit(lambda: SHA256.new(data=b'hola').hexdigest(), number=NUM)\n",
    "time_sha512 = timeit.timeit(lambda: SHA512.new(data=b'hola').hexdigest(), number=NUM)\n",
    "time_sha3 = timeit.timeit(lambda: SHA3_256.new(data=b'hola').hexdigest(), number=NUM)\n",
    "\n",
    "print(f'MD5: spent={time_md5} s speed={NUM / time_md5:.{2}} H/s')\n",
    "print(f'SHA256: spent={time_sha256} s speed={NUM / time_sha256:.2f} H/s')\n",
    "print(f'SHA512: spent={time_sha512} s speed={NUM / time_sha512:.2f} H/s')\n",
    "print(f'SHA3_256: spent={time_sha3} s speed={NUM / time_sha3:.2f} H/s')"
   ]
  },
  {
   "cell_type": "markdown",
   "id": "metric-advocacy",
   "metadata": {},
   "source": [
    "Preguntas:\n",
    "\n",
    "- ¿Cuál de los algoritmos es más rápido? ¿Cómo afecta doblar el número de bits (es decir, pasar de 256 a 512 bits)?\n",
    "- Calcula el hash SHA-256 y SHA-512 de un archivo de unos 500MB en tu ordenador (por ejemplo, una película) ¿Cuánto tiempo le lleva?"
   ]
  },
  {
   "cell_type": "markdown",
   "id": "e130259f",
   "metadata": {},
   "source": [
    "# Firma Digital"
   ]
  },
  {
   "cell_type": "markdown",
   "id": "comparative-concert",
   "metadata": {},
   "source": [
    "Vamos a aprovechar lo que ya sabemos de cifrado asimétrico y hashes para ver cómo funciona una firma digital."
   ]
  },
  {
   "cell_type": "markdown",
   "id": "refined-cassette",
   "metadata": {},
   "source": [
    "## Alice firma un documento"
   ]
  },
  {
   "cell_type": "code",
   "execution_count": null,
   "id": "dedicated-magic",
   "metadata": {},
   "outputs": [],
   "source": [
    "document = b\"\"\"Cryptographic hash functions take arbitrary binary strings as input,\n",
    "and produce a random-like fixed-length output (called digest or hash value).\n",
    "\n",
    "It is practically infeasible to derive the original input data from the digest. In other\n",
    "words, the cryptographic hash function is one-way (pre-image resistance).\n",
    "\n",
    "Given the digest of one message, it is also practically infeasible to find another\n",
    "message (second pre-image) with the same digest (weak collision resistance).\n",
    "\n",
    "Finally, it is infeasible to find two arbitrary messages with the same digest\n",
    "(strong collision resistance).\n",
    "\n",
    "Regardless of the hash algorithm, an n bits long digest is at most as secure as a\n",
    "symmetric encryption algorithm keyed with n/2 bits (birthday attack).\n",
    "\n",
    "Hash functions can be simply used as integrity checks. In combination with a\n",
    "public-key algorithm, you can implement a digital signature.\"\"\""
   ]
  },
  {
   "cell_type": "markdown",
   "id": "healthy-works",
   "metadata": {},
   "source": [
    "Vamos a generar un par de claves RSA para Alice: una pública `alice_pk` y otra privada `alice_sk`. Recuerda: la clave pública la conoce todo el mundo, la clave privada solo la conoce Alice. Ya veremos cómo se distribuye esa clave pública.\n",
    "\n",
    "NOTA: En un entorno real esto se hace mucho antes de firmar: ¡el par de claves debería estar preparado y la clave pública distribuida desde meses antes de la firma! Veremos esto en el tema de PKI"
   ]
  },
  {
   "cell_type": "code",
   "execution_count": null,
   "id": "transparent-completion",
   "metadata": {},
   "outputs": [],
   "source": [
    "# Clave de 2048 bits de Alice, pública y secreta\n",
    "from Crypto.PublicKey import RSA\n",
    "alice_sk = RSA.generate(2048) # Clave secreta de Alice\n",
    "alice_pk = alice_sk.publickey() # Clave pública de Alice"
   ]
  },
  {
   "cell_type": "markdown",
   "id": "appointed-basics",
   "metadata": {},
   "source": [
    "PyCryptodome ya incluye un módulo para firmar usando las recomendaciones PKCS1. Vamos a aprovechar el módulo, para aprender buenas costumbres y porque PyCryptodome no nos deja utilizar RSA de forma insegura.\n",
    "\n",
    "Ese módulo de firma:\n",
    "\n",
    "- Calcula el hash del documento utilizando el hasher que le pasemos (que será SHA256)\n",
    "- Cifra el hash del documento utilizando la clave privada de Alice\n",
    "- Todo lo hace siguiendo las recomendaciones PKCS1\n",
    "- La firma la codifica en base64, para que podamos verla por pantalla (esto no es necesario en realidad)\n",
    "\n",
    "Finalmente, Alice enviaría en un mensaje el documento y su firma. En realidad, lo más probable es que Alice además cifre el documento utilizando algún tipo de cifrado simétrico como AES para proteger su confidencialidad, pero vamos a obviar esa parte en este ejercicio.\n",
    "\n",
    "NOTA: dado que se necesita la clave privada de Alice para firmar, **solamente Alice puede generar esta firma de este documento ya que solamente ella conoce su clave privada**."
   ]
  },
  {
   "cell_type": "code",
   "execution_count": null,
   "id": "sixth-eugene",
   "metadata": {},
   "outputs": [],
   "source": [
    "from Crypto.Signature import pkcs1_15\n",
    "from base64 import b64encode, b64decode\n",
    "\n",
    "hasher = SHA256.new(data=document)\n",
    "signature = pkcs1_15.new(alice_sk).sign(hasher)\n",
    "\n",
    "msg = dict(document=document, signature=b64encode(signature))\n",
    "print(msg)"
   ]
  },
  {
   "cell_type": "markdown",
   "id": "moral-exclusive",
   "metadata": {},
   "source": [
    "Pregunta:\n",
    "\n",
    "- ¿Por qué crees que Alice cifra **solamente** el hash del mensaje con RSA, en vez de cifrar directamente **todo** el mensaje con RSA?"
   ]
  },
  {
   "cell_type": "markdown",
   "id": "rural-holly",
   "metadata": {},
   "source": [
    "## Bob verifica la firma de Alice\n",
    "\n",
    "Bob recibe el mensaje `msg`, que incluye el documento y la firma de Alice, y ya conoce la clave pública de alice `alice_pk` de alguna manera (ver tema PKI)\n",
    "\n",
    "Así que Bob hace el proceso inverso:\n",
    "\n",
    "- Calcula el hash SHA256 del documento recibido\n",
    "- Decodifica el base64 y descifra la firma recibida utilizando la clave pública de Alice\n",
    "- Todo lo hace siguiendo las recomendaciones PKCS1\n",
    "\n",
    "Como curiosidad, la librería PyCryptodome lanza un error cuando la firma no es válida, y no hace nada si es correcta.\n",
    "\n",
    "Si la verificación de la firma con la clave pública de Alice es correcta, entonces **Bob sabe que el documento lo ha enviado Alice, y no puede haberlo enviado nadie más**."
   ]
  },
  {
   "cell_type": "code",
   "execution_count": null,
   "id": "military-devil",
   "metadata": {},
   "outputs": [],
   "source": [
    "rcv_document = msg['document']\n",
    "rcv_signature = b64decode(msg['signature'])\n",
    "\n",
    "pkcs1_15.new(alice_pk).verify(SHA256.new(data=rcv_document), rcv_signature)\n",
    "print(\"La firma es válida\")"
   ]
  },
  {
   "cell_type": "markdown",
   "id": "different-garage",
   "metadata": {},
   "source": [
    "¿Qué pasa si un atacante intercepta el mensaje y cambia el documento? Aquí vemos un ejemplo: el atacante ha interceptado el documento y ha puesto información falsa. ¿Puedes identificar qué parte del documento ha cambiado el atacante?\n",
    "\n",
    "Observa que ahora la firma de Alice no verifica y la función lanza un error."
   ]
  },
  {
   "cell_type": "code",
   "execution_count": null,
   "id": "imposed-breakdown",
   "metadata": {},
   "outputs": [],
   "source": [
    "rcv_document = b\"\"\"Cryptographic hash functions take arbitrary binary strings as input,\n",
    "and produce a random-like fixed-length output (called digest or hash value).\n",
    "\n",
    "It is practically infeasible to derive the original input data from the digest. In other\n",
    "words, the cryptographic hash function is one-way (pre-image resistance).\n",
    "\n",
    "Given the digest of one message, it is also practically infeasible to find another\n",
    "message (second pre-image) with the same digest (weak collision resistance).\n",
    "\n",
    "Finally, it is infeasible to find two arbitrary messages with the same digest\n",
    "(strong collision resistance).\n",
    "\n",
    "Regardless of the hash algorithm, an n bits long digest is at most as secure as a\n",
    "symmetric encryption algorithm keyed with n/3 bits (birthday attack).\n",
    "\n",
    "Hash functions can be simply used as integrity checks. In combination with a\n",
    "public-key algorithm, you can implement a digital signature.\"\"\"\n",
    "\n",
    "pkcs1_15.new(alice_pk).verify(SHA256.new(data=rcv_document), rcv_signature)\n",
    "print(\"La firma es válida\")"
   ]
  },
  {
   "cell_type": "markdown",
   "id": "british-congress",
   "metadata": {},
   "source": [
    "Podemos gestionar los errores con un `try/except` e informar al usuario."
   ]
  },
  {
   "cell_type": "code",
   "execution_count": null,
   "id": "european-butler",
   "metadata": {},
   "outputs": [],
   "source": [
    "try:\n",
    "    pkcs1_15.new(alice_pk).verify(SHA256.new(data=rcv_document), rcv_signature)\n",
    "    print(\"La firma es válida\")\n",
    "except ValueError:\n",
    "    print(\"La firma NO es válida\")"
   ]
  },
  {
   "cell_type": "code",
   "execution_count": null,
   "id": "3bf823ef",
   "metadata": {},
   "outputs": [],
   "source": []
  }
 ],
 "metadata": {
  "kernelspec": {
   "display_name": "Python 3 (ipykernel)",
   "language": "python",
   "name": "python3"
  },
  "language_info": {
   "codemirror_mode": {
    "name": "ipython",
    "version": 3
   },
   "file_extension": ".py",
   "mimetype": "text/x-python",
   "name": "python",
   "nbconvert_exporter": "python",
   "pygments_lexer": "ipython3",
   "version": "3.9.15"
  }
 },
 "nbformat": 4,
 "nbformat_minor": 5
}
