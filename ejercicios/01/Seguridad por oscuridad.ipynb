{
 "cells": [
  {
   "cell_type": "markdown",
   "id": "scenic-lounge",
   "metadata": {
    "id": "scenic-lounge"
   },
   "source": [
    "# Seguridad por oscuridad: introducción al criptoanálisis"
   ]
  },
  {
   "cell_type": "markdown",
   "id": "sapphire-dublin",
   "metadata": {
    "id": "sapphire-dublin"
   },
   "source": [
    "Varias editoriales de todo el mundo han publicado una línea de cuentos infantiles en forma de coleccionable por entregas. El producto de ambas es similar: venden un altavoz y unas figuras coleccionables, y el cuento asociado a una figura suena cuando se acerca la figura al altavoz.\n",
    "\n",
    "En algunos de estos productos, los cuentos se guardan en una tarjeta SD en el altavoz. El cuento no está en la figura porque eso provocaría que las figuras fuesen demasiado caras. Las figuras tienen etiquetas NFC o RFID pasivas con un identificador, que desbloquean el cuento que está en el altavoz. Una de las editoriales, para evitar que se pueda acceder a los cuentos sin comprar la figura, ha decidido cifrar los archivos de audio...pero han confiado en la seguridad por oscuridad\n",
    "\n",
    "¿Podremos desbloquear los cuentos que están en el altavoz sin tener que comprar las figuras coleccionables?\n",
    "\n",
    "![](https://github.com/Juanvvc/crypto/blob/master/ejercicios/01/images/caperu.jpg?raw=1)\n",
    "\n",
    "**Atención**: este producto y el protocolo que usa la editorial es real. Lo único que no es real es la contraseña que utiliza la editorial para proteger sus cuentos, pero se puede obtener tal y como se describe en este ejercicio."
   ]
  },
  {
   "cell_type": "markdown",
   "id": "interpreted-holocaust",
   "metadata": {
    "id": "interpreted-holocaust"
   },
   "source": [
    "Vamos a analizar el sistema de cifrado que se utiliza en los audiocuentos.\n",
    "\n",
    "La clase HexView que está a continuación es simplemente una forma sencilla de mostrar el contenido de un archivo en hexadecimal en estos notebook. Podrías también ejecutar un hexdump en línea de comandos. No es importante que entiendas esta clase, simplemente ejecútala (MAYÚSCULAS+ENTER) porque la usaremos después"
   ]
  },
  {
   "cell_type": "code",
   "execution_count": null,
   "id": "spoken-tiffany",
   "metadata": {
    "id": "spoken-tiffany"
   },
   "outputs": [],
   "source": [
    "import os\n",
    "\n",
    "class HexViewer():\n",
    "    def __init__(self, filename, bs=16, count=32):\n",
    "        self.filename = filename\n",
    "        self.bs = bs\n",
    "        self.count = count\n",
    "    def get_blocks(self, offset=0):\n",
    "        assert self.filename\n",
    "        with open(self.filename, \"rb\") as file:\n",
    "            try:\n",
    "                file.seek(offset, os.SEEK_SET)\n",
    "                block = file.read(self.bs * self.count)\n",
    "            except ValueError: # Empty offsetSpinbox\n",
    "                return\n",
    "        rows = [block[i:i + self.bs]\n",
    "                for i in range(0, len(block), self.bs)]\n",
    "        for row in rows:\n",
    "            yield '{} - {}'.format(self.get_bytes(row), self.get_ascii(row))\n",
    "    def get_bytes(self, row):\n",
    "        output = \" \".join(map(lambda b:\"{:02X}\".format(b), row))\n",
    "        if len(row) < self.bs:\n",
    "            output += \" \" * (self.bs - len(row)) * 3\n",
    "        return output\n",
    "    def get_ascii(self, row, not_printable='.'):\n",
    "        output = []\n",
    "        for char in row.decode('ascii', errors=\"replace\"):\n",
    "            if char in \"\\u2028\\u2029\\t\\n\\r\\v\\f\\uFFFD\":\n",
    "                char = not_printable\n",
    "            elif not 0x20 <= ord(char) <= 0xFF:\n",
    "                char = not_printable\n",
    "            output.append(char)\n",
    "        return \"\".join(output)\n",
    "    def print_blocks(self, offset=0):\n",
    "        print('\\n'.join(self.get_blocks(offset)))\n",
    "        "
   ]
  },
  {
   "cell_type": "markdown",
   "id": "decreased-horror",
   "metadata": {
    "id": "decreased-horror"
   },
   "source": [
    "## ¿Cómo es un archivo MP3 real?\n",
    "\n",
    "Bien, en este enlace: https://github.com/Juanvvc/crypto/raw/master/ejercicios/01/test.mp3 puedes encontrar un archivo `test.mp3` de prueba, que nos servirá para explorar cómo es un archivo MP3 real.\n",
    "\n",
    "(Nota: el archivo MP3 original se descargó de esta web: <https://file-examples.com/index.php/sample-audio-files/sample-mp3-download/>)\n",
    "\n",
    "Que el archivo cifrado en la memoria del altavoz es un MP3 y no otro formato es una suposición razonable. Podría ser también WAV, OGG, o algún otro formato de audio. En este caso son MP3. Si no lo hubiesen sido, un adversario tardaría un poco más tratando de descubrir en qué formato está el audio, pero no demasiado más: no hay tantos formatos de audio legibles por un altavoz de bajo coste.\n",
    "\n",
    "Vamos a ver los primeros 512 bytes (32 bloques de 16 bytes) del archivo para conocer el formato que tiene un archivo MP3 de audio:"
   ]
  },
  {
   "cell_type": "code",
   "execution_count": null,
   "id": "fallen-traveler",
   "metadata": {
    "colab": {
     "base_uri": "https://localhost:8080/"
    },
    "id": "fallen-traveler",
    "outputId": "a767e60f-e8bf-42cb-8143-a641a7557f3d"
   },
   "outputs": [],
   "source": [
    "import urllib.request\n",
    "if not os.path.exists('test.mp3'): urllib.request.urlretrieve('https://github.com/Juanvvc/crypto/raw/master/ejercicios/01/test.mp3', 'test.mp3')\n",
    "HexViewer('test.mp3', bs=16, count=32).print_blocks()"
   ]
  },
  {
   "cell_type": "markdown",
   "id": "protecting-appliance",
   "metadata": {
    "id": "protecting-appliance"
   },
   "source": [
    "Observa:\n",
    "\n",
    "- El inicio de un archivo es conocido: `ID3`. Es muy común que los archivos empiecen con unas pocos letras que los identifican: DOCX, JPG, ZIP... tienen todos una cabera inicial que los identifica.\n",
    "- Los archivos MP3 como este en ocasiones tienen \"secciones de padding\", que son secciones con muchos ceros"
   ]
  },
  {
   "cell_type": "markdown",
   "id": "fewer-reminder",
   "metadata": {
    "id": "fewer-reminder"
   },
   "source": [
    "## ¿Cómo es el archivo de un cuento \"protegido\"?\n",
    "\n",
    "Veamos ahora el archivo `01.enc`. Este archivo está cifrado utilizando el mismo método que los audiocuentos que se pueden encontrar en el quiosco. Lo puedes encontrar en este enlace https://github.com/Juanvvc/crypto/raw/master/ejercicios/01/test.mp3, aunque el código de más abajo lo descarga y muestra sin que tengas que hacerlo tú.\n",
    "\n",
    "Observa:\n",
    "\n",
    "- El archivo protegido no empieza como empezaba el archivo MP3 real\n",
    "- En las partes que un MP3 tendría ceros, aquí aparece otra cadena\n",
    "\n",
    "Vamos a suponer que este archivo es un MP3 cifrado. Entonces, **sabemos** que tiene que empezar con la cadena \"ID3\" porque todos los archivos MP3 empiezan con esa cadena. Así que tenemos que encontrar una clave que descifre el inicio a la cadeba \"ID3\". Además, sabemos que es muy posible que partes del archivo descifrado contengan largas secciones con \"ceros\". Esto de conocer al menos partes de un mensaje y aprovechar el conocimiento para descifrar partes del mismo se llama \"ataque de texto en claro conocido\" ( https://en.wikipedia.org/wiki/Known-plaintext_attack ) y se usa en algunos ataques a sistemas criptográficos"
   ]
  },
  {
   "cell_type": "code",
   "execution_count": null,
   "id": "other-landing",
   "metadata": {
    "colab": {
     "base_uri": "https://localhost:8080/"
    },
    "id": "other-landing",
    "outputId": "e4b781be-0c0d-49ec-880e-042968fda225"
   },
   "outputs": [],
   "source": [
    "if not os.path.exists('01.enc'): urllib.request.urlretrieve('https://github.com/Juanvvc/crypto/raw/master/ejercicios/01/01.enc', '01.enc')\n",
    "HexViewer('01.enc', bs=16, count=32).print_blocks()"
   ]
  },
  {
   "cell_type": "markdown",
   "id": "moderate-ticket",
   "metadata": {
    "id": "moderate-ticket"
   },
   "source": [
    "Pregunta:\n",
    "\n",
    "- ¿Sabrías cómo se ha cifrado este archivo?\n",
    "- ¿Puedes crear un código para descifrarlo?"
   ]
  },
  {
   "cell_type": "markdown",
   "id": "nuclear-buying",
   "metadata": {
    "id": "nuclear-buying"
   },
   "source": [
    "Pistas:\n",
    "\n",
    "- XOR rotativo:https://en.wikipedia.org/wiki/XOR_cipher\n",
    "- https://www.mikrocontroller.net/topic/503014\n",
    "- Recomendación: utiliza la librería de Python PyCryptodome, porque la usaremos en el resto del curso: https://pycryptodome.readthedocs.io/en/latest/"
   ]
  },
  {
   "cell_type": "markdown",
   "id": "loose-shanghai",
   "metadata": {
    "id": "loose-shanghai"
   },
   "source": [
    "Desde línea de comandos podrías intentar algo así, pero la idea es que escribas tu propio código:\n",
    "    \n",
    "```\n",
    "# pip install xortool ; hash xortool-xor\n",
    "file test.mp3\n",
    "hexdump -C -n 32 test.mp3 \n",
    "hexdump -C 01.enc | less \n",
    "cat 01.enc |  xortool-xor -r \"secret\" -f - > 01.mp3\n",
    "```"
   ]
  },
  {
   "cell_type": "markdown",
   "id": "8220be43",
   "metadata": {},
   "source": [
    "## Otros ejercicios\n",
    "\n",
    "Para completar conocimientos, te recomiendo que hagas los ejercicios del \"Introducción a Cryptohack\" de <www.cryptohack.org>. Necesitarás tener conocimientos básicos de Python."
   ]
  },
  {
   "cell_type": "code",
   "execution_count": null,
   "id": "35fb2078",
   "metadata": {},
   "outputs": [],
   "source": []
  }
 ],
 "metadata": {
  "colab": {
   "name": "01 - seguridad por oscuridad.ipynb",
   "provenance": []
  },
  "kernelspec": {
   "display_name": "Python 3 (ipykernel)",
   "language": "python",
   "name": "python3"
  },
  "language_info": {
   "codemirror_mode": {
    "name": "ipython",
    "version": 3
   },
   "file_extension": ".py",
   "mimetype": "text/x-python",
   "name": "python",
   "nbconvert_exporter": "python",
   "pygments_lexer": "ipython3",
   "version": "3.9.16"
  }
 },
 "nbformat": 4,
 "nbformat_minor": 5
}
