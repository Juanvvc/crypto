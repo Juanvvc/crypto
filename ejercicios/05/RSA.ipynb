{
 "cells": [
  {
   "cell_type": "code",
   "execution_count": 1,
   "id": "appreciated-residence",
   "metadata": {},
   "outputs": [],
   "source": [
    "import random"
   ]
  },
  {
   "cell_type": "markdown",
   "id": "horizontal-public",
   "metadata": {},
   "source": [
    "# [Preparación] Algoritmos de Euclides"
   ]
  },
  {
   "cell_type": "markdown",
   "id": "bored-promotion",
   "metadata": {},
   "source": [
    "Antes de empezar necesitaremos un sistema para cálculo del máximo común divisor (mcd en castellano, gcd en inglés) de dos números, y el inverso de un número en un anillo cíclico. Ambas cosas se conocen desde hace tiempo: son dos \"algoritmos de Euclides\".\n",
    "\n",
    "No os preocupéis de entender ningún algoritmo de esta sección, simplemente ejecutadlos porque los necesitaremos para el resto de ejercicios."
   ]
  },
  {
   "cell_type": "markdown",
   "id": "modern-baseline",
   "metadata": {},
   "source": [
    "## Máximo común divisor\n",
    "\n",
    "Algoritmo de Euclides para determinar el máximo común divisor (*gcd* por sus siglas en inglés) de dos enteros a y b"
   ]
  },
  {
   "cell_type": "code",
   "execution_count": 10,
   "id": "outer-parish",
   "metadata": {},
   "outputs": [
    {
     "name": "stdout",
     "output_type": "stream",
     "text": [
      "gcd(2, 3) =  1\n",
      "gcd(20, 30) =  10\n",
      "gcd(50720, 48184) =  2536\n"
     ]
    }
   ],
   "source": [
    "def gcd(a, b):\n",
    "    while b != 0:\n",
    "        a, b = b, a % b\n",
    "    return a\n",
    "\n",
    "print('gcd(2, 3) = ', gcd(2, 3))\n",
    "print('gcd(20, 30) = ', gcd(20, 30))\n",
    "print('gcd(50720, 48184) = ', gcd(50720, 48184))\n"
   ]
  },
  {
   "cell_type": "markdown",
   "id": "multiple-triangle",
   "metadata": {},
   "source": [
    "## Inverso multiplicativos de un número en un anillo cíclico $\\mathbb{Z}_{\\phi}$\n",
    "\n",
    "Un inverso multiplicativo en un anillo cíclico en $\\phi$ de un número $a$ es un número $a^{-1}$ tal que $a * a^{-1} \\mod \\phi = 1$\n",
    "\n",
    "Recuerda que $\\mod$ es la operación módulo, es decir, divide un número entre otro y quédate solo con el resto. \n",
    "\n",
    "Por ejemplo: $(3 * 5 \\mod 7) = (15 \\mod 7) = 1$ porque 15 entre 7 son 2 (que esto no nos importa) y **de resto** 1. Por tanto 5 es el inverso de 3 en $\\mathbb{Z}_{7}$"
   ]
  },
  {
   "cell_type": "code",
   "execution_count": 4,
   "id": "bright-episode",
   "metadata": {},
   "outputs": [
    {
     "name": "stdout",
     "output_type": "stream",
     "text": [
      "3^{-1} mod 7 =  5\n",
      "3^{-1} mod 10 =  7\n",
      "2^{-1} mod 10 =  None\n",
      "25^{-1} mod 119 =  100\n"
     ]
    }
   ],
   "source": [
    "def multiplicative_inverse(e, phi):\n",
    "    d = 0\n",
    "    x1 = 0\n",
    "    x2 = 1\n",
    "    y1 = 1\n",
    "    temp_phi = phi\n",
    "    \n",
    "    while e > 0:\n",
    "        temp1 = temp_phi // e\n",
    "        temp2 = temp_phi - temp1 * e\n",
    "        temp_phi = e\n",
    "        e = temp2\n",
    "        \n",
    "        x = x2 - temp1 * x1\n",
    "        y = d - temp1 * y1\n",
    "        \n",
    "        x2 = x1\n",
    "        x1 = x\n",
    "        d = y1\n",
    "        y1 = y\n",
    "\n",
    "    if temp_phi == 1:\n",
    "        return d + phi\n",
    "    # no inverse: return None\n",
    "    return None\n",
    "\n",
    "print('3^{-1} mod 7 = ', multiplicative_inverse(3, 7))\n",
    "print('3^{-1} mod 10 = ', multiplicative_inverse(3, 10))\n",
    "print('2^{-1} mod 10 = ', multiplicative_inverse(2, 10))\n",
    "print('25^{-1} mod 119 = ', multiplicative_inverse(25, 119))"
   ]
  },
  {
   "cell_type": "markdown",
   "id": "edd2b73b",
   "metadata": {},
   "source": [
    "## Test de si un número es primo\n",
    "\n",
    "Algoritmo de testeo muy ineficiente de si un número es primo, pero que nos servirá en nuestros ejercicios porque usaramos números pequeñose."
   ]
  },
  {
   "cell_type": "code",
   "execution_count": 5,
   "id": "least-eligibility",
   "metadata": {},
   "outputs": [
    {
     "name": "stdout",
     "output_type": "stream",
     "text": [
      "2:  True\n",
      "5:  True\n",
      "19:  True\n",
      "25:  False\n",
      "222:  False\n",
      "314:  False\n",
      "317:  True\n"
     ]
    }
   ],
   "source": [
    "def is_prime(num):\n",
    "    if num == 2:\n",
    "        return True\n",
    "    if num < 2 or num % 2 == 0:\n",
    "        return False\n",
    "    for n in range(3, int(num**0.5) + 2, 2):\n",
    "        if num % n == 0:\n",
    "            return False\n",
    "    return True\n",
    "\n",
    "for i in [2, 5, 19, 25, 222, 314, 317]:\n",
    "    print(f'{i}: ', is_prime(i))"
   ]
  },
  {
   "cell_type": "markdown",
   "id": "fifty-deadline",
   "metadata": {},
   "source": [
    "# RSA\n",
    "\n",
    "Bien, ya tenemos todo lo necesario para poder hacer los ejercicios.\n",
    "\n",
    "RSA es un algoritmo de cifrado asimétrico. Es decir, tiene dos claves: una para cifrar y otra diferente para descifrar. Puede usarse tanto para cifrar una información como para firmar digitalmente un documento.\n",
    "\n",
    "RSA está compuestos por dos funciones sencillas:\n",
    "\n",
    "- Una función que genera el par de claves necesario. Da como resultado dos claves, una se podrá hacer pública y la otra tiene que permanecer siempre privada.\n",
    "- Una función que cifra, que es la misma función que para descifrar pero usando la otra clave."
   ]
  },
  {
   "cell_type": "markdown",
   "id": "58a88d4c",
   "metadata": {},
   "source": [
    "Aquí vemos los dos algoritmos. Fíjate qué sencilla es la función para cifrar o descifrar."
   ]
  },
  {
   "cell_type": "code",
   "execution_count": 24,
   "id": "ranging-portable",
   "metadata": {},
   "outputs": [],
   "source": [
    "import random\n",
    "\n",
    "def generate_keypair(p, q):\n",
    "    if not (is_prime(p) and is_prime(q)):\n",
    "        raise ValueError('Both numbers must be prime.')\n",
    "    elif p == q:\n",
    "        raise ValueError('p and q cannot be equal')\n",
    "    #n = pq\n",
    "    n = p * q\n",
    "\n",
    "    #Phi is the totient of n\n",
    "    phi = (p - 1) * (q - 1)\n",
    "\n",
    "    # Choose an integer e such that e and phi(n) are coprime\n",
    "    e = random.randrange(1, phi)\n",
    "\n",
    "    # Use Euclid's Algorithm to verify that e and phi(n) are coprime\n",
    "    g = gcd(e, phi)\n",
    "    while g != 1:\n",
    "        e = random.randrange(1, phi)\n",
    "        g = gcd(e, phi)\n",
    "\n",
    "    #Use Extended Euclid's Algorithm to generate the private key\n",
    "    d = multiplicative_inverse(e, phi)\n",
    "    \n",
    "    #Return public and private keypair\n",
    "    #Public key is (e, n) and private key is (d, n)\n",
    "    return ((e, n), (d, n))\n",
    "\n",
    "def encrypt(pk, number):\n",
    "    # Unpack the key into it's components\n",
    "    key, n = pk\n",
    "    return (number ** key) % n\n",
    "\n",
    "# The decrypt function is exactly the same than the encrypt function\n",
    "decrypt = encrypt"
   ]
  },
  {
   "cell_type": "markdown",
   "id": "8b5cb6b0",
   "metadata": {},
   "source": [
    " En los ejemplos usaremos como parámetros de configuración 17 y 23, dos números primos que simplemente sirven para configurar el algoritmo inicialmente. Cuanto más grandes sean, mayor será el tamaño en bits de la clave. Como estamos usando algoritmos poco eficientes para aprender, no uses números demasiado altos."
   ]
  },
  {
   "cell_type": "code",
   "execution_count": 25,
   "id": "electoral-hypothetical",
   "metadata": {},
   "outputs": [
    {
     "name": "stdout",
     "output_type": "stream",
     "text": [
      "Clave pública pk=(e, n): (23, 391)\n",
      "Clave privada o secreta sk=(d, n): (199, 391)\n"
     ]
    }
   ],
   "source": [
    "pk, sk = generate_keypair(17, 23)\n",
    "print(f'Clave pública pk=(e, n): {pk}')\n",
    "print(f'Clave privada o secreta sk=(d, n): {sk}')"
   ]
  },
  {
   "cell_type": "markdown",
   "id": "backed-burns",
   "metadata": {},
   "source": [
    "Fíjate: si generamos otro par de claves, aunque usemos los mismos primos, obtendremos unas claves diferentes. Eso es porque el parámetro $e$ se escoge al azar"
   ]
  },
  {
   "cell_type": "code",
   "execution_count": 38,
   "id": "dressed-chaos",
   "metadata": {},
   "outputs": [
    {
     "name": "stdout",
     "output_type": "stream",
     "text": [
      "Clave pública pk=(e, n): (29, 391)\n",
      "Clave privada o secreta sk=(d, n): (437, 391)\n"
     ]
    }
   ],
   "source": [
    "pk, sk = generate_keypair(17, 23)\n",
    "print(f'Clave pública pk=(e, n): {pk}')\n",
    "print(f'Clave privada o secreta sk=(d, n): {sk}')"
   ]
  },
  {
   "cell_type": "markdown",
   "id": "fabulous-strap",
   "metadata": {},
   "source": [
    "Vamos a intentar cifrar un texto sencillo:"
   ]
  },
  {
   "cell_type": "code",
   "execution_count": 37,
   "id": "centered-miracle",
   "metadata": {},
   "outputs": [
    {
     "ename": "TypeError",
     "evalue": "unsupported operand type(s) for ** or pow(): 'str' and 'int'",
     "output_type": "error",
     "traceback": [
      "\u001b[0;31m---------------------------------------------------------------------------\u001b[0m",
      "\u001b[0;31mTypeError\u001b[0m                                 Traceback (most recent call last)",
      "Input \u001b[0;32mIn [37]\u001b[0m, in \u001b[0;36m<module>\u001b[0;34m\u001b[0m\n\u001b[0;32m----> 1\u001b[0m \u001b[38;5;28mprint\u001b[39m(\u001b[43mencrypt\u001b[49m\u001b[43m(\u001b[49m\u001b[43mpk\u001b[49m\u001b[43m,\u001b[49m\u001b[43m \u001b[49m\u001b[38;5;124;43m'\u001b[39;49m\u001b[38;5;124;43mhola\u001b[39;49m\u001b[38;5;124;43m'\u001b[39;49m\u001b[43m)\u001b[49m)\n",
      "Input \u001b[0;32mIn [24]\u001b[0m, in \u001b[0;36mencrypt\u001b[0;34m(pk, number)\u001b[0m\n\u001b[1;32m     30\u001b[0m \u001b[38;5;28;01mdef\u001b[39;00m \u001b[38;5;21mencrypt\u001b[39m(pk, number):\n\u001b[1;32m     31\u001b[0m     \u001b[38;5;66;03m# Unpack the key into it's components\u001b[39;00m\n\u001b[1;32m     32\u001b[0m     key, n \u001b[38;5;241m=\u001b[39m pk\n\u001b[0;32m---> 33\u001b[0m     \u001b[38;5;28;01mreturn\u001b[39;00m (\u001b[43mnumber\u001b[49m\u001b[43m \u001b[49m\u001b[38;5;241;43m*\u001b[39;49m\u001b[38;5;241;43m*\u001b[39;49m\u001b[43m \u001b[49m\u001b[43mkey\u001b[49m) \u001b[38;5;241m%\u001b[39m n\n",
      "\u001b[0;31mTypeError\u001b[0m: unsupported operand type(s) for ** or pow(): 'str' and 'int'"
     ]
    }
   ],
   "source": [
    "print(encrypt(pk, 'hola'))"
   ]
  },
  {
   "cell_type": "markdown",
   "id": "described-tumor",
   "metadata": {},
   "source": [
    "No podemos: RSA solo puede cifrar enteros. Una posibilidad es codificar el mensaje como un conjunto de enteros"
   ]
  },
  {
   "cell_type": "code",
   "execution_count": 39,
   "id": "elegant-database",
   "metadata": {},
   "outputs": [
    {
     "name": "stdout",
     "output_type": "stream",
     "text": [
      "mensaje = [104, 111, 108, 97]\n",
      "cifrado = [338, 314, 248, 201]\n"
     ]
    }
   ],
   "source": [
    "msg = [ord(c) for c in 'hola']\n",
    "print(f'mensaje = {msg}')\n",
    "\n",
    "c = [encrypt(pk, m) for m in msg]\n",
    "print(f'cifrado = {c}')"
   ]
  },
  {
   "cell_type": "markdown",
   "id": "brave-thesis",
   "metadata": {},
   "source": [
    "¿Qué pasa si intentamos cifrar varias veces lo mismo?"
   ]
  },
  {
   "cell_type": "code",
   "execution_count": 40,
   "id": "electric-victorian",
   "metadata": {},
   "outputs": [
    {
     "name": "stdout",
     "output_type": "stream",
     "text": [
      "[201, 201, 201, 201]\n"
     ]
    }
   ],
   "source": [
    "print([encrypt(pk, ord(c)) for c in 'aaaa'])"
   ]
  },
  {
   "cell_type": "markdown",
   "id": "sexual-multiple",
   "metadata": {},
   "source": [
    "El texto cifrado es siempre igual. Pocas veces querremos eso. RSA debe usarse siguiendo recomendaciones como PKCS#1. Lo veremos un poco más abajo."
   ]
  },
  {
   "cell_type": "markdown",
   "id": "focused-hygiene",
   "metadata": {},
   "source": [
    "# (semi) Homorfismo\n",
    "\n",
    "RSA es semihomomórfico con la multiplicación: se pueden hacer cálculos con los números cifrados, aunque no sepas lo que son ni qué resultado tienes. Al descifrar, el resultado es correcto. Más detalles: https://ciberseguridad.com/guias/prevencion-proteccion/criptografia/cifrado-homomorfico/\n",
    "\n",
    "Por ejemplo, vamos a multiplicar los mensajes cifrados c1 y c2, que son los cifrados de 5 y 2 respectivamente"
   ]
  },
  {
   "cell_type": "code",
   "execution_count": 41,
   "id": "german-disabled",
   "metadata": {},
   "outputs": [
    {
     "name": "stdout",
     "output_type": "stream",
     "text": [
      "encrypt(pk, 5) = 224\n",
      "decrypt(sk, 224) = 5\n"
     ]
    }
   ],
   "source": [
    "m1 = 5\n",
    "c1 = encrypt(pk, m1)\n",
    "print(f'encrypt(pk, {m1}) = {c1}')\n",
    "print(f'decrypt(sk, {c1}) = {decrypt(sk, c1)}')\n"
   ]
  },
  {
   "cell_type": "code",
   "execution_count": 42,
   "id": "continued-excitement",
   "metadata": {},
   "outputs": [
    {
     "name": "stdout",
     "output_type": "stream",
     "text": [
      "encrypt(pk, 2) = 151\n",
      "decrypt(sk, 151) = 2\n"
     ]
    }
   ],
   "source": [
    "m2 = 2\n",
    "c2 = encrypt(pk, m2)\n",
    "print(f'encrypt(pk, {m2}) = {c2}')\n",
    "print(f'decrypt(sk, {c2}) = {decrypt(sk, c2)}')"
   ]
  },
  {
   "cell_type": "code",
   "execution_count": 43,
   "id": "shaped-merchant",
   "metadata": {},
   "outputs": [
    {
     "name": "stdout",
     "output_type": "stream",
     "text": [
      "c1 = 224; c2 = 151; cm = 33824\n"
     ]
    }
   ],
   "source": [
    "cm = c1 * c2\n",
    "print(f\"c1 = {c1}; c2 = {c2}; cm = {cm}\")"
   ]
  },
  {
   "cell_type": "markdown",
   "id": "universal-hopkins",
   "metadata": {},
   "source": [
    "Un atacante no sabe cuánto vale c1 ni c2, ni sabe qué valor tiene cm, pero sabe que, sea lo que sea, ha multiplicado c1 y c2 y cuando se descifre el resultado va a ser correcto"
   ]
  },
  {
   "cell_type": "code",
   "execution_count": 44,
   "id": "overhead-machinery",
   "metadata": {},
   "outputs": [
    {
     "name": "stdout",
     "output_type": "stream",
     "text": [
      "decrypt(sk, c1 * c2) = m1 * m2 = 5 * 2 = 10\n"
     ]
    }
   ],
   "source": [
    "print(f'decrypt(sk, c1 * c2) = m1 * m2 = {m1} * {m2} = {decrypt(sk, cm)}')"
   ]
  },
  {
   "cell_type": "markdown",
   "id": "enhanced-percentage",
   "metadata": {},
   "source": [
    "Según la utilidad, el semihomorfismo puede ser útil o no:\n",
    "\n",
    "- Sistemas PET (private enhanced technologies) necesitas calcular sin descifrar. Por ejemplo, voto electrónico\n",
    "- Pero en general no querremos que un atacante pueda multiplicar una orden de pago por otro número y que el resultado sea válido: recomendaciones PKCS#1"
   ]
  },
  {
   "cell_type": "markdown",
   "id": "convenient-month",
   "metadata": {},
   "source": [
    "# PyCryptoDome\n",
    "\n",
    "La función de arriba es para jugar y solo sirve para ver cómo funciona RSA a alto nivel.\n",
    "\n",
    "Vamos a usar PyCrytoDome, que incluye una librería RSA real.\n",
    "\n",
    "Mide cuánto tiempo necesitamos para generar las claves ya más útiles de 2048 y 4096 bits. Prueba a generar claves mayores, de 16384 bits, por ejemplo, que es similar en seguridad al cifrado AES de 256 bits."
   ]
  },
  {
   "cell_type": "code",
   "execution_count": 47,
   "id": "assisted-operation",
   "metadata": {},
   "outputs": [
    {
     "name": "stdout",
     "output_type": "stream",
     "text": [
      "Requirement already satisfied: pycryptodome in /opt/homebrew/lib/python3.10/site-packages (3.16.0)\n",
      "\n",
      "\u001b[1m[\u001b[0m\u001b[34;49mnotice\u001b[0m\u001b[1;39;49m]\u001b[0m\u001b[39;49m A new release of pip available: \u001b[0m\u001b[31;49m22.3.1\u001b[0m\u001b[39;49m -> \u001b[0m\u001b[32;49m23.0.1\u001b[0m\n",
      "\u001b[1m[\u001b[0m\u001b[34;49mnotice\u001b[0m\u001b[1;39;49m]\u001b[0m\u001b[39;49m To update, run: \u001b[0m\u001b[32;49mpython3.10 -m pip install --upgrade pip\u001b[0m\n"
     ]
    },
    {
     "data": {
      "text/plain": [
       "RsaKey(n=19227684348512345612905215650886043319804933581591615633871384896022541696028772023112508222986278664678404477596348833232132906258491555543084791068172171135337230102621557343805031544848392532615225263664453712641690125868083980508557468463829620687602118724535738719909249868335295328071981418013052342111878725431408330447957041993642105556025292959800980284261240758415992875139286631276056635637392281987816458075319380007249962258067902584363995316803574164006800412036088347313922035317736408610950140596603998849631133991286684250492633039097074390773083709171029332917273871279205986916150744337942828806477, e=65537, d=954142455642159899356138448499166789496400682000491314991868037587133619468415878274853321927896342483049540898875329414067904135124549804721540321022840978795274351365016322712532819970974878030529549643418947298923507398019242849239060586983198774425592013345809414634962419907397393168918761945386296676238003536926514036386332659369238822608180444129394836290032689163409277531150210087400441870706247905289600709777310548328198167863786581849258731381319771836223653727003792837019391647745607121955157884913101384809453419833118321078496393774693544982274525218296878953126811528627631837308645671099553442737, p=127851118709285654560841752921783376786151219013153060405785991898868465803760999294436240426907798117949416387558202805574697164439211806715822908504836454795797079391443604197276237141428594373146150437810763793229693680006401642496627143557873208745153004497478029129250453917827657789789833207558351929253, q=150391209264529218348462784537734760408929543716700471657472185765106629939535886120513617509318481009528427927701032250375580782465164549598707084093063373076962561577157148848289357725847960616656493934670878025829878139721913702593017684968169298410857299487822029165646997389563915846486967191415143414409, u=19044805035027143146850283880069662819617167422793366866075509792729373204843148595091960726284305024481284449419112728700105771526253939105968880012116330056844409686469241992972937416738228637874163908817841295854228103770008979143834738284207498525251024343353715074985719797627188874050331490714660552586)"
      ]
     },
     "execution_count": 47,
     "metadata": {},
     "output_type": "execute_result"
    }
   ],
   "source": [
    "!python3 -m pip install pycryptodome\n",
    "\n",
    "# Clave de 2048 bits\n",
    "from Crypto.PublicKey import RSA\n",
    "key2048 = RSA.generate(2048)\n",
    "key2048"
   ]
  },
  {
   "cell_type": "code",
   "execution_count": null,
   "id": "corrected-handbook",
   "metadata": {},
   "outputs": [],
   "source": [
    "key4096 = RSA.generate(16384)\n",
    "key4096"
   ]
  },
  {
   "cell_type": "markdown",
   "id": "patient-speech",
   "metadata": {},
   "source": [
    "# Ejercicios\n",
    "\n",
    "Hemos visto cómo crear claves con PyCryptoDrome, pero no cómo usarlo para cifrar o descifrar.\n",
    "\n",
    "Recuerda de las transparencias que no es recomendable utilizar RSA \"de forma pura\", es decir, sin tener en cuenta muchas consideraciones sobre padding, conversiones, longitudes... que se recogen en [PKCS#1](https://en.wikipedia.org/wiki/PKCS_1). De hecho, PyCryptoDome no nos va a dejar utilizar el cifrado y descifrado directamente.\n",
    "\n",
    "Observa que la línea siguiente da un error, avisando que uses el módulo  `Crypto.Cipher.PKCS1_OAEP`"
   ]
  },
  {
   "cell_type": "code",
   "execution_count": 19,
   "id": "united-museum",
   "metadata": {},
   "outputs": [
    {
     "ename": "NotImplementedError",
     "evalue": "Use module Crypto.Cipher.PKCS1_OAEP instead",
     "output_type": "error",
     "traceback": [
      "\u001b[0;31m---------------------------------------------------------------------------\u001b[0m",
      "\u001b[0;31mNotImplementedError\u001b[0m                       Traceback (most recent call last)",
      "Input \u001b[0;32mIn [19]\u001b[0m, in \u001b[0;36m<module>\u001b[0;34m\u001b[0m\n\u001b[0;32m----> 1\u001b[0m \u001b[43mkey2048\u001b[49m\u001b[38;5;241;43m.\u001b[39;49m\u001b[43mencrypt\u001b[49m\u001b[43m(\u001b[49m\u001b[38;5;124;43mb\u001b[39;49m\u001b[38;5;124;43m'\u001b[39;49m\u001b[38;5;124;43mhola\u001b[39;49m\u001b[38;5;124;43m'\u001b[39;49m\u001b[43m,\u001b[49m\u001b[43m \u001b[49m\u001b[38;5;28;43;01mNone\u001b[39;49;00m\u001b[43m)\u001b[49m\n",
      "File \u001b[0;32m/opt/homebrew/lib/python3.9/site-packages/Crypto/PublicKey/RSA.py:379\u001b[0m, in \u001b[0;36mRsaKey.encrypt\u001b[0;34m(self, plaintext, K)\u001b[0m\n\u001b[1;32m    378\u001b[0m \u001b[38;5;28;01mdef\u001b[39;00m \u001b[38;5;21mencrypt\u001b[39m(\u001b[38;5;28mself\u001b[39m, plaintext, K):\n\u001b[0;32m--> 379\u001b[0m     \u001b[38;5;28;01mraise\u001b[39;00m \u001b[38;5;167;01mNotImplementedError\u001b[39;00m(\u001b[38;5;124m\"\u001b[39m\u001b[38;5;124mUse module Crypto.Cipher.PKCS1_OAEP instead\u001b[39m\u001b[38;5;124m\"\u001b[39m)\n",
      "\u001b[0;31mNotImplementedError\u001b[0m: Use module Crypto.Cipher.PKCS1_OAEP instead"
     ]
    }
   ],
   "source": [
    "key2048.encrypt(b'hola', None)"
   ]
  },
  {
   "cell_type": "markdown",
   "id": "macro-farmer",
   "metadata": {},
   "source": [
    "**Aunque no se debe**, vamos a utilizar la función `_encrypt()`, que no está documentada pero la puedes encontrar en el código: https://github.com/Legrandin/pycryptodome/blob/master/lib/Crypto/PublicKey/RSA.py#L147"
   ]
  },
  {
   "cell_type": "code",
   "execution_count": 18,
   "id": "quick-delay",
   "metadata": {},
   "outputs": [
    {
     "name": "stdout",
     "output_type": "stream",
     "text": [
      "Cifrado: 10283644035387406808090093039379336170236811409579305519990899975943492837953240810693478045731816113599744677338249835608819177402646578683657880000245032029824733824053379706225221449749089351992202068237017268982431780082529701497492940112802734570593977889830136302202367862567040155970733883651667901995332250788449987995771894091253725069719180239209062109690441973737726864948350166705667163379780216433298345886352896831909803940088273159646544162997678475140330129508335990967468467048730943124935320865613135393861906374548234032551806888147949495767548265549131518317881335880307148866336588943391188471731\n",
      "Descifrado: 15\n"
     ]
    }
   ],
   "source": [
    "c = key2048._encrypt(15)\n",
    "d = key2048._decrypt(c)\n",
    "print(f\"Cifrado: {c}\")\n",
    "print(f\"Descifrado: {d}\")"
   ]
  },
  {
   "cell_type": "markdown",
   "id": "polish-session",
   "metadata": {},
   "source": [
    "Usando estas funciones `_encrypt()` y `_decrypt()` para cifrar cadenas:\n",
    "\n",
    "1. Una posibilidad es cifrar cada caracter por separado y cifrarlos también por separado, como hemos hecho antes. ¿Cuándo ocupa el cifrado, en bytes?\n",
    "1. Otra posibilidad es codificar la cadena como un enorme entero, es decir, cada caracter representa un byte de un número entero: `msg = int.from_bytes(b\"hola mundo\", \"big\")` ¿Cuánto ocupa el cifrado, en bytes?\n",
    "1. ¿Puedes probar el método anterior para cifrar una cadena realmente larga, como `msg = int.from_bytes(b\"hola mundo\" * 1000, \"big\")` ? ¿Por qué crees que no funciona? ¿Cómo lo harías?"
   ]
  },
  {
   "cell_type": "markdown",
   "id": "documented-hepatitis",
   "metadata": {},
   "source": [
    "Vamos a hacer las cosas bien: cifra `\"hola mundo\"` y `\"hola mundo\" * 1000` usando PKCS1. Encontrarás en ejemplo en la documentación de pyCryptoDome: https://pycryptodome.readthedocs.io/en/latest/src/cipher/oaep.html"
   ]
  },
  {
   "cell_type": "markdown",
   "id": "ordinary-devil",
   "metadata": {},
   "source": [
    "## Cifrado híbrido\n",
    "\n",
    "En el tema de TLS veremos un cifrado híbrido: ciframos con RSA la clave AES que usamos para cifrar el texto.\n",
    "1. Bob: Crea par de claves RSA\n",
    "1. Alice: Crea clave simétrica AES. Cifra la clave AES con la clave pública de Bob. Envía mensaje\n",
    "1. Alice: cifra \"hola mundo\" con clave AES. Envía mensaje\n",
    "1. Bob: descifra clave AES con clave privada. Descifra mensaje de Alice\n",
    "\n",
    "Entre los ejemplos de RSA precisamente verás algo así: https://pycryptodome.readthedocs.io/en/latest/src/examples.html#encrypt-data-with-rsa\n",
    "\n",
    "- ¿Puedes hacer cifrado híbrido del mensaje \"hola mundo\"?\n",
    "- ¿Se te ocurre por qué es necesario el cifrado híbrido?"
   ]
  },
  {
   "cell_type": "code",
   "execution_count": null,
   "id": "emerging-lighter",
   "metadata": {},
   "outputs": [],
   "source": []
  }
 ],
 "metadata": {
  "kernelspec": {
   "display_name": "Python 3 (ipykernel)",
   "language": "python",
   "name": "python3"
  },
  "language_info": {
   "codemirror_mode": {
    "name": "ipython",
    "version": 3
   },
   "file_extension": ".py",
   "mimetype": "text/x-python",
   "name": "python",
   "nbconvert_exporter": "python",
   "pygments_lexer": "ipython3",
   "version": "3.9.16"
  }
 },
 "nbformat": 4,
 "nbformat_minor": 5
}
