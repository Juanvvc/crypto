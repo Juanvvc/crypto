{
 "cells": [
  {
   "cell_type": "code",
   "execution_count": null,
   "id": "appreciated-residence",
   "metadata": {},
   "outputs": [],
   "source": [
    "import random"
   ]
  },
  {
   "cell_type": "markdown",
   "id": "horizontal-public",
   "metadata": {},
   "source": [
    "# [Preparación] Algoritmos de Euclides"
   ]
  },
  {
   "cell_type": "markdown",
   "id": "bored-promotion",
   "metadata": {},
   "source": [
    "Antes de empezar necesitaremos un sistema para cálculo del máximo común divisor (mcd en castellano, gcd en inglés) de dos números, y el inverso de un número en un anillo cíclico. Ambas cosas se conocen desde hace tiempo: son dos \"algoritmos de Euclides\".\n",
    "\n",
    "No os preocupéis de entender ningún algoritmo de esta sección, simplemente ejecutadlos porque los necesitaremos para el resto de ejercicios."
   ]
  },
  {
   "cell_type": "markdown",
   "id": "modern-baseline",
   "metadata": {},
   "source": [
    "## Máximo común divisor\n",
    "\n",
    "Algoritmo de Euclides para determinar el máximo común divisor (*gcd* por sus siglas en inglés) de dos enteros a y b"
   ]
  },
  {
   "cell_type": "code",
   "execution_count": null,
   "id": "outer-parish",
   "metadata": {},
   "outputs": [],
   "source": [
    "def gcd(a, b):\n",
    "    while b != 0:\n",
    "        a, b = b, a % b\n",
    "    return a\n",
    "\n",
    "print('gcd(2, 3) = ', gcd(2, 3))\n",
    "print('gcd(20, 30) = ', gcd(20, 30))\n",
    "print('gcd(50720, 48184) = ', gcd(50720, 48184))\n"
   ]
  },
  {
   "cell_type": "markdown",
   "id": "multiple-triangle",
   "metadata": {},
   "source": [
    "## Inverso multiplicativos de un número en un anillo cíclico $\\mathbb{Z}_{\\phi}$\n",
    "\n",
    "Un inverso multiplicativo en un anillo cíclico en $\\phi$ de un número $a$ es un número $a^{-1}$ tal que $a * a^{-1} \\mod \\phi = 1$\n",
    "\n",
    "Recuerda que $\\mod$ es la operación módulo, es decir, divide un número entre otro y quédate solo con el resto. \n",
    "\n",
    "Por ejemplo: $(3 * 5 \\mod 7) = (15 \\mod 7) = 1$ porque 15 entre 7 son 2 (que esto no nos importa) y **de resto** 1. Por tanto 5 es el inverso de 3 en $\\mathbb{Z}_{7}$"
   ]
  },
  {
   "cell_type": "code",
   "execution_count": null,
   "id": "bright-episode",
   "metadata": {},
   "outputs": [],
   "source": [
    "def multiplicative_inverse(e, phi):\n",
    "    d = 0\n",
    "    x1 = 0\n",
    "    x2 = 1\n",
    "    y1 = 1\n",
    "    temp_phi = phi\n",
    "    \n",
    "    while e > 0:\n",
    "        temp1 = temp_phi // e\n",
    "        temp2 = temp_phi - temp1 * e\n",
    "        temp_phi = e\n",
    "        e = temp2\n",
    "        \n",
    "        x = x2 - temp1 * x1\n",
    "        y = d - temp1 * y1\n",
    "        \n",
    "        x2 = x1\n",
    "        x1 = x\n",
    "        d = y1\n",
    "        y1 = y\n",
    "\n",
    "    if temp_phi == 1:\n",
    "        return d + phi\n",
    "    # no inverse: return None\n",
    "    return None\n",
    "\n",
    "print('3^{-1} mod 7 = ', multiplicative_inverse(3, 7))\n",
    "print('3^{-1} mod 10 = ', multiplicative_inverse(3, 10))\n",
    "print('2^{-1} mod 10 = ', multiplicative_inverse(2, 10))\n",
    "print('25^{-1} mod 119 = ', multiplicative_inverse(25, 119))"
   ]
  },
  {
   "cell_type": "markdown",
   "id": "670dbeec",
   "metadata": {},
   "source": [
    "## Test de si un número es primo\n",
    "\n",
    "Algoritmo de testeo muy ineficiente de si un número es primo, pero que nos servirá en nuestros ejercicios porque usaramos números pequeñose."
   ]
  },
  {
   "cell_type": "code",
   "execution_count": null,
   "id": "least-eligibility",
   "metadata": {},
   "outputs": [],
   "source": [
    "def is_prime(num):\n",
    "    if num == 2:\n",
    "        return True\n",
    "    if num < 2 or num % 2 == 0:\n",
    "        return False\n",
    "    for n in range(3, int(num**0.5) + 2, 2):\n",
    "        if num % n == 0:\n",
    "            return False\n",
    "    return True\n",
    "\n",
    "for i in [2, 5, 19, 25, 222, 314, 317]:\n",
    "    print(f'{i}: ', is_prime(i))"
   ]
  },
  {
   "cell_type": "markdown",
   "id": "fifty-deadline",
   "metadata": {},
   "source": [
    "# RSA\n",
    "\n",
    "Bien, ya tenemos todo lo necesario para poder hacer los ejercicios.\n",
    "\n",
    "RSA es un algoritmo de cifrado asimétrico. Es decir, tiene dos claves: una para cifrar y otra diferente para descifrar. Puede usarse tanto para cifrar una información como para firmar digitalmente un documento.\n",
    "\n",
    "RSA está compuestos por dos funciones sencillas:\n",
    "\n",
    "- Una función que genera el par de claves necesario. Da como resultado dos claves, una se podrá hacer pública y la otra tiene que permanecer siempre privada.\n",
    "- Una función que cifra, que es la misma función que para descifrar pero usando la otra clave."
   ]
  },
  {
   "cell_type": "markdown",
   "id": "4dcb4daf",
   "metadata": {},
   "source": [
    "Aquí vemos los dos algoritmos. Fíjate qué sencilla es la función para cifrar o descifrar."
   ]
  },
  {
   "cell_type": "code",
   "execution_count": null,
   "id": "ranging-portable",
   "metadata": {},
   "outputs": [],
   "source": [
    "import random\n",
    "\n",
    "def generate_keypair(p, q):\n",
    "    if not (is_prime(p) and is_prime(q)):\n",
    "        raise ValueError('Both numbers must be prime.')\n",
    "    elif p == q:\n",
    "        raise ValueError('p and q cannot be equal')\n",
    "    #n = pq\n",
    "    n = p * q\n",
    "\n",
    "    #Phi is the totient of n\n",
    "    phi = (p - 1) * (q - 1)\n",
    "\n",
    "    # Choose an integer e such that e and phi(n) are coprime\n",
    "    e = random.randrange(1, phi)\n",
    "\n",
    "    # Use Euclid's Algorithm to verify that e and phi(n) are coprime\n",
    "    g = gcd(e, phi)\n",
    "    while g != 1:\n",
    "        e = random.randrange(1, phi)\n",
    "        g = gcd(e, phi)\n",
    "\n",
    "    #Use Extended Euclid's Algorithm to generate the private key\n",
    "    d = multiplicative_inverse(e, phi)\n",
    "    \n",
    "    #Return public and private keypair\n",
    "    #Public key is (e, n) and private key is (d, n)\n",
    "    return ((e, n), (d, n))\n",
    "\n",
    "def encrypt(pk, number):\n",
    "    # Unpack the key into it's components\n",
    "    key, n = pk\n",
    "    return (number ** key) % n\n",
    "\n",
    "# The decrypt function is exactly the same than the encrypt function\n",
    "decrypt = encrypt"
   ]
  },
  {
   "cell_type": "markdown",
   "id": "0b7a3540",
   "metadata": {},
   "source": [
    " En los ejemplos usaremos como parámetros de configuración 17 y 23, dos números primos que simplemente sirven para configurar el algoritmo inicialmente. Cuanto más grandes sean, mayor será el tamaño en bits de la clave. Como estamos usando algoritmos poco eficientes para aprender, no uses números demasiado altos."
   ]
  },
  {
   "cell_type": "code",
   "execution_count": null,
   "id": "electoral-hypothetical",
   "metadata": {},
   "outputs": [],
   "source": [
    "pk, sk = generate_keypair(17, 23)\n",
    "print(f'Clave pública pk=(e, n): {pk}')\n",
    "print(f'Clave privada o secreta sk=(d, n): {sk}')"
   ]
  },
  {
   "cell_type": "markdown",
   "id": "backed-burns",
   "metadata": {},
   "source": [
    "Fíjate: si generamos otro par de claves, aunque usemos los mismos primos, obtendremos unas claves diferentes. Eso es porque el parámetro $e$ se escoge al azar"
   ]
  },
  {
   "cell_type": "code",
   "execution_count": null,
   "id": "dressed-chaos",
   "metadata": {},
   "outputs": [],
   "source": [
    "pk, sk = generate_keypair(17, 23)\n",
    "print(f'Clave pública pk=(e, n): {pk}')\n",
    "print(f'Clave privada o secreta sk=(d, n): {sk}')"
   ]
  },
  {
   "cell_type": "markdown",
   "id": "fabulous-strap",
   "metadata": {},
   "source": [
    "Vamos a intentar cifrar un texto sencillo:"
   ]
  },
  {
   "cell_type": "code",
   "execution_count": null,
   "id": "centered-miracle",
   "metadata": {},
   "outputs": [],
   "source": [
    "print(encrypt(pk, 'hola'))"
   ]
  },
  {
   "cell_type": "markdown",
   "id": "described-tumor",
   "metadata": {},
   "source": [
    "No podemos: RSA solo puede cifrar enteros. Una posibilidad es codificar el mensaje como un conjunto de enteros"
   ]
  },
  {
   "cell_type": "code",
   "execution_count": null,
   "id": "elegant-database",
   "metadata": {},
   "outputs": [],
   "source": [
    "msg = [ord(c) for c in 'hola']\n",
    "print(f'mensaje = {msg}')\n",
    "\n",
    "c = [encrypt(pk, m) for m in msg]\n",
    "print(f'cifrado = {c}')"
   ]
  },
  {
   "cell_type": "markdown",
   "id": "brave-thesis",
   "metadata": {},
   "source": [
    "¿Qué pasa si intentamos cifrar varias veces lo mismo?"
   ]
  },
  {
   "cell_type": "code",
   "execution_count": null,
   "id": "electric-victorian",
   "metadata": {},
   "outputs": [],
   "source": [
    "print([encrypt(pk, ord(c)) for c in 'aaaa'])"
   ]
  },
  {
   "cell_type": "markdown",
   "id": "sexual-multiple",
   "metadata": {},
   "source": [
    "El texto cifrado es siempre igual. Pocas veces querremos eso. RSA debe usarse siguiendo recomendaciones como PKCS#1. Lo veremos un poco más abajo."
   ]
  },
  {
   "cell_type": "markdown",
   "id": "focused-hygiene",
   "metadata": {},
   "source": [
    "# (semi) Homorfismo\n",
    "\n",
    "RSA es semihomomórfico con la multiplicación: se pueden hacer cálculos con los números cifrados, aunque no sepas lo que son ni qué resultado tienes. Al descifrar, el resultado es correcto. Más detalles: https://ciberseguridad.com/guias/prevencion-proteccion/criptografia/cifrado-homomorfico/\n",
    "\n",
    "Por ejemplo, vamos a multiplicar los mensajes cifrados c1 y c2, que son los cifrados de 5 y 2 respectivamente"
   ]
  },
  {
   "cell_type": "code",
   "execution_count": null,
   "id": "german-disabled",
   "metadata": {},
   "outputs": [],
   "source": [
    "m1 = 5\n",
    "c1 = encrypt(pk, m1)\n",
    "print(f'encrypt(pk, {m1}) = {c1}')\n",
    "print(f'decrypt(sk, {c1}) = {decrypt(sk, c1)}')\n"
   ]
  },
  {
   "cell_type": "code",
   "execution_count": null,
   "id": "continued-excitement",
   "metadata": {},
   "outputs": [],
   "source": [
    "m2 = 2\n",
    "c2 = encrypt(pk, m2)\n",
    "print(f'encrypt(pk, {m2}) = {c2}')\n",
    "print(f'decrypt(sk, {c2}) = {decrypt(sk, c2)}')"
   ]
  },
  {
   "cell_type": "code",
   "execution_count": null,
   "id": "shaped-merchant",
   "metadata": {},
   "outputs": [],
   "source": [
    "cm = c1 * c2\n",
    "print(f\"c1 = {c1}; c2 = {c2}; cm = {cm}\")"
   ]
  },
  {
   "cell_type": "markdown",
   "id": "universal-hopkins",
   "metadata": {},
   "source": [
    "Un atacante no sabe cuánto vale c1 ni c2, ni sabe qué valor tiene cm, pero sabe que, sea lo que sea, ha multiplicado c1 y c2 y cuando se descifre el resultado va a ser correcto"
   ]
  },
  {
   "cell_type": "code",
   "execution_count": null,
   "id": "overhead-machinery",
   "metadata": {},
   "outputs": [],
   "source": [
    "print(f'decrypt(sk, c1 * c2) = m1 * m2 = {m1} * {m2} = {decrypt(sk, cm)}')"
   ]
  },
  {
   "cell_type": "markdown",
   "id": "enhanced-percentage",
   "metadata": {},
   "source": [
    "Según la utilidad, el semihomorfismo puede ser útil o no:\n",
    "\n",
    "- Sistemas PET (private enhanced technologies) necesitas calcular sin descifrar. Por ejemplo, voto electrónico\n",
    "- Pero en general no querremos que un atacante pueda multiplicar una orden de pago por otro número y que el resultado sea válido: recomendaciones PKCS#1"
   ]
  },
  {
   "cell_type": "markdown",
   "id": "convenient-month",
   "metadata": {},
   "source": [
    "# PyCryptoDome\n",
    "\n",
    "La función de arriba es para jugar y solo sirve para ver cómo funciona RSA a alto nivel.\n",
    "\n",
    "Vamos a usar PyCrytoDome, que incluye una librería RSA real.\n",
    "\n",
    "Mide cuánto tiempo necesitamos para generar las claves ya más útiles de 2048 y 4096 bits. Prueba a generar claves mayores, de 16384 bits, por ejemplo, que es similar en seguridad al cifrado AES de 256 bits."
   ]
  },
  {
   "cell_type": "code",
   "execution_count": null,
   "id": "assisted-operation",
   "metadata": {},
   "outputs": [],
   "source": [
    "!python3 -m pip install pycryptodome\n",
    "\n",
    "# Clave de 2048 bits\n",
    "from Crypto.PublicKey import RSA\n",
    "key2048 = RSA.generate(2048)\n",
    "key2048"
   ]
  },
  {
   "cell_type": "code",
   "execution_count": null,
   "id": "corrected-handbook",
   "metadata": {},
   "outputs": [],
   "source": [
    "key4096 = RSA.generate(4096)\n",
    "key4096"
   ]
  },
  {
   "cell_type": "markdown",
   "id": "patient-speech",
   "metadata": {},
   "source": [
    "# Ejercicios\n",
    "\n",
    "Hemos visto cómo crear claves con PyCryptoDrome, pero no cómo usarlo para cifrar o descifrar.\n",
    "\n",
    "Recuerda de las transparencias que no es recomendable utilizar RSA \"de forma pura\", es decir, sin tener en cuenta muchas consideraciones sobre padding, conversiones, longitudes... que se recogen en [PKCS#1](https://en.wikipedia.org/wiki/PKCS_1). De hecho, PyCryptoDome no nos va a dejar utilizar el cifrado y descifrado directamente.\n",
    "\n",
    "Observa que la línea siguiente da un error, avisando que uses el módulo  `Crypto.Cipher.PKCS1_OAEP`"
   ]
  },
  {
   "cell_type": "code",
   "execution_count": null,
   "id": "united-museum",
   "metadata": {},
   "outputs": [],
   "source": [
    "key2048.encrypt(b'hola', None)"
   ]
  },
  {
   "cell_type": "markdown",
   "id": "macro-farmer",
   "metadata": {},
   "source": [
    "**Aunque no se debe**, vamos a utilizar la función `_encrypt()`, que no está documentada pero la puedes encontrar en el código: https://github.com/Legrandin/pycryptodome/blob/master/lib/Crypto/PublicKey/RSA.py#L147"
   ]
  },
  {
   "cell_type": "code",
   "execution_count": null,
   "id": "quick-delay",
   "metadata": {},
   "outputs": [],
   "source": [
    "c = key2048._encrypt(15)\n",
    "d = key2048._decrypt(c)\n",
    "print(f\"Cifrado: {c}\")\n",
    "print(f\"Descifrado: {d}\")"
   ]
  },
  {
   "cell_type": "markdown",
   "id": "polish-session",
   "metadata": {},
   "source": [
    "Usando estas funciones `_encrypt()` y `_decrypt()` para cifrar cadenas:\n",
    "\n",
    "1. Una posibilidad es cifrar cada caracter por separado y cifrarlos también por separado, como hemos hecho antes. ¿Cuándo ocupa el cifrado, en bytes?\n",
    "1. Otra posibilidad es codificar la cadena como un enorme entero, es decir, cada caracter representa un byte de un número entero: `msg = int.from_bytes(b\"hola mundo\", \"big\")` ¿Cuánto ocupa el cifrado, en bytes?\n",
    "1. ¿Puedes probar el método anterior para cifrar una cadena realmente larga, como `msg = int.from_bytes(b\"hola mundo\" * 1000, \"big\")` ? ¿Por qué crees que no funciona? ¿Cómo lo harías?"
   ]
  },
  {
   "cell_type": "markdown",
   "id": "documented-hepatitis",
   "metadata": {},
   "source": [
    "Vamos a hacer las cosas bien: cifra `\"hola mundo\"` y `\"hola mundo\" * 1000` usando PKCS1. Encontrarás en ejemplo en la documentación de pyCryptoDome: https://pycryptodome.readthedocs.io/en/latest/src/cipher/oaep.html"
   ]
  },
  {
   "cell_type": "markdown",
   "id": "ordinary-devil",
   "metadata": {},
   "source": [
    "## Cifrado híbrido\n",
    "\n",
    "En el tema de TLS veremos un cifrado híbrido: ciframos con RSA la clave AES que usamos para cifrar el texto.\n",
    "1. Bob: Crea par de claves RSA\n",
    "1. Alice: Crea clave simétrica AES. Cifra la clave AES con la clave pública de Bob. Envía mensaje\n",
    "1. Alice: cifra \"hola mundo\" con clave AES. Envía mensaje\n",
    "1. Bob: descifra clave AES con clave privada. Descifra mensaje de Alice\n",
    "\n",
    "Entre los ejemplos de RSA precisamente verás algo así: https://pycryptodome.readthedocs.io/en/latest/src/examples.html#encrypt-data-with-rsa\n",
    "\n",
    "- ¿Puedes hacer cifrado híbrido del mensaje \"hola mundo\"?\n",
    "- ¿Se te ocurre por qué es necesario el cifrado híbrido?"
   ]
  },
  {
   "cell_type": "code",
   "execution_count": null,
   "id": "emerging-lighter",
   "metadata": {},
   "outputs": [],
   "source": []
  }
 ],
 "metadata": {
  "kernelspec": {
   "display_name": "Python 3 (ipykernel)",
   "language": "python",
   "name": "python3"
  },
  "language_info": {
   "codemirror_mode": {
    "name": "ipython",
    "version": 3
   },
   "file_extension": ".py",
   "mimetype": "text/x-python",
   "name": "python",
   "nbconvert_exporter": "python",
   "pygments_lexer": "ipython3",
   "version": "3.9.16"
  }
 },
 "nbformat": 4,
 "nbformat_minor": 5
}
