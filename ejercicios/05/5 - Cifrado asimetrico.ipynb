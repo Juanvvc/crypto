{
  "cells": [
    {
      "cell_type": "markdown",
      "source": [
        "**NOTA IMPORTANTE**: Las preguntas están marcadas en color rojo. Para la entrega, prepara un documento separado que solo contenga las preguntas y tus respuestas.\n",
        "\n",
        "<font color=\"#f00\">**La entrega es un documento PDF solo con las preguntas y respuestas**</font>"
      ],
      "metadata": {
        "id": "7XKcz5c4m6yG"
      },
      "id": "7XKcz5c4m6yG"
    },
    {
      "cell_type": "markdown",
      "id": "studied-pointer",
      "metadata": {
        "id": "studied-pointer"
      },
      "source": [
        "Las prácticas de este curso las haremos en Python, que tiene dos posibilidades para criptografía: el paquete `PyCryptodome` y el paquete `cryptography`. Ambos son opciones válidas e intercambiables, aunque Las prácticas de este curso las haremos con `PyCryptodome`. Puedes encontrar la ayuda en: https://pycryptodome.readthedocs.io/en/latest/\n",
        "\n",
        "Si estás siguiendo estas notas en tu PC, puedes instalarlo con: `python3 -m pip install pycryptodome`. Si las estás siguiendo en Colab, ejecuta la siguiente línea:"
      ]
    },
    {
      "cell_type": "code",
      "execution_count": null,
      "id": "7dc9549b",
      "metadata": {
        "id": "7dc9549b"
      },
      "outputs": [],
      "source": [
        "# La siguiente línea instala CryptoDome en nuestra máquina virtual\n",
        "!pip install pycryptodome\n",
        "# La siguiente línea nos permitirá imprimir líneas largas\n",
        "from pprint import pprint\n",
        "from textwrap import wrap"
      ]
    },
    {
      "cell_type": "markdown",
      "id": "a91700b7-cbba-412c-8b1c-1708430e205f",
      "metadata": {
        "id": "a91700b7-cbba-412c-8b1c-1708430e205f"
      },
      "source": [
        "# Cifrado asimétrico o de clave pública\n",
        "\n",
        "En el cifrado asimétrico o de clave pública, cada participante en la comunicación tiene DOS claves: una de ellas (la clave privada) debe mantenerla totalmente secreta y no decírsela a nadie, mientras que la otra (la clave pública) puede hacerse pública.\n",
        "\n",
        "Vamos a ver dos ejemplos de estos sistemas:\n",
        "\n",
        "- Acuerdo de claves Diffiel-Hellman, que permite que dos personas que no se han visto nunca pueda tener una clave AES común\n",
        "- RSA, que permite hacer tanto cifrado como firma electrónica"
      ]
    },
    {
      "cell_type": "markdown",
      "id": "arranged-chassis",
      "metadata": {
        "jp-MarkdownHeadingCollapsed": true,
        "id": "arranged-chassis"
      },
      "source": [
        "## Acuerdo de claves Diffie-Hellman\n",
        "\n",
        "El protocolo Diffie-Hellman (D-H) permite que dos personas que no se han visto nunca acuerden una clave que después pueden utilizar para el cifrado AES o ChaCha20. Gracias a D-H, Nadie más que esas dos personas sabrán que clave han acordado, incluso si un atacante leyese todos los mensajes que se han intercambiado desde el principio. Esto se conoce como Acuerdo de Intercambio de Claves (https://en.wikipedia.org/wiki/Key_exchange)\n",
        "\n",
        "Recuerda, el protocolo D-H es:\n",
        "\n",
        "1. Acuerdan $g$ y $p$ primos entre sí\n",
        "1. Escogen números en secreto $a$ y $b$\n",
        "1. Se envian entre ellos:\n",
        "    - $Alice \\rightarrow Bob: A=g^{a} \\mod p$\n",
        "    - $Bob \\rightarrow Alice: B=g^{b} \\mod p$\n",
        "1. Calculan en secreto:\n",
        "    - $Alice$: $s = B^{a} \\mod p = g^{ab} \\mod p$\n",
        "    - $Alice$: $s = A^{b} \\mod p = g^{ab} \\mod p$\n",
        "1. Y usan $s$ como clave de cifrado un algoritmo simétrico  "
      ]
    },
    {
      "cell_type": "markdown",
      "id": "heated-monday",
      "metadata": {
        "id": "heated-monday"
      },
      "source": [
        "A continuación está el código de la librería https://github.com/amiralis/pyDH de Amirali Sanatinia, que es sencillo de leer y entender.\n",
        "\n",
        "Aunque no parece haber errores evidentes, **es obligatorio utilizar librerías auditadas**. Seguiremos esta por su valor educativo, no porque sea recomendable su uso."
      ]
    },
    {
      "cell_type": "code",
      "execution_count": null,
      "id": "devoted-genealogy",
      "metadata": {
        "id": "devoted-genealogy"
      },
      "outputs": [],
      "source": [
        "\"\"\"\n",
        "Pure Python Diffie Hellman implementation\n",
        "\n",
        "Source: https://github.com/amiralis/pyDH\n",
        "\n",
        "Apache License\n",
        "         Version 2.0, January 2004\n",
        "     Copyright 2015 Amirali Sanatinia\n",
        "\"\"\"\n",
        "\n",
        "import os\n",
        "import binascii\n",
        "import hashlib\n",
        "\n",
        "# RFC 3526 - More Modular Exponential (MODP) Diffie-Hellman groups for\n",
        "# Internet Key Exchange (IKE) https://tools.ietf.org/html/rfc3526\n",
        "\n",
        "primes = {\n",
        "\n",
        "\t# 1536-bit\n",
        "\t5: {\n",
        "\t\"prime\": 0xFFFFFFFFFFFFFFFFC90FDAA22168C234C4C6628B80DC1CD129024E088A67CC74020BBEA63B139B22514A08798E3404DDEF9519B3CD3A431B302B0A6DF25F14374FE1356D6D51C245E485B576625E7EC6F44C42E9A637ED6B0BFF5CB6F406B7EDEE386BFB5A899FA5AE9F24117C4B1FE649286651ECE45B3DC2007CB8A163BF0598DA48361C55D39A69163FA8FD24CF5F83655D23DCA3AD961C62F356208552BB9ED529077096966D670C354E4ABC9804F1746C08CA237327FFFFFFFFFFFFFFFF,\n",
        "\t\"generator\": 2\n",
        "\t},\n",
        "\n",
        "\t# 2048-bit\n",
        "\t14: {\n",
        "\t\"prime\": 0xFFFFFFFFFFFFFFFFC90FDAA22168C234C4C6628B80DC1CD129024E088A67CC74020BBEA63B139B22514A08798E3404DDEF9519B3CD3A431B302B0A6DF25F14374FE1356D6D51C245E485B576625E7EC6F44C42E9A637ED6B0BFF5CB6F406B7EDEE386BFB5A899FA5AE9F24117C4B1FE649286651ECE45B3DC2007CB8A163BF0598DA48361C55D39A69163FA8FD24CF5F83655D23DCA3AD961C62F356208552BB9ED529077096966D670C354E4ABC9804F1746C08CA18217C32905E462E36CE3BE39E772C180E86039B2783A2EC07A28FB5C55DF06F4C52C9DE2BCBF6955817183995497CEA956AE515D2261898FA051015728E5A8AACAA68FFFFFFFFFFFFFFFF,\n",
        "\t\"generator\": 2\n",
        "\t},\n",
        "\n",
        "\t# 3072-bit\n",
        "\t15: {\n",
        "\t\"prime\": 0xFFFFFFFFFFFFFFFFC90FDAA22168C234C4C6628B80DC1CD129024E088A67CC74020BBEA63B139B22514A08798E3404DDEF9519B3CD3A431B302B0A6DF25F14374FE1356D6D51C245E485B576625E7EC6F44C42E9A637ED6B0BFF5CB6F406B7EDEE386BFB5A899FA5AE9F24117C4B1FE649286651ECE45B3DC2007CB8A163BF0598DA48361C55D39A69163FA8FD24CF5F83655D23DCA3AD961C62F356208552BB9ED529077096966D670C354E4ABC9804F1746C08CA18217C32905E462E36CE3BE39E772C180E86039B2783A2EC07A28FB5C55DF06F4C52C9DE2BCBF6955817183995497CEA956AE515D2261898FA051015728E5A8AAAC42DAD33170D04507A33A85521ABDF1CBA64ECFB850458DBEF0A8AEA71575D060C7DB3970F85A6E1E4C7ABF5AE8CDB0933D71E8C94E04A25619DCEE3D2261AD2EE6BF12FFA06D98A0864D87602733EC86A64521F2B18177B200CBBE117577A615D6C770988C0BAD946E208E24FA074E5AB3143DB5BFCE0FD108E4B82D120A93AD2CAFFFFFFFFFFFFFFFF,\n",
        "\t\"generator\": 2\n",
        "\t},\n",
        "\n",
        "\t# 4096-bit\n",
        "\t16: {\n",
        "\t\"prime\": 0xFFFFFFFFFFFFFFFFC90FDAA22168C234C4C6628B80DC1CD129024E088A67CC74020BBEA63B139B22514A08798E3404DDEF9519B3CD3A431B302B0A6DF25F14374FE1356D6D51C245E485B576625E7EC6F44C42E9A637ED6B0BFF5CB6F406B7EDEE386BFB5A899FA5AE9F24117C4B1FE649286651ECE45B3DC2007CB8A163BF0598DA48361C55D39A69163FA8FD24CF5F83655D23DCA3AD961C62F356208552BB9ED529077096966D670C354E4ABC9804F1746C08CA18217C32905E462E36CE3BE39E772C180E86039B2783A2EC07A28FB5C55DF06F4C52C9DE2BCBF6955817183995497CEA956AE515D2261898FA051015728E5A8AAAC42DAD33170D04507A33A85521ABDF1CBA64ECFB850458DBEF0A8AEA71575D060C7DB3970F85A6E1E4C7ABF5AE8CDB0933D71E8C94E04A25619DCEE3D2261AD2EE6BF12FFA06D98A0864D87602733EC86A64521F2B18177B200CBBE117577A615D6C770988C0BAD946E208E24FA074E5AB3143DB5BFCE0FD108E4B82D120A92108011A723C12A787E6D788719A10BDBA5B2699C327186AF4E23C1A946834B6150BDA2583E9CA2AD44CE8DBBBC2DB04DE8EF92E8EFC141FBECAA6287C59474E6BC05D99B2964FA090C3A2233BA186515BE7ED1F612970CEE2D7AFB81BDD762170481CD0069127D5B05AA993B4EA988D8FDDC186FFB7DC90A6C08F4DF435C934063199FFFFFFFFFFFFFFFF,\n",
        "\t\"generator\": 2\n",
        "\t},\n",
        "\n",
        "\t# 6144-bit\n",
        "\t17: {\n",
        "\t\"prime\": 0xFFFFFFFFFFFFFFFFC90FDAA22168C234C4C6628B80DC1CD129024E088A67CC74020BBEA63B139B22514A08798E3404DDEF9519B3CD3A431B302B0A6DF25F14374FE1356D6D51C245E485B576625E7EC6F44C42E9A637ED6B0BFF5CB6F406B7EDEE386BFB5A899FA5AE9F24117C4B1FE649286651ECE45B3DC2007CB8A163BF0598DA48361C55D39A69163FA8FD24CF5F83655D23DCA3AD961C62F356208552BB9ED529077096966D670C354E4ABC9804F1746C08CA18217C32905E462E36CE3BE39E772C180E86039B2783A2EC07A28FB5C55DF06F4C52C9DE2BCBF6955817183995497CEA956AE515D2261898FA051015728E5A8AAAC42DAD33170D04507A33A85521ABDF1CBA64ECFB850458DBEF0A8AEA71575D060C7DB3970F85A6E1E4C7ABF5AE8CDB0933D71E8C94E04A25619DCEE3D2261AD2EE6BF12FFA06D98A0864D87602733EC86A64521F2B18177B200CBBE117577A615D6C770988C0BAD946E208E24FA074E5AB3143DB5BFCE0FD108E4B82D120A92108011A723C12A787E6D788719A10BDBA5B2699C327186AF4E23C1A946834B6150BDA2583E9CA2AD44CE8DBBBC2DB04DE8EF92E8EFC141FBECAA6287C59474E6BC05D99B2964FA090C3A2233BA186515BE7ED1F612970CEE2D7AFB81BDD762170481CD0069127D5B05AA993B4EA988D8FDDC186FFB7DC90A6C08F4DF435C93402849236C3FAB4D27C7026C1D4DCB2602646DEC9751E763DBA37BDF8FF9406AD9E530EE5DB382F413001AEB06A53ED9027D831179727B0865A8918DA3EDBEBCF9B14ED44CE6CBACED4BB1BDB7F1447E6CC254B332051512BD7AF426FB8F401378CD2BF5983CA01C64B92ECF032EA15D1721D03F482D7CE6E74FEF6D55E702F46980C82B5A84031900B1C9E59E7C97FBEC7E8F323A97A7E36CC88BE0F1D45B7FF585AC54BD407B22B4154AACC8F6D7EBF48E1D814CC5ED20F8037E0A79715EEF29BE32806A1D58BB7C5DA76F550AA3D8A1FBFF0EB19CCB1A313D55CDA56C9EC2EF29632387FE8D76E3C0468043E8F663F4860EE12BF2D5B0B7474D6E694F91E6DCC4024FFFFFFFFFFFFFFFF,\n",
        "\t\"generator\": 2\n",
        "\t},\n",
        "\n",
        "\t# 8192-bit\n",
        "\t18: {\n",
        "\t\"prime\": 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n",
        "\t\"generator\": 2\n",
        "\t}\n",
        "}\n",
        "\n",
        "\n",
        "class DiffieHellman:\n",
        "\t\"\"\" Class to represent the Diffie-Hellman key exchange protocol \"\"\"\n",
        "\t# Current minimum recommendation is 2048 bit.\n",
        "\tdef __init__(self, group=14):\n",
        "\t\tif group in primes:\n",
        "\t\t\tself.p = primes[group][\"prime\"]\n",
        "\t\t\tself.g = primes[group][\"generator\"]\n",
        "\t\telse:\n",
        "\t\t\traise Exception(\"Group not supported\")\n",
        "\n",
        "\t\tself.__a = int(binascii.hexlify(os.urandom(32)), base=16)\n",
        "\n",
        "\tdef get_private_key(self):\n",
        "\t\t\"\"\" Return the private key (a) \"\"\"\n",
        "\t\treturn self.__a\n",
        "\n",
        "\tdef gen_public_key(self):\n",
        "\t\t\"\"\" Return A, A = g ^ a mod p \"\"\"\n",
        "\t\t# calculate G^a mod p\n",
        "\t\treturn pow(self.g, self.__a, self.p)\n",
        "\n",
        "\tdef check_other_public_key(self, other_contribution):\n",
        "\t\t# check if the other public key is valid based on NIST SP800-56\n",
        "\t\t# 2 <= g^b <= p-2 and Lagrange for safe primes (g^bq)=1, q=(p-1)/2\n",
        "\n",
        "\t\tif 2 <= other_contribution and other_contribution <= self.p - 2:\n",
        "\t\t\tif pow(other_contribution, (self.p - 1) // 2, self.p) == 1:\n",
        "\t\t\t\treturn True\n",
        "\t\treturn False\n",
        "\n",
        "\tdef gen_shared_key(self, other_contribution):\n",
        "\t\t\"\"\" Return g ^ ab mod p \"\"\"\n",
        "\t\t# calculate the shared key G^ab mod p\n",
        "\t\tif self.check_other_public_key(other_contribution):\n",
        "\t\t\tself.shared_key = pow(other_contribution, self.__a, self.p)\n",
        "\t\t\treturn hashlib.sha256(str(self.shared_key).encode()).digest()\n",
        "\t\telse:\n",
        "\t\t\traise Exception(\"Bad public key from other party\")\n"
      ]
    },
    {
      "cell_type": "markdown",
      "id": "exclusive-stylus",
      "metadata": {
        "jp-MarkdownHeadingCollapsed": true,
        "id": "exclusive-stylus"
      },
      "source": [
        "### Alice"
      ]
    },
    {
      "cell_type": "markdown",
      "id": "pending-massage",
      "metadata": {
        "id": "pending-massage"
      },
      "source": [
        "En esta ocasión, Alice y Bob quieren acordar una clave que después usarán para las comunicaciones con AES.\n",
        "\n",
        "Vamos a ver primero qué hace Alice."
      ]
    },
    {
      "cell_type": "code",
      "execution_count": null,
      "id": "excessive-writer",
      "metadata": {
        "id": "excessive-writer"
      },
      "outputs": [],
      "source": [
        "alice = DiffieHellman()\n",
        "alice_pubkey = alice.gen_public_key()\n",
        "\n",
        "print('CLAVE PRIVADA DE ALICE: a\\n-------------------')\n",
        "print(f'a = {alice.get_private_key()}\\n')\n",
        "\n",
        "print('\\nCLAVE PÚBLICA DE ALICE: es el trío A=(g, p, g^a)\\n-------------------')\n",
        "print(f'g = {alice.g}')\n",
        "pprint(wrap(f'p = {alice.p}'))\n",
        "pprint(wrap(f'g^a = {alice_pubkey}'))"
      ]
    },
    {
      "cell_type": "markdown",
      "id": "moderate-manor",
      "metadata": {
        "id": "moderate-manor"
      },
      "source": [
        "Claves de Alice:\n",
        "\n",
        "- Clave privada es un solo número: $a_{priv}$. Este número es la clave privada de Alice y nunca saldrá del PC de Alice.\n",
        "- Clave pública es un trío de números: $A_{pub}=\\{g, p, g^a\\}$. Esta es la clave pública de Alice, que es lo que le envía a Bob.\n",
        "\n",
        "Nota: en realidad $g$ y $p$ no los suele escoger Alice sino que usa algún valor estándar de una tabla. Así que normalmente solo se envía $g^a$, y los valores de $g$ y $p$ son los del estándar. $g$ suele ser un primo pequeño, 2 ó 3, para acelerar los cálculos, mientras que $p$ es un número muy grande para dar seguridad al sistema."
      ]
    },
    {
      "cell_type": "markdown",
      "id": "integral-tomato",
      "metadata": {
        "jp-MarkdownHeadingCollapsed": true,
        "id": "integral-tomato"
      },
      "source": [
        "### Bob\n",
        "\n",
        "Bob calcular su par de claves públicas y privadas de una forma similar"
      ]
    },
    {
      "cell_type": "code",
      "execution_count": null,
      "id": "romantic-cross",
      "metadata": {
        "id": "romantic-cross"
      },
      "outputs": [],
      "source": [
        "bob = DiffieHellman()\n",
        "bob_pubkey = bob.gen_public_key()\n",
        "\n",
        "print('CLAVE PRIVADA DE BOB: b\\n-------------------')\n",
        "print(f'b = {bob.get_private_key()}\\n')\n",
        "\n",
        "print('\\nCLAVE PÚBLICA DE BOB: es el trío B=(g, p, g^b)\\n-------------------')\n",
        "print(f'g = {bob.g}')\n",
        "pprint(wrap(f'p = {bob.p}'))\n",
        "pprint(wrap(f'g^b = {bob_pubkey}'))"
      ]
    },
    {
      "cell_type": "markdown",
      "id": "sapphire-match",
      "metadata": {
        "jp-MarkdownHeadingCollapsed": true,
        "id": "sapphire-match"
      },
      "source": [
        "### Alice y Bob: cálculo de la clave compartida\n",
        "\n",
        "Ahora (recuerda que todos estos cálculos son $\\mod p$):\n",
        "\n",
        "- Alice recibe de Bob $B=g^b$, y puede calcular la clave compartida usando su propia $a$: $k_{shared} = B^a=g^{ab}$\n",
        "- Bob recibe de Alice $A=g^a$, y puede calcular la clave compartida usando su propia $b$: $k_{shared} = A^b=g^{ab}$\n",
        "- Un espía de las comunicaciones sabe $A=g^a$ y $B=g^b$, pero no sabe $a$ ni $b$. Observa que sabiendo solo $g^a$ y $g^b$ no hay forma de calcular $g^{ab}$ y el atacante no puede calcular la clave"
      ]
    },
    {
      "cell_type": "code",
      "execution_count": null,
      "id": "intellectual-inside",
      "metadata": {
        "id": "intellectual-inside"
      },
      "outputs": [],
      "source": [
        "alice_sharedkey = alice.gen_shared_key(bob_pubkey)\n",
        "print(f'Clave compartida calculada por Alice: {alice_sharedkey}')\n",
        "print(f'Tamaño: {len(alice_sharedkey) * 8} bits')"
      ]
    },
    {
      "cell_type": "code",
      "execution_count": null,
      "id": "incorporate-separate",
      "metadata": {
        "id": "incorporate-separate"
      },
      "outputs": [],
      "source": [
        "bob_sharedkey = bob.gen_shared_key(alice_pubkey)\n",
        "print(f'Clave compartida calculada por Alice: {bob_sharedkey}')\n",
        "print(f'Tamaño: {len(bob_sharedkey) * 8} bits')"
      ]
    },
    {
      "cell_type": "markdown",
      "id": "controversial-payment",
      "metadata": {
        "id": "controversial-payment"
      },
      "source": [
        "Y podemos comprobar que los dos tienen la misma clave compartida"
      ]
    },
    {
      "cell_type": "code",
      "execution_count": null,
      "id": "specialized-amount",
      "metadata": {
        "id": "specialized-amount"
      },
      "outputs": [],
      "source": [
        "print(bob_sharedkey == alice_sharedkey)"
      ]
    },
    {
      "cell_type": "markdown",
      "id": "unexpected-stanford",
      "metadata": {
        "id": "unexpected-stanford"
      },
      "source": [
        "<font color=\"red\">\n",
        "<b>PREGUNTAS:</b>\n",
        "\n",
        "1. Ya tenemos una \"clave compartida\", pero aún hay que adaptarla para poder usarla en AES-256 o ChaCha20. ¿Cómo lo harías?\n",
        "1. Los parámetros p y g de la librería son muy antiguos (RFC3526). ¿Puedes buscar otros más modernos?\n",
        "\n",
        "</font>"
      ]
    },
    {
      "cell_type": "markdown",
      "id": "329e0bde-d12c-48ae-8e88-19e5bfd28714",
      "metadata": {
        "jp-MarkdownHeadingCollapsed": true,
        "id": "329e0bde-d12c-48ae-8e88-19e5bfd28714"
      },
      "source": [
        "## RSA\n",
        "\n",
        "Diffie-Hellman solo puede usarse como protocolo de intercambio de clave que después se utiliza en AES.\n",
        "\n",
        "Veremos a continuación RSA, que ya es un sistema de cifrado asimétrico completo que permite ofrecer confidencialidad y firma electrónica. Dependiendo si ciframos la clave privada o a la inversa, tenemos dos esquemas de funcionamiento:\n",
        "\n",
        "- **Esquema de cifrado** (confidencialidad): Bob quiere enviar un mensaje a Alice. Bob cifra el mensaje con la clave pública de Bob, y solo Alice puede descifrar ese mensaje con la clave privada de Alice, que solo tiene ella\n",
        "- **Esquema de firma electrónica** (autenticación): Bob quiere enviar un mensaje a Alice de forma que pueda probar que el mensaje solo lo ha podido enviar Bob. Para ello, cifra el mensaje usando la clave privada de Bob. Cualquiera puede descifrar ese mensaje usando la clave pública de Bob pero, al descifrarlo, saben que el mensaje viene necesariamente de Bob porque es el único que tiene su clave privada.\n",
        "\n",
        "Puedes obtener confidencialidad y además autenticación ejecutando los dos esquemas a la vez: Bob cifra un mensaje con su clave privada (autenticación) y después con la clave pública de Alice (confidencialidad). De esta manera, el mensaje solo lo puede descifrar Alice y además solo lo ha podido enviar Bob.\n",
        "\n",
        "Como comentario original, RSA también puede usarse como protocolo de acuerdo de clave, como Diffie-Hellman: una parte simplemente envía a la otra la clave AES que se va a usar, cifrada con RSA."
      ]
    },
    {
      "cell_type": "markdown",
      "source": [
        "### Preparación\n",
        "\n",
        "Antes de empezar necesitaremos un sistema para cálculo del máximo común divisor (mcd en castellano, gcd en inglés) de dos números, y el inverso de un número en un anillo cíclico. Ambas cosas se conocen desde hace tiempo: son dos \"algoritmos de Euclides\".\n",
        "\n",
        "\n",
        "\n",
        "**Importante**: <font color=\"#f00\">\n",
        "no os preocupéis de entender ningún algoritmo o explicación de esta sección de Preparación, simplemente ejecutadlos porque los necesitaremos para el resto de ejercicios.</font>"
      ],
      "metadata": {
        "id": "Kb_Ik0TgXjT4"
      },
      "id": "Kb_Ik0TgXjT4"
    },
    {
      "cell_type": "code",
      "source": [
        "# Algoritmo de Euclides para determinar el máximo común divisor (gcd por sus siglas en inglés) de dos enteros a y b\n",
        "# https://es.wikipedia.org/wiki/M%C3%A1ximo_com%C3%BAn_divisor\n",
        "def gcd(a, b):\n",
        "    while b != 0:\n",
        "        a, b = b, a % b\n",
        "    return a\n",
        "\n",
        "print('gcd(2, 3) = ', gcd(2, 3))\n",
        "print('gcd(4, 6) = ', gcd(4, 6))\n",
        "print('gcd(15, 16) = ', gcd(15, 16))\n",
        "print('gcd(50720, 48184) = ', gcd(50720, 48184))\n",
        "\n",
        "# Es decir,\n",
        "# - 2 y 3 no tienen divisores en común y son co-primos entre ellos\n",
        "# - 4 y 6 tienen 2 como el máximo divisor común entre ellos\n",
        "# - 15 y 16 no tienen divisores en común y son co-primos entre ellos. Fíjate que ni 15 ni 16 son primos, decimos que dos números son co-primos si no tienen divisores en común\n",
        "# - 50720 y 48184 tienen 2536 como el máximo divisor en común\n",
        "\n",
        "# Inverso multiplicativos de un número en un anillo cíclico $\\mathbb{Z}_{\\phi}$\n",
        "# https://es.wikipedia.org/wiki/Anillo_c%C3%ADclico\n",
        "def multiplicative_inverse(e, phi):\n",
        "    d = 0\n",
        "    x1 = 0\n",
        "    x2 = 1\n",
        "    y1 = 1\n",
        "    temp_phi = phi\n",
        "\n",
        "    while e > 0:\n",
        "        temp1 = temp_phi // e\n",
        "        temp2 = temp_phi - temp1 * e\n",
        "        temp_phi = e\n",
        "        e = temp2\n",
        "\n",
        "        x = x2 - temp1 * x1\n",
        "        y = d - temp1 * y1\n",
        "\n",
        "        x2 = x1\n",
        "        x1 = x\n",
        "        d = y1\n",
        "        y1 = y\n",
        "\n",
        "    if temp_phi == 1:\n",
        "        return d + phi\n",
        "    # no inverse: return None\n",
        "    return None\n",
        "\n",
        "print('3^{-1} mod 7 = ', multiplicative_inverse(3, 7))\n",
        "print('3^{-1} mod 10 = ', multiplicative_inverse(3, 10))\n",
        "print('2^{-1} mod 10 = ', multiplicative_inverse(2, 10))\n",
        "print('25^{-1} mod 119 = ', multiplicative_inverse(25, 119))\n",
        "\n",
        "# Test de si un número es primo\n",
        "# Algoritmo de testeo muy ineficiente de si un número es primo, pero que nos servirá en nuestros ejercicios porque usaramos números pequeñose.\n",
        "def is_prime(num):\n",
        "    if num == 2:\n",
        "        return True\n",
        "    if num < 2 or num % 2 == 0:\n",
        "        return False\n",
        "    for n in range(3, int(num**0.5) + 2, 2):\n",
        "        if num % n == 0:\n",
        "            return False\n",
        "    return True\n",
        "\n",
        "for i in [2, 5, 19, 25, 222, 314, 317]:\n",
        "    print(f'{i}: ', is_prime(i))"
      ],
      "metadata": {
        "id": "1Dh1VEBBXo_6"
      },
      "id": "1Dh1VEBBXo_6",
      "execution_count": null,
      "outputs": []
    },
    {
      "cell_type": "markdown",
      "source": [
        "### RSA \"manual\" con números pequeños\n",
        "\n",
        "Bien, ya tenemos todo lo necesario para poder hacer los ejercicios.\n",
        "\n",
        "RSA es un algoritmo de cifrado asimétrico. Es decir, tiene dos claves: una para cifrar y otra diferente para descifrar. Puede usarse tanto para cifrar una información como para firmar digitalmente un documento.\n",
        "\n",
        "RSA está compuesto por dos funciones sencillas:\n",
        "\n",
        "- Una función que genera el par de claves necesario. Da como resultado dos claves, una se podrá hacer pública y la otra tiene que permanecer siempre privada.\n",
        "- Una función que cifra, que es la misma función que para descifrar pero usando la otra clave.\n",
        "\n",
        "Aquí vemos los dos algoritmos. Fíjate qué sencilla es la función para cifrar o descifrar."
      ],
      "metadata": {
        "id": "wzhlbRgTYugL"
      },
      "id": "wzhlbRgTYugL"
    },
    {
      "cell_type": "code",
      "source": [
        "import random\n",
        "\n",
        "def rsa_generate_keypair(p, q):\n",
        "    if not (is_prime(p) and is_prime(q)):\n",
        "        raise ValueError('Both numbers must be prime.')\n",
        "    elif p == q:\n",
        "        raise ValueError('p and q cannot be equal')\n",
        "    #n = pq\n",
        "    n = p * q\n",
        "\n",
        "    #Phi is the totient of n\n",
        "    phi = (p - 1) * (q - 1)\n",
        "\n",
        "    # Choose an integer e such that e and phi(n) are coprime\n",
        "    e = random.randrange(1, phi)\n",
        "\n",
        "    # Use Euclid's Algorithm to verify that e and phi(n) are coprime\n",
        "    g = gcd(e, phi)\n",
        "    while g != 1:\n",
        "        e = random.randrange(1, phi)\n",
        "        g = gcd(e, phi)\n",
        "\n",
        "    #Use Extended Euclid's Algorithm to generate the private key\n",
        "    d = multiplicative_inverse(e, phi)\n",
        "\n",
        "    #Return public and private keypair\n",
        "    #Public key is (e, n) and private key is (d, n)\n",
        "    return ((e, n), (d, n))\n",
        "\n",
        "def rsa_encrypt(pk, number):\n",
        "    # Unpack the key into it's components\n",
        "    key, n = pk\n",
        "    return (number ** key) % n\n",
        "\n",
        "# The decrypt function is exactly the same than the encrypt function\n",
        "rsa_decrypt = rsa_encrypt"
      ],
      "metadata": {
        "id": "d6ltJLeGZKpS"
      },
      "id": "d6ltJLeGZKpS",
      "execution_count": null,
      "outputs": []
    },
    {
      "cell_type": "markdown",
      "source": [
        " En los ejemplos usaremos como parámetros de configuración 17 y 23, dos números primos que simplemente sirven para configurar el algoritmo inicialmente. Cuanto más grandes sean, mayor será el tamaño en bits de la clave. Como estamos usando algoritmos poco eficientes para aprender, no uses números demasiado altos."
      ],
      "metadata": {
        "id": "jGwSauLxZQc5"
      },
      "id": "jGwSauLxZQc5"
    },
    {
      "cell_type": "code",
      "source": [
        "pk, sk = rsa_generate_keypair(17, 23)\n",
        "print(f'Clave pública pk=(e, n): {pk}')\n",
        "print(f'Clave privada o secreta sk=(d, n): {sk}')"
      ],
      "metadata": {
        "id": "zbMu0w5FZTfZ"
      },
      "id": "zbMu0w5FZTfZ",
      "execution_count": null,
      "outputs": []
    },
    {
      "cell_type": "markdown",
      "source": [
        "Fíjate: si generamos otro par de claves, aunque usemos los mismos primos, obtendremos unas claves diferentes. Eso es porque el parámetro $e$ se escoge al azar"
      ],
      "metadata": {
        "id": "y_ArLDJuZZe-"
      },
      "id": "y_ArLDJuZZe-"
    },
    {
      "cell_type": "code",
      "source": [
        "pk, sk = rsa_generate_keypair(17, 23)\n",
        "print(f'Clave pública pk=(e, n): {pk}')\n",
        "print(f'Clave privada o secreta sk=(d, n): {sk}')"
      ],
      "metadata": {
        "id": "lcB-HrHBZb6f"
      },
      "id": "lcB-HrHBZb6f",
      "execution_count": null,
      "outputs": []
    },
    {
      "cell_type": "markdown",
      "source": [
        "Vamos a intentar cifrar un texto sencillo:"
      ],
      "metadata": {
        "id": "IMZOYS9DZgzV"
      },
      "id": "IMZOYS9DZgzV"
    },
    {
      "cell_type": "code",
      "source": [
        "print(rsa_encrypt(pk, 'hola'))"
      ],
      "metadata": {
        "id": "x-fmrT0fZhTn"
      },
      "id": "x-fmrT0fZhTn",
      "execution_count": null,
      "outputs": []
    },
    {
      "cell_type": "markdown",
      "source": [
        "No podemos: RSA solo puede cifrar enteros. Una posibilidad es codificar el mensaje como un conjunto de enteros"
      ],
      "metadata": {
        "id": "QlNWSfJSZqf2"
      },
      "id": "QlNWSfJSZqf2"
    },
    {
      "cell_type": "code",
      "source": [
        "msg = [ord(c) for c in 'hola']\n",
        "print(f'mensaje = {msg}')\n",
        "\n",
        "c = [rsa_encrypt(pk, m) for m in msg]\n",
        "print(f'cifrado = {c}')"
      ],
      "metadata": {
        "id": "FB5nqEa4ZrCU"
      },
      "id": "FB5nqEa4ZrCU",
      "execution_count": null,
      "outputs": []
    },
    {
      "cell_type": "markdown",
      "source": [
        "¿Qué pasa si intentamos cifrar varias veces lo mismo? El texto cifrado es siempre igual. Pocas veces querremos eso. RSA debe usarse siguiendo recomendaciones como PKCS#1. Lo veremos un poco más abajo."
      ],
      "metadata": {
        "id": "gTDshmZzZxJU"
      },
      "id": "gTDshmZzZxJU"
    },
    {
      "cell_type": "code",
      "source": [
        "print([rsa_encrypt(pk, ord(c)) for c in 'aaaa'])"
      ],
      "metadata": {
        "id": "6OzCHw2WZz_c"
      },
      "id": "6OzCHw2WZz_c",
      "execution_count": null,
      "outputs": []
    },
    {
      "cell_type": "markdown",
      "source": [
        "### (semi) Homorfismo\n",
        "\n",
        "RSA es semihomomórfico con la multiplicación: se pueden hacer cálculos con los números cifrados, aunque no sepas lo que son ni qué resultado tienes. Al descifrar, el resultado es correcto. Más detalles: https://ciberseguridad.com/guias/prevencion-proteccion/criptografia/cifrado-homomorfico/\n",
        "\n",
        "Por ejemplo, vamos a multiplicar los mensajes cifrados c1 y c2, que son los cifrados de 5 y 2 respectivamente"
      ],
      "metadata": {
        "id": "DjdYdT0sZ9ZQ"
      },
      "id": "DjdYdT0sZ9ZQ"
    },
    {
      "cell_type": "code",
      "source": [
        "m1 = 5\n",
        "c1 = rsa_encrypt(pk, m1)\n",
        "print(f'encrypt(pk, {m1}) = {c1}')\n",
        "print(f'decrypt(sk, {c1}) = {rsa_decrypt(sk, c1)}')\n",
        "print()\n",
        "\n",
        "m2 = 2\n",
        "c2 = rsa_encrypt(pk, m2)\n",
        "print(f'encrypt(pk, {m2}) = {c2}')\n",
        "print(f'decrypt(sk, {c2}) = {rsa_decrypt(sk, c2)}')\n",
        "print()\n",
        "\n",
        "cm = c1 * c2\n",
        "print(f\"c1 = {c1}; c2 = {c2}; cm = {cm}\")"
      ],
      "metadata": {
        "id": "iOvkAm2laF91"
      },
      "id": "iOvkAm2laF91",
      "execution_count": null,
      "outputs": []
    },
    {
      "cell_type": "markdown",
      "source": [
        "Un atacante no sabe cuánto vale c1 ni c2, ni sabe qué valor tiene cm, pero sabe que, sea lo que sea, ha multiplicado c1 y c2 y cuando se descifre el resultado va a ser correcto"
      ],
      "metadata": {
        "id": "U7F8ss6BaZEp"
      },
      "id": "U7F8ss6BaZEp"
    },
    {
      "cell_type": "code",
      "source": [
        "print(f'decrypt(sk, c1 * c2) = m1 * m2 = {m1} * {m2} = {rsa_decrypt(sk, cm)}')"
      ],
      "metadata": {
        "id": "Zw5sjCMMac4k"
      },
      "id": "Zw5sjCMMac4k",
      "execution_count": null,
      "outputs": []
    },
    {
      "cell_type": "markdown",
      "source": [
        "Según la utilidad, el semihomorfismo puede ser útil o no:\n",
        "\n",
        "- Sistemas PET (private enhanced technologies) necesitas calcular sin descifrar. Por ejemplo, voto electrónico\n",
        "- Pero en general no querremos que un atacante pueda multiplicar una orden de pago por otro número y que el resultado sea válido: recomendaciones PKCS#1"
      ],
      "metadata": {
        "id": "k8f-VB2aafTm"
      },
      "id": "k8f-VB2aafTm"
    },
    {
      "cell_type": "markdown",
      "id": "convenient-month",
      "metadata": {
        "jp-MarkdownHeadingCollapsed": true,
        "id": "convenient-month"
      },
      "source": [
        "### RSA con PyCryptoDome\n",
        "\n",
        "La función de arriba es para jugar y solo sirve para ver cómo funciona RSA a alto nivel.\n",
        "\n",
        "Vamos a usar PyCrytoDome, que incluye una librería RSA real."
      ]
    },
    {
      "cell_type": "code",
      "source": [
        "from Crypto.PublicKey import RSA"
      ],
      "metadata": {
        "id": "rx6GV8ppbYyC"
      },
      "id": "rx6GV8ppbYyC",
      "execution_count": null,
      "outputs": []
    },
    {
      "cell_type": "markdown",
      "source": [
        "#### Generación de claves con RSA\n",
        "\n",
        "Mide cuánto tiempo necesitamos para generar las claves ya más útiles de 2048 y 4096 bits. Prueba a generar claves mayores, de 16384 bits, por ejemplo, que es similar en seguridad al cifrado AES de 256 bits."
      ],
      "metadata": {
        "id": "offL57dKbcRN"
      },
      "id": "offL57dKbcRN"
    },
    {
      "cell_type": "code",
      "execution_count": null,
      "id": "assisted-operation",
      "metadata": {
        "id": "assisted-operation"
      },
      "outputs": [],
      "source": [
        "# Clave de 2048 bits\n",
        "key2048 = RSA.generate(2048)\n",
        "key2048"
      ]
    },
    {
      "cell_type": "markdown",
      "id": "3385a8c8-3dcc-48ec-8afc-034a57d9017c",
      "metadata": {
        "id": "3385a8c8-3dcc-48ec-8afc-034a57d9017c"
      },
      "source": [
        "<font color=\"red\">\n",
        "<b>PREGUNTAS:</b>\n",
        "\n",
        "1. Mide cuánto tiempo necesitamos para generar una claves de un tamaño ya útil 2048.\n",
        "1. Prueba a generar claves mayores, de 4096 bits y de 16384 bits, por ejemplo, que es similar en seguridad al cifrado AES de 256 bits. ¿Cuánto tiempo le lleva aproximadamente?\n",
        "\n",
        "</font>\n"
      ]
    },
    {
      "cell_type": "markdown",
      "id": "patient-speech",
      "metadata": {
        "jp-MarkdownHeadingCollapsed": true,
        "id": "patient-speech"
      },
      "source": [
        "#### Cifrado y descifrado con RSA\n",
        "\n",
        "No es recomendable utilizar RSA \"de forma pura\", es decir, sin tener en cuenta muchas consideraciones sobre padding, conversiones, longitudes... que se recogen en [PKCS#1](https://en.wikipedia.org/wiki/PKCS_1). De hecho, PyCryptoDome no nos va a dejar utilizar el cifrado y descifrado directamente.\n",
        "\n",
        "Observa que la línea siguiente resulta en un error, avisando que uses el módulo  `Crypto.Cipher.PKCS1_OAEP` en vez de las funciones directas. PKCS#1 es el estándar de cifrado de RSA y gestiona padding, randomness y otras consideraciones."
      ]
    },
    {
      "cell_type": "code",
      "execution_count": null,
      "id": "united-museum",
      "metadata": {
        "id": "united-museum"
      },
      "outputs": [],
      "source": [
        "key2048.encrypt(b'hola', None)"
      ]
    },
    {
      "cell_type": "markdown",
      "id": "macro-farmer",
      "metadata": {
        "id": "macro-farmer"
      },
      "source": [
        "**Aunque no se debe**, para entender por qué es necesario PKCS#1 vamos a utilizar la función `_encrypt()` y `_decrypt()`, que no está documentada pero la puedes encontrar en el código: https://github.com/Legrandin/pycryptodome/blob/master/lib/Crypto/PublicKey/RSA.py#L178\n",
        "\n",
        "Fíjate: vamos simplemente a cifrar el número '15' (que ocuparía 1 byte). Observa que el número '15' cifrado da un número enorme."
      ]
    },
    {
      "cell_type": "code",
      "execution_count": null,
      "id": "quick-delay",
      "metadata": {
        "id": "quick-delay"
      },
      "outputs": [],
      "source": [
        "m = 15\n",
        "c = key2048._encrypt(m)\n",
        "d = key2048._decrypt(c)\n",
        "\n",
        "print(f\"- Mensaje: {m}\")\n",
        "pprint(wrap(f\"- Cifrado: {c}\"))\n",
        "print(f\"- Descifrado: {d}\")"
      ]
    },
    {
      "cell_type": "markdown",
      "id": "polish-session",
      "metadata": {
        "id": "polish-session"
      },
      "source": [
        "¿Cómo podemos cifrar una cadena como 'hola'? Pues, por ejemplo, cifrando los bytes de la cadena uno a uno. Observa todo lo que ocuparía esta solución."
      ]
    },
    {
      "cell_type": "code",
      "execution_count": null,
      "id": "f3eab4d1-d3ed-49ed-ae8a-b11a6cf0bdfd",
      "metadata": {
        "id": "f3eab4d1-d3ed-49ed-ae8a-b11a6cf0bdfd"
      },
      "outputs": [],
      "source": [
        "pprint(([wrap(str(key2048._encrypt(c))) for c in b'hola']))"
      ]
    },
    {
      "cell_type": "markdown",
      "id": "e5bbdd0c-2f7f-4418-95b9-1e4b632fe917",
      "metadata": {
        "id": "e5bbdd0c-2f7f-4418-95b9-1e4b632fe917"
      },
      "source": [
        "Otra solución es convertir la cadena a un entero con la función: `msg = int.from_bytes(b\"hola mundo\", \"big\")`"
      ]
    },
    {
      "cell_type": "code",
      "execution_count": null,
      "id": "74b76a32-acc2-4728-a3b9-70ead522ec2a",
      "metadata": {
        "id": "74b76a32-acc2-4728-a3b9-70ead522ec2a"
      },
      "outputs": [],
      "source": [
        "msg = b\"hola\"\n",
        "msgAsNumber = int.from_bytes(msg, \"big\")\n",
        "print(f'Mensaje \"{msg}\" traducido a número: {msgAsNumber}')\n",
        "\n",
        "ciphered = key2048._encrypt(msgAsNumber)\n",
        "\n",
        "pprint(wrap(f'Cifrado: {key2048._encrypt(msgAsNumber)}'))"
      ]
    },
    {
      "cell_type": "markdown",
      "id": "746dbba4-1605-4137-8c63-08fd469fd387",
      "metadata": {
        "id": "746dbba4-1605-4137-8c63-08fd469fd387"
      },
      "source": [
        "El problema de esto es que **no podemos cifrar un mensaje más grande que el tamaño en bits de la clave**, es decir, 2048 bits en este caso. Vamos a probar con \"hola\" * 1000, que es la cadena \"hola\" repetida 1000 veces"
      ]
    },
    {
      "cell_type": "code",
      "execution_count": null,
      "id": "d39d07ac-11ff-4a22-add0-948afc28391a",
      "metadata": {
        "id": "d39d07ac-11ff-4a22-add0-948afc28391a"
      },
      "outputs": [],
      "source": [
        "key2048._encrypt(int.from_bytes(b\"hola\" * 1000, \"big\"))"
      ]
    },
    {
      "cell_type": "markdown",
      "id": "documented-hepatitis",
      "metadata": {
        "id": "documented-hepatitis"
      },
      "source": [
        "<font color=\"#f00\">\n",
        "\n",
        "**Pregunta**:\n",
        "Vamos a hacer las cosas bien: cifra `\"hola mundo\"` y `\"hola mundo\" * 1000` usando PKCS1. Encontrarás en ejemplo en la documentación de pyCryptoDome: https://pycryptodome.readthedocs.io/en/latest/src/cipher/oaep.html Usa la clave key2048 que has calculado antes en vez de cargarla desde un archivo\n",
        "</font>"
      ]
    },
    {
      "cell_type": "markdown",
      "source": [
        "Vaya, tampoco podemos cifrar un mensaje como `\"hola\" * 1000` (es decir, 1000 veces la palabra \"hola) ni siquiera con PKCS#1, porque el mensaje es más largo que la clave. Esta es una de las razones por las que necesitamos el cifrado híbrido, que veremos a continuación"
      ],
      "metadata": {
        "id": "_HKbMmeTzsUW"
      },
      "id": "_HKbMmeTzsUW"
    },
    {
      "cell_type": "markdown",
      "id": "ordinary-devil",
      "metadata": {
        "jp-MarkdownHeadingCollapsed": true,
        "id": "ordinary-devil"
      },
      "source": [
        "# Cifrado híbrido\n",
        "\n",
        "Normalmente no se cifra un mensaje en un sistema de cifrado asimétrico como RSA, sino que se usa algún tipo de cifrado híbrido:\n",
        "\n",
        "- Cifrar con RSA la clave AES que se usa en las comunicaciones\n",
        "- Cifrar con RSA el hash de un documento para firma digital\n",
        "\n",
        "En el tema de TLS veremos un cifrado híbrido: ciframos con RSA la clave AES que usamos para cifrar el texto.\n",
        "\n",
        "1. Bob: Crea par de claves RSA\n",
        "1. Alice: Crea clave simétrica AES. Cifra la clave AES con la clave pública de Bob. Envía mensaje\n",
        "1. Alice: cifra \"hola mundo\" con clave AES. Envía mensaje\n",
        "1. Bob: descifra clave AES con clave privada. Descifra mensaje de Alice\n",
        "\n",
        "Entre los ejemplos de RSA precisamente verás algo así: https://pycryptodome.readthedocs.io/en/latest/src/examples.html#encrypt-data-with-rsa"
      ]
    },
    {
      "cell_type": "markdown",
      "id": "5dda46b4-24a0-4d2b-a1fd-f52c70af7961",
      "metadata": {
        "id": "5dda46b4-24a0-4d2b-a1fd-f52c70af7961"
      },
      "source": [
        "<font color=\"red\">\n",
        "<b>Pregunta:</b>\n",
        "\n",
        "1. ¿Se te ocurre por qué es necesario el cifrado híbrido y no se cifra todo con RSA y ya está?\n",
        "\n",
        "</font>"
      ]
    }
  ],
  "metadata": {
    "kernelspec": {
      "display_name": "Python 3 (ipykernel)",
      "language": "python",
      "name": "python3"
    },
    "language_info": {
      "codemirror_mode": {
        "name": "ipython",
        "version": 3
      },
      "file_extension": ".py",
      "mimetype": "text/x-python",
      "name": "python",
      "nbconvert_exporter": "python",
      "pygments_lexer": "ipython3",
      "version": "3.10.9"
    },
    "colab": {
      "provenance": []
    }
  },
  "nbformat": 4,
  "nbformat_minor": 5
}