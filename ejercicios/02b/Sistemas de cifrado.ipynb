{
 "cells": [
  {
   "cell_type": "markdown",
   "id": "40a394f0",
   "metadata": {
    "jp-MarkdownHeadingCollapsed": true
   },
   "source": [
    "# Cifrado simétrico"
   ]
  },
  {
   "cell_type": "markdown",
   "id": "studied-pointer",
   "metadata": {},
   "source": [
    "Las prácticas de este curso las haremos en Python, conde tenemos dos posibilidades para probar criptografía: el paquete `PyCryptodome` y el paquete `cryptography`. Ambos son opciones válidas e intercambiables. Las prácticas de este curso las haremos con PyCryptodome. Puedes encontrar la ayuda en: https://pycryptodome.readthedocs.io/en/latest/\n",
    "\n",
    "Si estás siguiendo estas notas en tu PC, puedes instalarlo con: `python3 -m pip install pycryptodome`. Si las estás siguiendo en Colab, ejecuta la siguiente línea:"
   ]
  },
  {
   "cell_type": "code",
   "execution_count": null,
   "id": "7dc9549b",
   "metadata": {},
   "outputs": [],
   "source": [
    "!pip install pycryptodome"
   ]
  },
  {
   "cell_type": "markdown",
   "id": "66ad5bff",
   "metadata": {
    "jp-MarkdownHeadingCollapsed": true
   },
   "source": [
    "## Cifrado de flujo: ChaCha20\n",
    "\n",
    "En esta sección veremos los comandos para enviar un texto cifrado con ChaCha20.\n",
    "\n",
    "Primero importamos las librerías que necesitamos:"
   ]
  },
  {
   "cell_type": "code",
   "execution_count": null,
   "id": "decent-zimbabwe",
   "metadata": {},
   "outputs": [],
   "source": [
    "from base64 import b64encode, b64decode\n",
    "from Crypto.Cipher import ChaCha20\n",
    "import Crypto.Random"
   ]
  },
  {
   "cell_type": "markdown",
   "id": "designed-subcommittee",
   "metadata": {},
   "source": [
    "### Configuración del sistema emisor\n",
    "\n",
    "Los módulos de criptografía suelen necesitar una etapa inicial de configuración. Cada módulo se configura a su manera. A continuación encontrarás la etapa de configuración de ChaCha20 para PyCryptodome.\n",
    "\n",
    "Fíjate que la clave se crea al azar con algoritmos criptográficos `Crypto.Random.get_random_bytes()`: **es fundamental que las claves sean totalmente aleatorias y creadas también con algoritmos criptográficos**. No todas las funciones de creación de azar son válidas: necesitas una fuente de azar con validez criptográfica. Muchas implementaciones de protocolos criptográficos han caído no porque el cifrado fuese erróneo, sino porque la fuente de azar no era lo suficiente \"aleatoria\". En particular: en criptografía, no uses la función general `random.randbytes()` sino alguna específica de la librería criptográfica, como `Crypto.Random.get_random_bytes()`. Esto es válido también para los demás sistemas criptográficos."
   ]
  },
  {
   "cell_type": "code",
   "execution_count": null,
   "id": "elegant-yacht",
   "metadata": {},
   "outputs": [],
   "source": [
    "key = Crypto.Random.get_random_bytes(32)\n",
    "cipher_emisor = ChaCha20.new(key=key, nonce=None)\n",
    "print(f'Longitud de la clave: {8 * len(key)} bits')"
   ]
  },
  {
   "cell_type": "markdown",
   "id": "blank-pierce",
   "metadata": {},
   "source": [
    "En PyCryptodome el *nonce* se puede pasar al algoritmo durante la configuración. Si, como en este caso, no se pasa *nonce* durante la creación, la librería crea un *nonce* al azar que podemos recuperar. Si decides crear tú el *nonce*, recuerda que también tiene que ser un número aleatorio creado con algoritmos criptográficos, igual que la clave.\n",
    "\n",
    "Observa: en ChaCha20, la clave tiene 256 bits y el nonce tiene 64 bits."
   ]
  },
  {
   "cell_type": "code",
   "execution_count": null,
   "id": "hollow-snapshot",
   "metadata": {},
   "outputs": [],
   "source": [
    "nonce = cipher_emisor.nonce\n",
    "print(f'nonce creado automáticamente: {b64encode(nonce)}, longitud: {8 * len(nonce)} bits')\n",
    "\n",
    "# si lo necesitas:\n",
    "# nonce_creado_por_mi = Crypto.Random.get_random_bytes(8)\n",
    "# cipher_emisor = ChaCha20.new(key=key, nonce=once_creado_por_mi)"
   ]
  },
  {
   "cell_type": "markdown",
   "id": "featured-means",
   "metadata": {},
   "source": [
    "### Cifrado del mensaje por el emisor\n",
    "\n",
    "El emisor cifra el mensaje `Atacaremos al amanecer` y envía al receptor `result`, es decir, la pareja \"mensaje cifrado\" y \"*nonce*\". Fíjate: el nonce se puede enviar por un canal inseguro, así que se asume que el atacante lo conocerá.\n",
    "\n",
    "Observa que el resultado lo codificamos en Base64 (https://es.wikipedia.org/wiki/Base64). Aunque no es necesario, sí que es común hacerlo así porque algunos protocolos (correo electrónico, JSON...) solo puede enviar caracteres imprimibles. No pierdes ni ganas seguridad si decides usar o no Base64, es más una exigencia de tu sistema de comunicaciones. Fíjate que he usado la expresión \"codificamos en Base64\", no ciframos. Base64 es un algoritmo de codificación de bytes, no tiene claves, cualquiera lo puede codificar y decodificar y por tanto Base64 no es un cifrado."
   ]
  },
  {
   "cell_type": "code",
   "execution_count": null,
   "id": "flush-token",
   "metadata": {},
   "outputs": [],
   "source": [
    "plaintext = b'Atacaremos al amanecer'\n",
    "ciphertext = cipher_emisor.encrypt(plaintext)\n",
    "ct = b64encode(ciphertext)\n",
    "result = {'nonce':b64encode(nonce), 'ciphertext':ct}\n",
    "print(result)"
   ]
  },
  {
   "cell_type": "markdown",
   "id": "occasional-memorial",
   "metadata": {},
   "source": [
    "### Recepción y descifrado\n",
    "\n",
    "El receptor toma el *nonce* y el *ciphertext*. Primero decodifica el base64, configura el *cipher* y el *nonce* que ha recibido y descifra. Ya veremos cómo el receptor conoce la clave, porque no se la puede enviar el emisor."
   ]
  },
  {
   "cell_type": "code",
   "execution_count": null,
   "id": "graphic-rabbit",
   "metadata": {},
   "outputs": [],
   "source": [
    "received_nonce = b64decode(result['nonce'])\n",
    "received_ciphertext = b64decode(result['ciphertext'])\n",
    "cipher_receptor = ChaCha20.new(key=key, nonce=received_nonce)\n",
    "plaintext = cipher_receptor.decrypt(received_ciphertext)\n",
    "print(plaintext)"
   ]
  },
  {
   "cell_type": "markdown",
   "id": "universal-genetics",
   "metadata": {},
   "source": [
    "### Siguientes mensajes: sincronización entre ciphers\n",
    "\n",
    "Supongamos que el usuario vuelve a enviar el mismo mensaje, con el mismo cipher (fíjate que no volvemos a definir `cipher_emisor`: lo estamos reaprovechando)"
   ]
  },
  {
   "cell_type": "code",
   "execution_count": null,
   "id": "advance-cartoon",
   "metadata": {},
   "outputs": [],
   "source": [
    "plaintext = b'Atacaremos al amanecer'\n",
    "ciphertext = cipher_emisor.encrypt(plaintext)\n",
    "ct = b64encode(ciphertext)\n",
    "result = {'nonce':b64encode(nonce), 'ciphertext':ct}\n",
    "print(result)"
   ]
  },
  {
   "cell_type": "markdown",
   "id": "previous-perspective",
   "metadata": {},
   "source": [
    "Fíjate: estamos cifrando el mismo mensaje con el mismo nonce... pero el ciphertext es diferente. ¿Recuerdas que nunca se debe cifrar el mismo texto con la misma clave? ChaCha20 nos ayuda a que no lo hagamos, ni siquiera por equivocación, mediante el uso de un contador."
   ]
  },
  {
   "cell_type": "markdown",
   "id": "exciting-seeker",
   "metadata": {},
   "source": [
    "Supongamos que el receptor crea un nuevo cipher, con la misma configuración de key y nonce, e intenta descifrar:"
   ]
  },
  {
   "cell_type": "code",
   "execution_count": null,
   "id": "subsequent-delicious",
   "metadata": {},
   "outputs": [],
   "source": [
    "received_nonce = b64decode(result['nonce'])\n",
    "received_ciphertext = b64decode(result['ciphertext'])\n",
    "cipher_receptor = ChaCha20.new(key=key, nonce=received_nonce)\n",
    "plaintext = cipher_receptor.decrypt(received_ciphertext)\n",
    "print(plaintext)"
   ]
  },
  {
   "cell_type": "markdown",
   "id": "tight-supervisor",
   "metadata": {},
   "source": [
    "¿Qué ha pasado? ¿Por qué no se descifra? Recuerda que ChaCha20 tiene un contador adicional interno. **Emisor y receptor tienen que estar sincronizados**: para descifrar el byte número 22 tenemos que decirle al receptor que han pasado 22 bytes antes, aunque no los haya visto.\n",
    "\n",
    "(nota: 22 es el tamaño en bytes de la cadena \"Atacaremos al amanecer\", que fue el contenido del primer mensaje)\n",
    "\n",
    "Si volvemos a intentar descifrar, ahora sí que podemos hacerlo:"
   ]
  },
  {
   "cell_type": "code",
   "execution_count": null,
   "id": "interracial-server",
   "metadata": {},
   "outputs": [],
   "source": [
    "cipher_receptor.seek(22)\n",
    "plaintext = cipher_receptor.decrypt(received_ciphertext)\n",
    "print(plaintext)"
   ]
  },
  {
   "cell_type": "markdown",
   "id": "statewide-mortgage",
   "metadata": {},
   "source": [
    "PyCryptodome y todos los demás están sincronizados siempre que descifremos los mismos bytes que hemos cifrado desde que se han creado los dos ciphers, el de emisión y el de recepción.\n",
    "\n",
    "Si alguno de los dos pierde la sincronización (por ejemplo, porque se reinicia), entonces es necesario volver a sincronizarlos con un \"seek\": \"ya envié XX bytes aunque no los hayas visto, mueve el estado a esta posición\"\n",
    "\n",
    "Poder volver a sincronizar los dos streams es una enorme ventaja de ChaCha20 y eso es por el parámetro `pos` autoincremental que forma parte de la matriz de estado. No todos los algoritmos permiten sincronizar los flujos si se pierde la sincronización."
   ]
  },
  {
   "cell_type": "markdown",
   "id": "plastic-alarm",
   "metadata": {
    "jp-MarkdownHeadingCollapsed": true
   },
   "source": [
    "## Cifrado de bloque: modos de cifrado AES\n",
    "\n",
    "El otro sistema de cifrado simétrico que veremos es AES. Como ya comentamos en la parte teórica, no es suficiente con indicar que usamos AES, también es necesario especificar de qué manera, es decir, **en qué modo estamos usando AES**.\n",
    "\n",
    "Vamos a crear:\n",
    "\n",
    "- un mensaje de 128 bits, el tamaño de bloque de AES.\n",
    "- una clave k de 128 bits que usaremos durante todo el ejercicio."
   ]
  },
  {
   "cell_type": "code",
   "execution_count": null,
   "id": "naughty-burning",
   "metadata": {},
   "outputs": [],
   "source": [
    "from Crypto.Cipher import AES\n",
    "from Crypto.Random import get_random_bytes\n",
    "from base64 import b64encode, b64decode\n",
    "\n",
    "m = b'Atacad a las dos'\n",
    "k = get_random_bytes(16)\n",
    "print(f'Mensaje: \"{m}\" Tamaño={len(m) * 8} bits')\n",
    "print(f'Clave: {b64encode(k)} Tamaño={len(k) * 8} bits')"
   ]
  },
  {
   "cell_type": "markdown",
   "id": "medical-persian",
   "metadata": {
    "jp-MarkdownHeadingCollapsed": true
   },
   "source": [
    "### Modo ECB\n",
    "\n",
    "El primer modo que veremos es \"ECB\": cada bloque se cifra de forma independiente, sin realimentación con los demás.\n",
    "\n",
    "![center w:30em](images/ECB_encryption.svg)\n",
    "\n",
    "Vamos a ciframos tres veces el mismo mensaje. Observa que no hay memoria, y que cifrar dos veces el mismo mensaje con la misma clave produce el mismo texto cifrado. Por eso no se debe usar nunca el modo ECB: un atacante que observa las comunicaciones quizá no sepa qué estamos diciendo, pero sí que sabe que estamos repitiendo el mensaje y eso puede ser suficiente para sus objetivos.\n",
    "\n",
    "**Nunca debe usarse AES en modo ECB**"
   ]
  },
  {
   "cell_type": "code",
   "execution_count": null,
   "id": "engaged-kitty",
   "metadata": {},
   "outputs": [],
   "source": [
    "cipher = AES.new(k, AES.MODE_ECB)\n",
    "c1 = cipher.encrypt(m)\n",
    "c2 = cipher.encrypt(m)\n",
    "c3 = cipher.encrypt(m)\n",
    "print(b64encode(c1))\n",
    "print(b64encode(c2))\n",
    "print(b64encode(c3))"
   ]
  },
  {
   "cell_type": "code",
   "execution_count": null,
   "id": "historical-printer",
   "metadata": {},
   "outputs": [],
   "source": [
    "decipher = AES.new(k, AES.MODE_ECB)\n",
    "m1 = decipher.decrypt(c1)\n",
    "m2 = decipher.decrypt(c2)\n",
    "m3 = decipher.decrypt(c3)\n",
    "print(m1)\n",
    "print(m2)\n",
    "print(m3)"
   ]
  },
  {
   "cell_type": "markdown",
   "id": "accessory-petersburg",
   "metadata": {
    "jp-MarkdownHeadingCollapsed": true
   },
   "source": [
    "### Modo CBC\n",
    "\n",
    "En el modo CBC, hay realimentación entre bloques y existe un vector de inicialización\n",
    "\n",
    "![](images/CBC_encryption.svg)\n",
    "\n",
    "Ciframos dos veces el mismo mensaje. Observa que tenemos que crear un IV (Vector de Inicialización), y que este IV se lo tenemos que enviar al receptor. El envío del IV se hace durante el primer mensaje, antes de que el canal sea seguro, pero no hay problemas en que un atacante conozca el IV."
   ]
  },
  {
   "cell_type": "code",
   "execution_count": null,
   "id": "killing-fisher",
   "metadata": {},
   "outputs": [],
   "source": [
    "iv = get_random_bytes(16)\n",
    "cipher = AES.new(k, AES.MODE_CBC, iv=iv)\n",
    "c1 = cipher.encrypt(m)\n",
    "c2 = cipher.encrypt(m)\n",
    "print(b64encode(c1))\n",
    "print(b64encode(c2))"
   ]
  },
  {
   "cell_type": "markdown",
   "id": "1711df66-96c3-4399-a1fe-81d5caed3658",
   "metadata": {},
   "source": [
    "***\n",
    "\n",
    "<font color=\"green\">\n",
    "PREGUNTA: ahora los dos cifrados son diferentes a pesar de que estamos cifrando el mismo mensaje. ¿Por qué sucede eso?\n",
    "</font>\n",
    "\n",
    "***\n",
    "\n",
    "<font color=\"blue\">\n",
    "RESPUESTA: añade aquí tu respuesta\n",
    "</font>\n",
    "\n",
    "***"
   ]
  },
  {
   "cell_type": "markdown",
   "id": "stone-crazy",
   "metadata": {},
   "source": [
    "Descifrado: necesita la clave y el IV. La clave es secreta y el receptor tiene que haberla recibido por un canal secreto (lo veremos en la siguiente sección) pero el IV puede recibirse sin protección al inicio de la comunicación."
   ]
  },
  {
   "cell_type": "code",
   "execution_count": null,
   "id": "caring-passing",
   "metadata": {},
   "outputs": [],
   "source": [
    "decipher = AES.new(k, AES.MODE_CBC, iv=iv)\n",
    "m1 = decipher.decrypt(c1)\n",
    "m2 = decipher.decrypt(c2)\n",
    "print(m1)\n",
    "print(m2)"
   ]
  },
  {
   "cell_type": "markdown",
   "id": "opening-fifth",
   "metadata": {
    "jp-MarkdownHeadingCollapsed": true
   },
   "source": [
    "### Padding\n",
    "\n",
    "¿Qué pasa si tenemos que enviar mensajes más cortos que la longitud de bloque de AES? Entonces tenemos que usar algún algoritmo de padding. Es decir: marcar la longitud del mensaje original. Observa que solo podemos enviar bloques de 128 bits, y si intentamos enviar bloques más cortos o más largos saltará un error:"
   ]
  },
  {
   "cell_type": "code",
   "execution_count": null,
   "id": "4995ca70-c0a0-41cd-8e4e-0c8fc0ae7211",
   "metadata": {},
   "outputs": [],
   "source": [
    "c1 = cipher.encrypt(b'mensaje corto')"
   ]
  },
  {
   "cell_type": "markdown",
   "id": "8623f386-c8b6-46f2-8e33-4eeb226b2900",
   "metadata": {},
   "source": [
    "Con Cryptodome podemos usar las funciones `pad()` y `unpad()`\n",
    "\n",
    "Observa: en este ejemplo no ponemos IV, pero ya sabes que hay un IV. Si no lo especificamos los escogerá al azar."
   ]
  },
  {
   "cell_type": "code",
   "execution_count": null,
   "id": "labeled-status",
   "metadata": {},
   "outputs": [],
   "source": [
    "from Crypto.Util.Padding import pad, unpad\n",
    "\n",
    "# mensaje corto\n",
    "m = b'1234'\n",
    "cipher = AES.new(k, AES.MODE_CBC)\n",
    "c = cipher.encrypt(pad(m, AES.block_size))\n",
    "print({'iv':b64encode(cipher.iv), 'ciphertext':b64encode(c)})"
   ]
  },
  {
   "cell_type": "markdown",
   "id": "biblical-milton",
   "metadata": {},
   "source": [
    "Recepción:"
   ]
  },
  {
   "cell_type": "code",
   "execution_count": null,
   "id": "aquatic-copper",
   "metadata": {},
   "outputs": [],
   "source": [
    "decipher = AES.new(k, AES.MODE_CBC, cipher.iv)\n",
    "pt = unpad(decipher.decrypt(c), AES.block_size)\n",
    "print(\"The message was: \", pt)"
   ]
  },
  {
   "cell_type": "markdown",
   "id": "flying-transport",
   "metadata": {},
   "source": [
    "¿Qué pasa si no usamos unpad? AES es un cifrado de bloque, así que los mensajes en AES tienen obligatoriamente un tamaño igual al bloque AES (128 bits), así que vemos el *padding* que sobra. Las función *unpad()* nos hubiese cortado esos bytes sobrantes."
   ]
  },
  {
   "cell_type": "code",
   "execution_count": null,
   "id": "prerequisite-latvia",
   "metadata": {},
   "outputs": [],
   "source": [
    "decipher = AES.new(k, AES.MODE_CBC, cipher.iv)\n",
    "pt = decipher.decrypt(c)\n",
    "print(f\"The message was: {pt} (longitud {len(pt) * 8} bits)\")"
   ]
  },
  {
   "cell_type": "markdown",
   "id": "f679b2f0-393e-4b09-92d9-7e5baef7edc7",
   "metadata": {},
   "source": [
    "***\n",
    "\n",
    "<font color=\"red\">\n",
    "PREGUNTA: vimos que ChaCha20 podía resincronizarse si se perdían mensajes. ¿AES en modo CBC puede resincronizarse si se pierden mensajes? ¿Qué modo de AES permitiría resincronizarse?\n",
    "</font>\n",
    "\n",
    "***\n",
    "\n",
    "<font color=\"blue\">\n",
    "RESPUESTA: añade aquí tu respuesta\n",
    "</font>\n",
    "\n",
    "***"
   ]
  },
  {
   "cell_type": "markdown",
   "id": "a91700b7-cbba-412c-8b1c-1708430e205f",
   "metadata": {},
   "source": [
    "# Cifrado asimétrico o de clave pública"
   ]
  },
  {
   "cell_type": "markdown",
   "id": "arranged-chassis",
   "metadata": {
    "jp-MarkdownHeadingCollapsed": true
   },
   "source": [
    "## Acuerdo de claves Diffie-Hellman\n",
    "\n",
    "El protocolo Diffie-Hellman (D-H) permite que dos personas que no se han visto nunca acuerden una clave que después pueden utilizar para el cifrado AES o ChaCha20. Gracias a D-H, Nadie más que esas dos personas sabrán que clave han acordado, incluso si un atacante leyese todos los mensajes que se han intercambiado desde el principio.\n",
    "\n",
    "Recuerda, el protocolo D-H es:\n",
    "\n",
    "1. Acuerdan $g$ y $p$ primos entre sí\n",
    "1. Escogen números en secreto $a$ y $b$\n",
    "1. Se envian entre ellos:\n",
    "    - $Alice \\rightarrow Bob: A=g^{a} \\mod p$\n",
    "    - $Bob \\rightarrow Alice: B=g^{b} \\mod p$\n",
    "1. Calculan en secreto:\n",
    "    - $Alice$: $s = B^{a} \\mod p = g^{ab} \\mod p$\n",
    "    - $Alice$: $s = A^{b} \\mod p = g^{ab} \\mod p$\n",
    "1. Y usan $s$ como clave de cifrado un algoritmo simétrico  "
   ]
  },
  {
   "cell_type": "markdown",
   "id": "heated-monday",
   "metadata": {},
   "source": [
    "A continuación está el código de la librería https://github.com/amiralis/pyDH de Amirali Sanatinia, que es sencillo de leer y entender.\n",
    "\n",
    "Aunque no parece haber errores evidentes, **es obligatorio utilizar librerías auditadas**. Seguiremos esta por su valor educativo, no porque sea recomendable su uso."
   ]
  },
  {
   "cell_type": "code",
   "execution_count": null,
   "id": "devoted-genealogy",
   "metadata": {},
   "outputs": [],
   "source": [
    "\"\"\"\n",
    "Pure Python Diffie Hellman implementation\n",
    "\n",
    "Source: https://github.com/amiralis/pyDH\n",
    "\n",
    "Apache License\n",
    "         Version 2.0, January 2004\n",
    "     Copyright 2015 Amirali Sanatinia\n",
    "\"\"\"\n",
    "\n",
    "import os\n",
    "import binascii\n",
    "import hashlib\n",
    "\n",
    "# RFC 3526 - More Modular Exponential (MODP) Diffie-Hellman groups for \n",
    "# Internet Key Exchange (IKE) https://tools.ietf.org/html/rfc3526 \n",
    "\n",
    "primes = {\n",
    "\t\n",
    "\t# 1536-bit\n",
    "\t5: { \n",
    "\t\"prime\": 0xFFFFFFFFFFFFFFFFC90FDAA22168C234C4C6628B80DC1CD129024E088A67CC74020BBEA63B139B22514A08798E3404DDEF9519B3CD3A431B302B0A6DF25F14374FE1356D6D51C245E485B576625E7EC6F44C42E9A637ED6B0BFF5CB6F406B7EDEE386BFB5A899FA5AE9F24117C4B1FE649286651ECE45B3DC2007CB8A163BF0598DA48361C55D39A69163FA8FD24CF5F83655D23DCA3AD961C62F356208552BB9ED529077096966D670C354E4ABC9804F1746C08CA237327FFFFFFFFFFFFFFFF,\n",
    "\t\"generator\": 2\n",
    "\t},\n",
    "\n",
    "\t# 2048-bit\n",
    "\t14: {\n",
    "\t\"prime\": 0xFFFFFFFFFFFFFFFFC90FDAA22168C234C4C6628B80DC1CD129024E088A67CC74020BBEA63B139B22514A08798E3404DDEF9519B3CD3A431B302B0A6DF25F14374FE1356D6D51C245E485B576625E7EC6F44C42E9A637ED6B0BFF5CB6F406B7EDEE386BFB5A899FA5AE9F24117C4B1FE649286651ECE45B3DC2007CB8A163BF0598DA48361C55D39A69163FA8FD24CF5F83655D23DCA3AD961C62F356208552BB9ED529077096966D670C354E4ABC9804F1746C08CA18217C32905E462E36CE3BE39E772C180E86039B2783A2EC07A28FB5C55DF06F4C52C9DE2BCBF6955817183995497CEA956AE515D2261898FA051015728E5A8AACAA68FFFFFFFFFFFFFFFF,\n",
    "\t\"generator\": 2\n",
    "\t},\n",
    "\n",
    "\t# 3072-bit \n",
    "\t15: {\n",
    "\t\"prime\": 0xFFFFFFFFFFFFFFFFC90FDAA22168C234C4C6628B80DC1CD129024E088A67CC74020BBEA63B139B22514A08798E3404DDEF9519B3CD3A431B302B0A6DF25F14374FE1356D6D51C245E485B576625E7EC6F44C42E9A637ED6B0BFF5CB6F406B7EDEE386BFB5A899FA5AE9F24117C4B1FE649286651ECE45B3DC2007CB8A163BF0598DA48361C55D39A69163FA8FD24CF5F83655D23DCA3AD961C62F356208552BB9ED529077096966D670C354E4ABC9804F1746C08CA18217C32905E462E36CE3BE39E772C180E86039B2783A2EC07A28FB5C55DF06F4C52C9DE2BCBF6955817183995497CEA956AE515D2261898FA051015728E5A8AAAC42DAD33170D04507A33A85521ABDF1CBA64ECFB850458DBEF0A8AEA71575D060C7DB3970F85A6E1E4C7ABF5AE8CDB0933D71E8C94E04A25619DCEE3D2261AD2EE6BF12FFA06D98A0864D87602733EC86A64521F2B18177B200CBBE117577A615D6C770988C0BAD946E208E24FA074E5AB3143DB5BFCE0FD108E4B82D120A93AD2CAFFFFFFFFFFFFFFFF,\n",
    "\t\"generator\": 2\n",
    "\t},\n",
    "\n",
    "\t# 4096-bit\n",
    "\t16: {\n",
    "\t\"prime\": 0xFFFFFFFFFFFFFFFFC90FDAA22168C234C4C6628B80DC1CD129024E088A67CC74020BBEA63B139B22514A08798E3404DDEF9519B3CD3A431B302B0A6DF25F14374FE1356D6D51C245E485B576625E7EC6F44C42E9A637ED6B0BFF5CB6F406B7EDEE386BFB5A899FA5AE9F24117C4B1FE649286651ECE45B3DC2007CB8A163BF0598DA48361C55D39A69163FA8FD24CF5F83655D23DCA3AD961C62F356208552BB9ED529077096966D670C354E4ABC9804F1746C08CA18217C32905E462E36CE3BE39E772C180E86039B2783A2EC07A28FB5C55DF06F4C52C9DE2BCBF6955817183995497CEA956AE515D2261898FA051015728E5A8AAAC42DAD33170D04507A33A85521ABDF1CBA64ECFB850458DBEF0A8AEA71575D060C7DB3970F85A6E1E4C7ABF5AE8CDB0933D71E8C94E04A25619DCEE3D2261AD2EE6BF12FFA06D98A0864D87602733EC86A64521F2B18177B200CBBE117577A615D6C770988C0BAD946E208E24FA074E5AB3143DB5BFCE0FD108E4B82D120A92108011A723C12A787E6D788719A10BDBA5B2699C327186AF4E23C1A946834B6150BDA2583E9CA2AD44CE8DBBBC2DB04DE8EF92E8EFC141FBECAA6287C59474E6BC05D99B2964FA090C3A2233BA186515BE7ED1F612970CEE2D7AFB81BDD762170481CD0069127D5B05AA993B4EA988D8FDDC186FFB7DC90A6C08F4DF435C934063199FFFFFFFFFFFFFFFF,\n",
    "\t\"generator\": 2\n",
    "\t},\n",
    "\n",
    "\t# 6144-bit\n",
    "\t17: {\n",
    "\t\"prime\": 0xFFFFFFFFFFFFFFFFC90FDAA22168C234C4C6628B80DC1CD129024E088A67CC74020BBEA63B139B22514A08798E3404DDEF9519B3CD3A431B302B0A6DF25F14374FE1356D6D51C245E485B576625E7EC6F44C42E9A637ED6B0BFF5CB6F406B7EDEE386BFB5A899FA5AE9F24117C4B1FE649286651ECE45B3DC2007CB8A163BF0598DA48361C55D39A69163FA8FD24CF5F83655D23DCA3AD961C62F356208552BB9ED529077096966D670C354E4ABC9804F1746C08CA18217C32905E462E36CE3BE39E772C180E86039B2783A2EC07A28FB5C55DF06F4C52C9DE2BCBF6955817183995497CEA956AE515D2261898FA051015728E5A8AAAC42DAD33170D04507A33A85521ABDF1CBA64ECFB850458DBEF0A8AEA71575D060C7DB3970F85A6E1E4C7ABF5AE8CDB0933D71E8C94E04A25619DCEE3D2261AD2EE6BF12FFA06D98A0864D87602733EC86A64521F2B18177B200CBBE117577A615D6C770988C0BAD946E208E24FA074E5AB3143DB5BFCE0FD108E4B82D120A92108011A723C12A787E6D788719A10BDBA5B2699C327186AF4E23C1A946834B6150BDA2583E9CA2AD44CE8DBBBC2DB04DE8EF92E8EFC141FBECAA6287C59474E6BC05D99B2964FA090C3A2233BA186515BE7ED1F612970CEE2D7AFB81BDD762170481CD0069127D5B05AA993B4EA988D8FDDC186FFB7DC90A6C08F4DF435C93402849236C3FAB4D27C7026C1D4DCB2602646DEC9751E763DBA37BDF8FF9406AD9E530EE5DB382F413001AEB06A53ED9027D831179727B0865A8918DA3EDBEBCF9B14ED44CE6CBACED4BB1BDB7F1447E6CC254B332051512BD7AF426FB8F401378CD2BF5983CA01C64B92ECF032EA15D1721D03F482D7CE6E74FEF6D55E702F46980C82B5A84031900B1C9E59E7C97FBEC7E8F323A97A7E36CC88BE0F1D45B7FF585AC54BD407B22B4154AACC8F6D7EBF48E1D814CC5ED20F8037E0A79715EEF29BE32806A1D58BB7C5DA76F550AA3D8A1FBFF0EB19CCB1A313D55CDA56C9EC2EF29632387FE8D76E3C0468043E8F663F4860EE12BF2D5B0B7474D6E694F91E6DCC4024FFFFFFFFFFFFFFFF,\n",
    "\t\"generator\": 2\n",
    "\t},\n",
    "\n",
    "\t# 8192-bit\n",
    "\t18: {\n",
    "\t\"prime\": 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n",
    "\t\"generator\": 2\n",
    "\t}\n",
    "}\n",
    "\n",
    "\n",
    "class DiffieHellman:\n",
    "\t\"\"\" Class to represent the Diffie-Hellman key exchange protocol \"\"\"\n",
    "\t# Current minimum recommendation is 2048 bit.\n",
    "\tdef __init__(self, group=14):\n",
    "\t\tif group in primes:\n",
    "\t\t\tself.p = primes[group][\"prime\"]\n",
    "\t\t\tself.g = primes[group][\"generator\"]\n",
    "\t\telse:\n",
    "\t\t\traise Exception(\"Group not supported\")\n",
    "\n",
    "\t\tself.__a = int(binascii.hexlify(os.urandom(32)), base=16)\n",
    "\n",
    "\tdef get_private_key(self):\n",
    "\t\t\"\"\" Return the private key (a) \"\"\"\n",
    "\t\treturn self.__a\n",
    "\n",
    "\tdef gen_public_key(self):\n",
    "\t\t\"\"\" Return A, A = g ^ a mod p \"\"\"\n",
    "\t\t# calculate G^a mod p\n",
    "\t\treturn pow(self.g, self.__a, self.p)\n",
    "\n",
    "\tdef check_other_public_key(self, other_contribution):\n",
    "\t\t# check if the other public key is valid based on NIST SP800-56\n",
    "\t\t# 2 <= g^b <= p-2 and Lagrange for safe primes (g^bq)=1, q=(p-1)/2\n",
    "\n",
    "\t\tif 2 <= other_contribution and other_contribution <= self.p - 2:\n",
    "\t\t\tif pow(other_contribution, (self.p - 1) // 2, self.p) == 1:\n",
    "\t\t\t\treturn True\n",
    "\t\treturn False\n",
    "\n",
    "\tdef gen_shared_key(self, other_contribution):\n",
    "\t\t\"\"\" Return g ^ ab mod p \"\"\"\n",
    "\t\t# calculate the shared key G^ab mod p\n",
    "\t\tif self.check_other_public_key(other_contribution):\n",
    "\t\t\tself.shared_key = pow(other_contribution, self.__a, self.p)\n",
    "\t\t\treturn hashlib.sha256(str(self.shared_key).encode()).digest()\n",
    "\t\telse:\n",
    "\t\t\traise Exception(\"Bad public key from other party\")\n",
    "            "
   ]
  },
  {
   "cell_type": "markdown",
   "id": "exclusive-stylus",
   "metadata": {
    "jp-MarkdownHeadingCollapsed": true
   },
   "source": [
    "### Alice"
   ]
  },
  {
   "cell_type": "markdown",
   "id": "pending-massage",
   "metadata": {},
   "source": [
    "En esta ocasión, Alice y Bob quieren acordar una clave que después usarán para las comunicaciones con AES.\n",
    "\n",
    "Vamos a ver primero qué hace Alice."
   ]
  },
  {
   "cell_type": "code",
   "execution_count": null,
   "id": "excessive-writer",
   "metadata": {},
   "outputs": [],
   "source": [
    "alice = DiffieHellman()\n",
    "alice_pubkey = alice.gen_public_key()\n",
    "\n",
    "print('CLAVE PRIVADA DE ALICE: a\\n-------------------')\n",
    "print(f'a = {alice.get_private_key()}\\n')\n",
    "\n",
    "print('\\nCLAVE PÚBLICA DE ALICE: es el trío A=(g, p, g^a)\\n-------------------')\n",
    "print(f'g = {alice.g}\\n')\n",
    "print(f'p = {alice.p}\\n')\n",
    "print(f'g^a = {alice_pubkey}\\n')"
   ]
  },
  {
   "cell_type": "markdown",
   "id": "moderate-manor",
   "metadata": {},
   "source": [
    "Claves de Alice:\n",
    "\n",
    "- Clave privada es un solo número: $a_{priv}$. Este número es la clave privada de Alice y nunca saldrá del PC de Alice.\n",
    "- Clave pública es un trío de números: $A_{pub}=\\{g, p, g^a\\}$. Esta es la clave pública de Alice, que es lo que le envía a Bob.\n",
    "\n",
    "Nota: en realidad $g$ y $p$ no los suele escoger Alice sino que usa algún valor estándar de una tabla. Así que normalmente solo se envía $g^a$, y los valores de $g$ y $p$ son los del estándar. $g$ suele ser un primo pequeño, 2 ó 3, para acelerar los cálculos, mientras que $p$ es un número muy grande para dar seguridad al sistema."
   ]
  },
  {
   "cell_type": "markdown",
   "id": "integral-tomato",
   "metadata": {
    "jp-MarkdownHeadingCollapsed": true
   },
   "source": [
    "### Bob\n",
    "\n",
    "Bob calcular su par de claves públicas y privadas de una forma similar"
   ]
  },
  {
   "cell_type": "code",
   "execution_count": null,
   "id": "romantic-cross",
   "metadata": {},
   "outputs": [],
   "source": [
    "bob = DiffieHellman()\n",
    "bob_pubkey = bob.gen_public_key()\n",
    "\n",
    "print('CLAVE PRIVADA DE BOB: b\\n-------------------')\n",
    "print(f'b = {bob.get_private_key()}\\n')\n",
    "\n",
    "print('\\nCLAVE PÚBLICA DE BOB: es el trío B=(g, p, g^b)\\n-------------------')\n",
    "print(f'g = {bob.g}\\n')\n",
    "print(f'p = {bob.p}\\n')\n",
    "print(f'g^b = {bob_pubkey}\\n')"
   ]
  },
  {
   "cell_type": "markdown",
   "id": "sapphire-match",
   "metadata": {
    "jp-MarkdownHeadingCollapsed": true
   },
   "source": [
    "### Alice y Bob: cálculo de la clave compartida\n",
    "\n",
    "Ahora (recuerda que todos estos cálculos son $\\mod p$):\n",
    "\n",
    "- Alice recibe de Bob $B=g^b$, y puede calcular la clave compartida usando su propia $a$: $k_{shared} = B^a=g^{ab}$\n",
    "- Bob recibe de Alice $A=g^a$, y puede calcular la clave compartida usando su propia $b$: $k_{shared} = A^b=g^{ab}$\n",
    "- Un espía de las comunicaciones sabe $A=g^a$ y $B=g^b$, pero no sabe $a$ ni $b$. Observa que sabiendo solo $g^a$ y $g^b$ no hay forma de calcular $g^{ab}$ y el atacante no puede calcular la clave"
   ]
  },
  {
   "cell_type": "code",
   "execution_count": null,
   "id": "intellectual-inside",
   "metadata": {},
   "outputs": [],
   "source": [
    "alice_sharedkey = alice.gen_shared_key(bob_pubkey)\n",
    "print(alice_sharedkey)"
   ]
  },
  {
   "cell_type": "code",
   "execution_count": null,
   "id": "incorporate-separate",
   "metadata": {},
   "outputs": [],
   "source": [
    "bob_sharedkey = bob.gen_shared_key(alice_pubkey)\n",
    "print(bob_sharedkey)\n",
    "print(len(bob_sharedkey))"
   ]
  },
  {
   "cell_type": "markdown",
   "id": "controversial-payment",
   "metadata": {},
   "source": [
    "Y podemos comprobar que los dos tienen la misma clave compartida"
   ]
  },
  {
   "cell_type": "code",
   "execution_count": null,
   "id": "specialized-amount",
   "metadata": {},
   "outputs": [],
   "source": [
    "print(bob_sharedkey == alice_sharedkey)\n",
    "print(f'Longitud de la clave: {len(bob_sharedkey) * 8} bits')"
   ]
  },
  {
   "cell_type": "markdown",
   "id": "unexpected-stanford",
   "metadata": {},
   "source": [
    "***\n",
    "\n",
    "<font color=\"red\">\n",
    "Ya tenemos una \"clave compartida\", pero aún hay que adaptarla para poder usarla en AES-256 o ChaCha20. ¿Cómo lo harías?\n",
    "\n",
    "Los parámetros p y g de la librería son muy antiguos (RFC3526). ¿Puedes buscar otros más modernos?\n",
    "</font>\n",
    "\n",
    "***\n",
    "\n",
    "<font color=\"blue\">\n",
    "RESPUESTA: añade aquí tu respuesta\n",
    "</font>\n",
    "\n",
    "***"
   ]
  },
  {
   "cell_type": "markdown",
   "id": "329e0bde-d12c-48ae-8e88-19e5bfd28714",
   "metadata": {
    "jp-MarkdownHeadingCollapsed": true
   },
   "source": [
    "## RSA"
   ]
  },
  {
   "cell_type": "markdown",
   "id": "convenient-month",
   "metadata": {
    "jp-MarkdownHeadingCollapsed": true
   },
   "source": [
    "### Generación de claves con RSA\n",
    "\n",
    "Vamos a generar un par de claves pública/privada con RSA de tamaño 2048 bits\n"
   ]
  },
  {
   "cell_type": "code",
   "execution_count": null,
   "id": "assisted-operation",
   "metadata": {},
   "outputs": [],
   "source": [
    "# Clave de 2048 bits\n",
    "from Crypto.PublicKey import RSA\n",
    "key2048 = RSA.generate(2048)\n",
    "key2048"
   ]
  },
  {
   "cell_type": "markdown",
   "id": "3385a8c8-3dcc-48ec-8afc-034a57d9017c",
   "metadata": {},
   "source": [
    "***\n",
    "\n",
    "<font color=\"red\">\n",
    "Mide cuánto tiempo necesitamos para generar una claves de un tamaño ya útil 2048.\n",
    "    \n",
    "Prueba a generar claves mayores, de 4096 bits y de 16384 bits, por ejemplo, que es similar en seguridad al cifrado AES de 256 bits. ¿Cuánto tiempo le lleva aproximadamente?\n",
    "</font>\n",
    "\n",
    "***\n",
    "\n",
    "<font color=\"blue\">\n",
    "RESPUESTA\n",
    "</font>\n"
   ]
  },
  {
   "cell_type": "markdown",
   "id": "patient-speech",
   "metadata": {
    "jp-MarkdownHeadingCollapsed": true
   },
   "source": [
    "### Cifrado y descifrado\n",
    "\n",
    "Recuerda de las transparencias que no es recomendable utilizar RSA \"de forma pura\", es decir, sin tener en cuenta muchas consideraciones sobre padding, conversiones, longitudes... que se recogen en [PKCS#1](https://en.wikipedia.org/wiki/PKCS_1). De hecho, PyCryptoDome no nos va a dejar utilizar el cifrado y descifrado directamente.\n",
    "\n",
    "Observa que la línea siguiente da un error, avisando que uses el módulo  `Crypto.Cipher.PKCS1_OAEP`"
   ]
  },
  {
   "cell_type": "code",
   "execution_count": null,
   "id": "united-museum",
   "metadata": {},
   "outputs": [],
   "source": [
    "key2048.encrypt(b'hola', None)"
   ]
  },
  {
   "cell_type": "markdown",
   "id": "macro-farmer",
   "metadata": {},
   "source": [
    "**Aunque no se debe**, vamos a utilizar la función `_encrypt()` y `_decrypt()`, que no está documentada pero la puedes encontrar en el código: https://github.com/Legrandin/pycryptodome/blob/master/lib/Crypto/PublicKey/RSA.py#L178\n",
    "\n",
    "Fíjate: vamos simplemente a cifrar el número '15' (que ocuparía 1 byte). Observa que el número '15' cifrado da un número enorme."
   ]
  },
  {
   "cell_type": "code",
   "execution_count": null,
   "id": "quick-delay",
   "metadata": {},
   "outputs": [],
   "source": [
    "m = 15\n",
    "c = key2048._encrypt(m)\n",
    "d = key2048._decrypt(c)\n",
    "print(f\"Cifrado: {c}\")\n",
    "print(f\"Descifrado: {d}\")"
   ]
  },
  {
   "cell_type": "markdown",
   "id": "polish-session",
   "metadata": {},
   "source": [
    "¿Cómo podemos cifrar una cadena como 'hola'? Pues, por ejemplo, cifrando los bytes de la cadena uno a uno. Observa todo lo que ocuparía esta solución."
   ]
  },
  {
   "cell_type": "code",
   "execution_count": null,
   "id": "f3eab4d1-d3ed-49ed-ae8a-b11a6cf0bdfd",
   "metadata": {},
   "outputs": [],
   "source": [
    "[key2048._encrypt(c) for c in b'hola']"
   ]
  },
  {
   "cell_type": "markdown",
   "id": "e5bbdd0c-2f7f-4418-95b9-1e4b632fe917",
   "metadata": {},
   "source": [
    "Otra solución es convertir la cadena a un entero con la función: `msg = int.from_bytes(b\"hola mundo\", \"big\")`"
   ]
  },
  {
   "cell_type": "code",
   "execution_count": null,
   "id": "74b76a32-acc2-4728-a3b9-70ead522ec2a",
   "metadata": {},
   "outputs": [],
   "source": [
    "msg = int.from_bytes(b\"hola mundo\", \"big\")\n",
    "print(msg)\n",
    "key2048._encrypt(msg)"
   ]
  },
  {
   "cell_type": "markdown",
   "id": "746dbba4-1605-4137-8c63-08fd469fd387",
   "metadata": {},
   "source": [
    "El problema de esto es que **no podemos cifrar un mensaje más grande que el tamaño en bits de la clave**, es decir, 2048 bits en este caso. Vamos a probar con \"hola\" * 1000, que es la cadena \"hola\" repetida 1000 veces"
   ]
  },
  {
   "cell_type": "code",
   "execution_count": null,
   "id": "d39d07ac-11ff-4a22-add0-948afc28391a",
   "metadata": {},
   "outputs": [],
   "source": [
    "key2048._encrypt(int.from_bytes(b\"hola\" * 1000, \"big\"))"
   ]
  },
  {
   "cell_type": "markdown",
   "id": "documented-hepatitis",
   "metadata": {},
   "source": [
    "Vamos a hacer las cosas bien: cifra `\"hola mundo\"` y `\"hola mundo\" * 1000` usando PKCS1 y nuestra clave RSA que hemos generado."
   ]
  },
  {
   "cell_type": "code",
   "execution_count": null,
   "id": "510ce1ea-471f-4dff-8e9a-245d83a781e6",
   "metadata": {},
   "outputs": [],
   "source": [
    "from Crypto.Cipher import PKCS1_OAEP\n",
    "\n",
    "cipher = PKCS1_OAEP.new(key2048)\n",
    "c = cipher.encrypt(b'hola')\n",
    "print(f'Cifrado RSA: {c}')\n",
    "print(f'Cifrado: {cipher.decrypt(c)}')\n",
    "\n",
    "c2 = cipher.encrypt(b'hola' * 1000)\n",
    "print(f'Cifrado RSA: {c2}')\n",
    "print(f'Cifrado: {cipher.decrypt(c2)}')\n",
    "\n"
   ]
  },
  {
   "cell_type": "markdown",
   "id": "ordinary-devil",
   "metadata": {
    "jp-MarkdownHeadingCollapsed": true
   },
   "source": [
    "## Cifrado híbrido\n",
    "\n",
    "Normalmente no se cifra un mensaje en RSA, sino que se usa algún tipo de cifrado híbrido:\n",
    "\n",
    "- Cifrar con RSA la clave AES que se usa en las comunicaciones\n",
    "- Cifrar con RSA el hash de un documento para firma digital\n",
    "\n",
    "En el tema de TLS veremos un cifrado híbrido: ciframos con RSA la clave AES que usamos para cifrar el texto.\n",
    "\n",
    "1. Bob: Crea par de claves RSA\n",
    "1. Alice: Crea clave simétrica AES. Cifra la clave AES con la clave pública de Bob. Envía mensaje\n",
    "1. Alice: cifra \"hola mundo\" con clave AES. Envía mensaje\n",
    "1. Bob: descifra clave AES con clave privada. Descifra mensaje de Alice\n",
    "\n",
    "Entre los ejemplos de RSA precisamente verás algo así: https://pycryptodome.readthedocs.io/en/latest/src/examples.html#encrypt-data-with-rsa"
   ]
  },
  {
   "cell_type": "markdown",
   "id": "5dda46b4-24a0-4d2b-a1fd-f52c70af7961",
   "metadata": {},
   "source": [
    "***\n",
    "\n",
    "<font color=\"red\">\n",
    "¿Se te ocurre por qué es necesario el cifrado híbrido y no se cifra todo con RSA y ya está?\n",
    "</font>\n",
    "\n",
    "***\n",
    "\n",
    "<font color=\"blue\">\n",
    "RESPUESTA\n",
    "</font>"
   ]
  },
  {
   "cell_type": "code",
   "execution_count": null,
   "id": "5cb11274-c64a-4795-b5c1-906b978d7292",
   "metadata": {},
   "outputs": [],
   "source": []
  }
 ],
 "metadata": {
  "kernelspec": {
   "display_name": "Python 3 (ipykernel)",
   "language": "python",
   "name": "python3"
  },
  "language_info": {
   "codemirror_mode": {
    "name": "ipython",
    "version": 3
   },
   "file_extension": ".py",
   "mimetype": "text/x-python",
   "name": "python",
   "nbconvert_exporter": "python",
   "pygments_lexer": "ipython3",
   "version": "3.10.9"
  }
 },
 "nbformat": 4,
 "nbformat_minor": 5
}
