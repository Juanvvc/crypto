{
  "cells": [
    {
      "cell_type": "markdown",
      "id": "studied-pointer",
      "metadata": {
        "id": "studied-pointer"
      },
      "source": [
        "# Tema 3 - Cifrado de flujo con ChaCha20\n",
        "\n",
        "Las prácticas de este curso las haremos en Python, conde tenemos dos posibilidades para probar criptografía: el paquete PyCryptodome y el paquete cryptography. Ambos son opciones válidas e intercambiables. Las prácticas de este curso las haremos con PyCryptodome. Puedes encontrar la ayuda en: https://pycryptodome.readthedocs.io/en/latest/\n",
        "\n",
        "Si estás siguiendo estas notas en tu PC, puedes instalarlo con: `python3 -m pip install pycryptodome`. Si las estás siguiendo en Colab, ejecuta la siguiente línea:"
      ]
    },
    {
      "cell_type": "code",
      "execution_count": 1,
      "id": "decent-zimbabwe",
      "metadata": {
        "colab": {
          "base_uri": "https://localhost:8080/"
        },
        "id": "decent-zimbabwe",
        "outputId": "5274f616-00e5-44c9-f9f4-b1a213dfde44"
      },
      "outputs": [
        {
          "output_type": "stream",
          "name": "stdout",
          "text": [
            "Collecting pycryptodome\n",
            "  Downloading pycryptodome-3.20.0-cp35-abi3-manylinux_2_17_x86_64.manylinux2014_x86_64.whl (2.1 MB)\n",
            "\u001b[2K     \u001b[90m━━━━━━━━━━━━━━━━━━━━━━━━━━━━━━━━━━━━━━━━\u001b[0m \u001b[32m2.1/2.1 MB\u001b[0m \u001b[31m8.5 MB/s\u001b[0m eta \u001b[36m0:00:00\u001b[0m\n",
            "\u001b[?25hInstalling collected packages: pycryptodome\n",
            "Successfully installed pycryptodome-3.20.0\n"
          ]
        }
      ],
      "source": [
        "!python3 -m pip install pycryptodome"
      ]
    },
    {
      "cell_type": "markdown",
      "source": [
        "A continuación importamos las librerías que vamos a necesitar."
      ],
      "metadata": {
        "id": "IbtLGbvCOesY"
      },
      "id": "IbtLGbvCOesY"
    },
    {
      "cell_type": "code",
      "source": [
        "from base64 import b64encode, b64decode\n",
        "from Crypto.Cipher import ChaCha20\n",
        "from Crypto.Random import get_random_bytes"
      ],
      "metadata": {
        "id": "8iOXOegEOi1Y"
      },
      "id": "8iOXOegEOi1Y",
      "execution_count": 2,
      "outputs": []
    },
    {
      "cell_type": "markdown",
      "id": "designed-subcommittee",
      "metadata": {
        "id": "designed-subcommittee"
      },
      "source": [
        "## Configuración del sistema emisor\n",
        "\n",
        "Los módulos de criptografía suelen necesitar una etapa inicial de configuración. Cada módulo se configura a su manera. A continuación encontrarás la etapa de configuración de ChaCha20 para PyCryptodome.\n",
        "\n",
        "Fíjate que la clave se crea al azar con algoritmos criptográficos `Crypto.Random.get_random_bytes()`: **es fundamental que las claves sean totalmente aleatorias y creadas también con algoritmos criptográficos**. No todas las funciones de creación de azar son válidas: necesitas una fuente de azar con validez criptográfica. Muchas implementaciones de protocolos criptográficos han caído no porque el cifrado fuese erróneo, sino porque la fuente de azar no era lo suficiente \"aleatoria\". En particular: en criptografía, no uses la función general `random.randbytes()` sino alguna específica de la librería criptográfica, como `Crypto.Random.get_random_bytes()`. Esto es válido también para los demás sistemas criptográficos."
      ]
    },
    {
      "cell_type": "code",
      "execution_count": 15,
      "id": "elegant-yacht",
      "metadata": {
        "colab": {
          "base_uri": "https://localhost:8080/"
        },
        "id": "elegant-yacht",
        "outputId": "cc3cd676-29fa-4be4-bedc-39c5e607ef56"
      },
      "outputs": [
        {
          "output_type": "stream",
          "name": "stdout",
          "text": [
            "Longitud de la clave: 256 bits\n"
          ]
        }
      ],
      "source": [
        "key = get_random_bytes(32)\n",
        "cipher_emisor = ChaCha20.new(key=key, nonce=None)\n",
        "print('Longitud de la clave: {} bits'.format(8 * len(key)))"
      ]
    },
    {
      "cell_type": "markdown",
      "id": "blank-pierce",
      "metadata": {
        "id": "blank-pierce"
      },
      "source": [
        "En PyCryptodome el *nonce* se puede pasar al algoritmo durante la configuración. Si, como en este caso, no se pasa *nonce* durante la creación, la librería crea un *nonc* al azar que podemos recuperar. Si decides crear tú el *nonce*, recuerda que también tiene que ser un número aleatorio creado con algoritmos criptográficos, igual que la clave."
      ]
    },
    {
      "cell_type": "code",
      "execution_count": 16,
      "id": "hollow-snapshot",
      "metadata": {
        "colab": {
          "base_uri": "https://localhost:8080/"
        },
        "id": "hollow-snapshot",
        "outputId": "899b07fc-d4c1-4ab4-81e3-8553ab26bcfd"
      },
      "outputs": [
        {
          "output_type": "stream",
          "name": "stdout",
          "text": [
            "nonce creado automáticamente: b'pltFqWU3yhI=', longitud: 64 bits\n"
          ]
        }
      ],
      "source": [
        "nonce = cipher_emisor.nonce\n",
        "print(f'nonce creado automáticamente: {b64encode(nonce)}, longitud: {8 * len(nonce)} bits')\n",
        "\n",
        "# si lo necesitas:\n",
        "# nonce_creado_por_mi = Crypto.Random.get_random_bytes(8)\n",
        "# cipher_emisor = ChaCha20.new(key=key, nonce=once_creado_por_mi)"
      ]
    },
    {
      "cell_type": "markdown",
      "id": "featured-means",
      "metadata": {
        "id": "featured-means"
      },
      "source": [
        "## Cifrado del mensaje por el emisor\n",
        "\n",
        "El emisor cifra el mensaje `Atacaremos al amanecer` y envía al receptor `result`, es decir, la pareja \"mensaje cifrado\" y \"*nonce*\". Fíjate: el nonce se puede enviar por un canal inseguro, así que se asume que el atacante lo conocerá.\n",
        "\n",
        "Observa que el resultado lo codificamos en Base64 (https://es.wikipedia.org/wiki/Base64). Aunque no es necesario, sí que es común hacerlo así porque algunos protocolos (correo electrónico, JSON...) solo puede enviar caracteres imprimibles. No pierdes ni ganas seguridad si decides usar o no Base64, es más una exigencia de tu sistema de comunicaciones. Fíjate que he usado la expresión \"codificamos en Base64\", no ciframos. Base64 es un algoritmo de codificación de bytes, no tiene claves, cualquiera lo puede codificar y decodificar y por tanto Base64 no es un cifrado."
      ]
    },
    {
      "cell_type": "code",
      "execution_count": 17,
      "id": "flush-token",
      "metadata": {
        "colab": {
          "base_uri": "https://localhost:8080/"
        },
        "id": "flush-token",
        "outputId": "caac629f-bbc8-431d-9246-f4be4e100470"
      },
      "outputs": [
        {
          "output_type": "stream",
          "name": "stdout",
          "text": [
            "{'nonce': b'pltFqWU3yhI=', 'ciphertext': b'97ua7gGzM/0K7SSVuHnnDSK/q1eSbA=='}\n"
          ]
        }
      ],
      "source": [
        "plaintext = b'Atacaremos al amanecer'\n",
        "ciphertext = cipher_emisor.encrypt(plaintext)\n",
        "result = {'nonce':b64encode(nonce), 'ciphertext':b64encode(ciphertext)}\n",
        "print(result)"
      ]
    },
    {
      "cell_type": "markdown",
      "id": "occasional-memorial",
      "metadata": {
        "id": "occasional-memorial"
      },
      "source": [
        "## Recepción y descifrado\n",
        "\n",
        "El receptor toma el *nonce* y el *ciphertext*, primero decodifica el base64, configura el *cipher* con la clave secreta que tiene que conocer previamente, y después descifra.\n",
        "\n",
        "En temas posteriores veremos cómo el receptor conoce la clave secreta."
      ]
    },
    {
      "cell_type": "code",
      "execution_count": 18,
      "id": "graphic-rabbit",
      "metadata": {
        "colab": {
          "base_uri": "https://localhost:8080/"
        },
        "id": "graphic-rabbit",
        "outputId": "ba086d3b-42a3-44c2-b5dc-c168fcf2fd1c"
      },
      "outputs": [
        {
          "output_type": "stream",
          "name": "stdout",
          "text": [
            "b'Atacaremos al amanecer'\n"
          ]
        }
      ],
      "source": [
        "received_nonce = b64decode(result['nonce'])\n",
        "received_ciphertext = b64decode(result['ciphertext'])\n",
        "cipher_receptor = ChaCha20.new(key=key, nonce=received_nonce)\n",
        "plaintext = cipher_receptor.decrypt(received_ciphertext)\n",
        "print(plaintext)"
      ]
    },
    {
      "cell_type": "markdown",
      "id": "universal-genetics",
      "metadata": {
        "id": "universal-genetics"
      },
      "source": [
        "## Siguientes mensajes: sincronización entre ciphers\n",
        "\n",
        "Supongamos que el usuario vuelve a enviar el mismo mensaje, con el mismo cipher (fíjate que no volvemos a definir `cipher_emisor`: lo estamos reaprovechando)"
      ]
    },
    {
      "cell_type": "code",
      "execution_count": 20,
      "id": "advance-cartoon",
      "metadata": {
        "colab": {
          "base_uri": "https://localhost:8080/"
        },
        "id": "advance-cartoon",
        "outputId": "08a948f3-521a-494c-f1b5-7e7a70e553f2"
      },
      "outputs": [
        {
          "output_type": "stream",
          "name": "stdout",
          "text": [
            "{'nonce': b'pltFqWU3yhI=', 'ciphertext': b'UIpTSjbYLaORBZyZmldQXF2/B3wAnA=='}\n"
          ]
        }
      ],
      "source": [
        "plaintext = b'Atacaremos al amanecer'\n",
        "ciphertext = cipher_emisor.encrypt(plaintext)\n",
        "result = {'nonce':b64encode(nonce), 'ciphertext':b64encode(ciphertext)}\n",
        "print(result)"
      ]
    },
    {
      "cell_type": "markdown",
      "id": "previous-perspective",
      "metadata": {
        "id": "previous-perspective"
      },
      "source": [
        "Fíjate: estamos cifrando el mismo mensaje con el mismo nonce... pero el ciphertext es diferente. ¿Recuerdas que nunca se debe cifrar el mismo texto con la misma clave? ChaCha20 nos ayuda a que no lo hagamos, ni siquiera por equivocación, mediante el uso de un contador."
      ]
    },
    {
      "cell_type": "markdown",
      "id": "exciting-seeker",
      "metadata": {
        "id": "exciting-seeker"
      },
      "source": [
        "Supongamos que el receptor crea un nuevo cipher, con la misma configuración de key y nonce, e intenta descifrar:"
      ]
    },
    {
      "cell_type": "code",
      "execution_count": 21,
      "id": "subsequent-delicious",
      "metadata": {
        "colab": {
          "base_uri": "https://localhost:8080/"
        },
        "id": "subsequent-delicious",
        "outputId": "0ada47ec-aa8a-4603-c993-7c9075e09a1c"
      },
      "outputs": [
        {
          "output_type": "stream",
          "name": "stdout",
          "text": [
            "b'\\xe6E\\xa8\\xc7V\\x19{3\\xf4\\x9b\\x98mN\\x0e\\xd6<\\x1en\\xc9H\\xf7\\x82'\n"
          ]
        }
      ],
      "source": [
        "received_nonce = b64decode(result['nonce'])\n",
        "received_ciphertext = b64decode(result['ciphertext'])\n",
        "cipher_receptor = ChaCha20.new(key=key, nonce=received_nonce)\n",
        "plaintext = cipher_receptor.decrypt(received_ciphertext)\n",
        "print(plaintext)"
      ]
    },
    {
      "cell_type": "markdown",
      "id": "tight-supervisor",
      "metadata": {
        "id": "tight-supervisor"
      },
      "source": [
        "¿Qué ha pasado? ¿Por qué no se descifra? Recuerda que ChaCha20 tiene un contador adicional interno. Es decir: **emisor y receptor tienen que estar sincronizados** Es decir: para descifrar el byte número 22 tenemos que decirle al receptor que han pasado 22 bytes antes, aunque no los haya visto.\n",
        "\n",
        "(nota: 22 es el tamaño en bytes de la cadena \"Atacaremos al amanecer\", que fue el contenido del primer mensaje)\n",
        "\n",
        "Si volvemos a intentar descifrar, ahora sí que podemos hacerlo:"
      ]
    },
    {
      "cell_type": "code",
      "execution_count": 22,
      "id": "interracial-server",
      "metadata": {
        "colab": {
          "base_uri": "https://localhost:8080/"
        },
        "id": "interracial-server",
        "outputId": "a0ec6660-439c-4619-dafb-045af2da11da"
      },
      "outputs": [
        {
          "output_type": "stream",
          "name": "stdout",
          "text": [
            "b'\\'G\\x17\\xc6|\\x06\\xb8\\x9c\\r=\\xbd\\xfa!\\xa3\\t\"m\\x02\\x96\\xc7R\\x87'\n"
          ]
        }
      ],
      "source": [
        "cipher_receptor.seek(22)\n",
        "plaintext = cipher_receptor.decrypt(received_ciphertext)\n",
        "print(plaintext)"
      ]
    },
    {
      "cell_type": "markdown",
      "id": "statewide-mortgage",
      "metadata": {
        "id": "statewide-mortgage"
      },
      "source": [
        "PyCryptodome y todos los demás están sincronizados siempre que descifremos los mismos bytes que hemos cifrado desde que se han creado los dos ciphers, el de emisión y el de recepción.\n",
        "\n",
        "Si alguno de los dos pierde la sincronización (por ejemplo, porque se reinicia), entonces es necesario volver a sincronizarlos con un \"seek\": \"ya envié XX bytes aunque no los hayas visto, mueve el estado a esta posición\"\n",
        "\n",
        "Poder volver a sincronizar los dos streams es una enorme ventaja de ChaCha20 y eso es por el parámetro `pos` autoincremental que forma parte de la matriz de estado. No todos los algoritmos permiten sincronizar los flujos si se pierde la sincronización."
      ]
    },
    {
      "cell_type": "markdown",
      "source": [
        "<font color=\"#f00\"> (Este ejercicio no tiene preguntas)</font>"
      ],
      "metadata": {
        "id": "5Nim1njlRWeI"
      },
      "id": "5Nim1njlRWeI"
    }
  ],
  "metadata": {
    "kernelspec": {
      "display_name": "Python 3 (ipykernel)",
      "language": "python",
      "name": "python3"
    },
    "language_info": {
      "codemirror_mode": {
        "name": "ipython",
        "version": 3
      },
      "file_extension": ".py",
      "mimetype": "text/x-python",
      "name": "python",
      "nbconvert_exporter": "python",
      "pygments_lexer": "ipython3",
      "version": "3.9.16"
    },
    "colab": {
      "provenance": []
    }
  },
  "nbformat": 4,
  "nbformat_minor": 5
}