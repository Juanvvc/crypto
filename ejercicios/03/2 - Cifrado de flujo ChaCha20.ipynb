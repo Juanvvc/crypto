{
  "cells": [
    {
      "cell_type": "markdown",
      "id": "studied-pointer",
      "metadata": {
        "id": "studied-pointer"
      },
      "source": [
        "# Tema 3 - Cifrado de flujo con ChaCha20\n",
        "\n",
        "Las prácticas de este curso las haremos en Python, conde tenemos dos posibilidades para probar criptografía: el paquete PyCryptodome y el paquete cryptography. Ambos son opciones válidas e intercambiables. Las prácticas de este curso las haremos con PyCryptodome. Puedes encontrar la ayuda en: https://pycryptodome.readthedocs.io/en/latest/\n",
        "\n",
        "Si estás siguiendo estas notas en tu PC, puedes instalarlo con: `python3 -m pip install pycryptodome`. Si las estás siguiendo en Colab, ejecuta la siguiente línea:"
      ]
    },
    {
      "cell_type": "code",
      "execution_count": null,
      "id": "decent-zimbabwe",
      "metadata": {
        "id": "decent-zimbabwe"
      },
      "outputs": [],
      "source": [
        "!python3 -m pip install pycryptodome"
      ]
    },
    {
      "cell_type": "markdown",
      "source": [
        "A continuación importamos las librerías que vamos a necesitar."
      ],
      "metadata": {
        "id": "IbtLGbvCOesY"
      },
      "id": "IbtLGbvCOesY"
    },
    {
      "cell_type": "code",
      "source": [
        "from base64 import b64encode, b64decode\n",
        "from Crypto.Cipher import ChaCha20\n",
        "from Crypto.Random import get_random_bytes"
      ],
      "metadata": {
        "id": "8iOXOegEOi1Y"
      },
      "id": "8iOXOegEOi1Y",
      "execution_count": null,
      "outputs": []
    },
    {
      "cell_type": "markdown",
      "id": "designed-subcommittee",
      "metadata": {
        "id": "designed-subcommittee"
      },
      "source": [
        "## Configuración del sistema emisor\n",
        "\n",
        "Los módulos de criptografía suelen necesitar una etapa inicial de configuración. Cada módulo se configura a su manera. A continuación encontrarás la etapa de configuración de ChaCha20 para PyCryptodome.\n",
        "\n",
        "Fíjate que la clave se crea al azar con algoritmos criptográficos `Crypto.Random.get_random_bytes()`: **es fundamental que las claves sean totalmente aleatorias y creadas también con algoritmos criptográficos**. No todas las funciones de creación de azar son válidas: necesitas una fuente de azar con validez criptográfica. Muchas implementaciones de protocolos criptográficos han caído no porque el cifrado fuese erróneo, sino porque la fuente de azar no era lo suficiente \"aleatoria\". En particular: en criptografía, no uses la función general `random.randbytes()` sino alguna específica de la librería criptográfica, como `Crypto.Random.get_random_bytes()`. Esto es válido también para los demás sistemas criptográficos."
      ]
    },
    {
      "cell_type": "code",
      "execution_count": null,
      "id": "elegant-yacht",
      "metadata": {
        "id": "elegant-yacht"
      },
      "outputs": [],
      "source": [
        "key = get_random_bytes(32)\n",
        "cipher_emisor = ChaCha20.new(key=key, nonce=None)\n",
        "print('Longitud de la clave: {} bits'.format(8 * len(key)))"
      ]
    },
    {
      "cell_type": "markdown",
      "id": "blank-pierce",
      "metadata": {
        "id": "blank-pierce"
      },
      "source": [
        "En PyCryptodome el *nonce* se puede pasar al algoritmo durante la configuración. Si, como en este caso, no se pasa *nonce* durante la creación, la librería crea un *nonc* al azar que podemos recuperar. Si decides crear tú el *nonce*, recuerda que también tiene que ser un número aleatorio creado con algoritmos criptográficos, igual que la clave."
      ]
    },
    {
      "cell_type": "code",
      "execution_count": null,
      "id": "hollow-snapshot",
      "metadata": {
        "id": "hollow-snapshot"
      },
      "outputs": [],
      "source": [
        "nonce = cipher_emisor.nonce\n",
        "print(f'nonce creado automáticamente: {b64encode(nonce)}, longitud: {8 * len(nonce)} bits')\n",
        "\n",
        "# si lo necesitas:\n",
        "# nonce_creado_por_mi = Crypto.Random.get_random_bytes(8)\n",
        "# cipher_emisor = ChaCha20.new(key=key, nonce=once_creado_por_mi)"
      ]
    },
    {
      "cell_type": "markdown",
      "id": "featured-means",
      "metadata": {
        "id": "featured-means"
      },
      "source": [
        "## Cifrado del mensaje por el emisor\n",
        "\n",
        "El emisor cifra el mensaje `Atacaremos al amanecer` y envía al receptor `result`, es decir, la pareja \"mensaje cifrado\" y \"*nonce*\". Fíjate: el nonce se puede enviar por un canal inseguro, así que se asume que el atacante lo conocerá.\n",
        "\n",
        "Observa que el resultado lo codificamos en Base64 (https://es.wikipedia.org/wiki/Base64). Aunque no es necesario, sí que es común hacerlo así porque algunos protocolos (correo electrónico, JSON...) solo puede enviar caracteres imprimibles. No pierdes ni ganas seguridad si decides usar o no Base64, es más una exigencia de tu sistema de comunicaciones. Fíjate que he usado la expresión \"codificamos en Base64\", no ciframos. Base64 es un algoritmo de codificación de bytes, no tiene claves, cualquiera lo puede codificar y decodificar y por tanto Base64 no es un cifrado."
      ]
    },
    {
      "cell_type": "code",
      "execution_count": null,
      "id": "flush-token",
      "metadata": {
        "id": "flush-token"
      },
      "outputs": [],
      "source": [
        "plaintext = b'Atacaremos al amanecer'\n",
        "ciphertext = cipher_emisor.encrypt(plaintext)\n",
        "result = {'nonce':b64encode(nonce), 'ciphertext':b64encode(ciphertext)}\n",
        "print(result)"
      ]
    },
    {
      "cell_type": "markdown",
      "id": "occasional-memorial",
      "metadata": {
        "id": "occasional-memorial"
      },
      "source": [
        "## Recepción y descifrado\n",
        "\n",
        "El receptor toma el *nonce* y el *ciphertext*, primero decodifica el base64, configura el *cipher* con la clave secreta que tiene que conocer previamente, y después descifra.\n",
        "\n",
        "En temas posteriores veremos cómo el receptor conoce la clave secreta."
      ]
    },
    {
      "cell_type": "code",
      "execution_count": null,
      "id": "graphic-rabbit",
      "metadata": {
        "id": "graphic-rabbit"
      },
      "outputs": [],
      "source": [
        "received_nonce = b64decode(result['nonce'])\n",
        "received_ciphertext = b64decode(result['ciphertext'])\n",
        "cipher_receptor = ChaCha20.new(key=key, nonce=received_nonce)\n",
        "plaintext = cipher_receptor.decrypt(received_ciphertext)\n",
        "print(plaintext)"
      ]
    },
    {
      "cell_type": "markdown",
      "id": "universal-genetics",
      "metadata": {
        "id": "universal-genetics"
      },
      "source": [
        "## Siguientes mensajes: sincronización entre ciphers\n",
        "\n",
        "Supongamos que el usuario vuelve a enviar el mismo mensaje, con el mismo cipher (fíjate que no volvemos a definir `cipher_emisor`: lo estamos reaprovechando)"
      ]
    },
    {
      "cell_type": "code",
      "execution_count": null,
      "id": "advance-cartoon",
      "metadata": {
        "id": "advance-cartoon"
      },
      "outputs": [],
      "source": [
        "plaintext = b'Atacaremos al amanecer'\n",
        "ciphertext = cipher_emisor.encrypt(plaintext)\n",
        "result = {'nonce':b64encode(nonce), 'ciphertext':b64encode(ciphertext)}\n",
        "print(result)"
      ]
    },
    {
      "cell_type": "markdown",
      "id": "previous-perspective",
      "metadata": {
        "id": "previous-perspective"
      },
      "source": [
        "Fíjate: estamos cifrando el mismo mensaje con el mismo nonce... pero el ciphertext es diferente. ¿Recuerdas que nunca se debe cifrar el mismo texto con la misma clave? ChaCha20 nos ayuda a que no lo hagamos, ni siquiera por equivocación, mediante el uso de un contador."
      ]
    },
    {
      "cell_type": "markdown",
      "id": "exciting-seeker",
      "metadata": {
        "id": "exciting-seeker"
      },
      "source": [
        "Supongamos que el receptor crea un nuevo cipher, con la misma configuración de key y nonce, e intenta descifrar:"
      ]
    },
    {
      "cell_type": "code",
      "execution_count": null,
      "id": "subsequent-delicious",
      "metadata": {
        "id": "subsequent-delicious"
      },
      "outputs": [],
      "source": [
        "received_nonce = b64decode(result['nonce'])\n",
        "received_ciphertext = b64decode(result['ciphertext'])\n",
        "cipher_receptor = ChaCha20.new(key=key, nonce=received_nonce)\n",
        "plaintext = cipher_receptor.decrypt(received_ciphertext)\n",
        "print(plaintext)"
      ]
    },
    {
      "cell_type": "markdown",
      "id": "tight-supervisor",
      "metadata": {
        "id": "tight-supervisor"
      },
      "source": [
        "¿Qué ha pasado? ¿Por qué no se descifra? Recuerda que ChaCha20 tiene un contador adicional interno. Es decir: **emisor y receptor tienen que estar sincronizados** Es decir: para descifrar el byte número 22 tenemos que decirle al receptor que han pasado 22 bytes antes, aunque no los haya visto.\n",
        "\n",
        "(nota: 22 es el tamaño en bytes de la cadena \"Atacaremos al amanecer\", que fue el contenido del primer mensaje)\n",
        "\n",
        "Si volvemos a intentar descifrar, ahora sí que podemos hacerlo:"
      ]
    },
    {
      "cell_type": "code",
      "execution_count": null,
      "id": "interracial-server",
      "metadata": {
        "id": "interracial-server"
      },
      "outputs": [],
      "source": [
        "cipher_receptor.seek(22)\n",
        "plaintext = cipher_receptor.decrypt(received_ciphertext)\n",
        "print(plaintext)"
      ]
    },
    {
      "cell_type": "markdown",
      "id": "statewide-mortgage",
      "metadata": {
        "id": "statewide-mortgage"
      },
      "source": [
        "PyCryptodome y todos los demás están sincronizados siempre que descifremos los mismos bytes que hemos cifrado desde que se han creado los dos ciphers, el de emisión y el de recepción.\n",
        "\n",
        "Si alguno de los dos pierde la sincronización (por ejemplo, porque se reinicia), entonces es necesario volver a sincronizarlos con un \"seek\": \"ya envié XX bytes aunque no los hayas visto, mueve el estado a esta posición\"\n",
        "\n",
        "Poder volver a sincronizar los dos streams es una enorme ventaja de ChaCha20 y eso es por el parámetro `pos` autoincremental que forma parte de la matriz de estado. No todos los algoritmos permiten sincronizar los flujos si se pierde la sincronización."
      ]
    },
    {
      "cell_type": "markdown",
      "source": [
        "<font color=\"#f00\"> (Este ejercicio no tiene preguntas)</font>"
      ],
      "metadata": {
        "id": "5Nim1njlRWeI"
      },
      "id": "5Nim1njlRWeI"
    }
  ],
  "metadata": {
    "kernelspec": {
      "display_name": "Python 3 (ipykernel)",
      "language": "python",
      "name": "python3"
    },
    "language_info": {
      "codemirror_mode": {
        "name": "ipython",
        "version": 3
      },
      "file_extension": ".py",
      "mimetype": "text/x-python",
      "name": "python",
      "nbconvert_exporter": "python",
      "pygments_lexer": "ipython3",
      "version": "3.9.16"
    },
    "colab": {
      "provenance": []
    }
  },
  "nbformat": 4,
  "nbformat_minor": 5
}