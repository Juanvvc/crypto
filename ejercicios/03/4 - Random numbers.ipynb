{
 "cells": [
  {
   "cell_type": "markdown",
   "id": "miniature-swedish",
   "metadata": {},
   "source": [
    "# Tema 3 : Creación de azar (RNG)\n",
    "\n",
    "Los humanos no somos buenos creando azar. Caemos en muchas trampas:\n",
    "\n",
    "- \"¡El número 12345 no pueder ser aleatorio!\"\n",
    "- \"Lleva 20 años sin que la lotería acabe en 5, este año tiene que salir\"\n",
    "\n",
    "Los ordenadores tampoco son mucho mejores para crear azar. Son máquinas deterministas que siempre hacen lo mismo de acuerdo con una receta, así que pueden similar azar pero no crearlo realmente.\n",
    "\n",
    "En criptografía, necesitamos una fuente de azar en varios momentos:\n",
    "\n",
    "- Cuando creamos una clave simétrica, tiene que ser totalmente aleatoria\n",
    "- Cuando creamos nonces o IV, tienen que ser totalmente aleatorios\n",
    "- Cuando creamos números aleatorios para RSA, tienen que ser realmente aleatorios\n",
    "\n",
    "Si cualquiera de estos números no fuesen perfectamente aleatorios estamos comprometiendo la seguridad del sistema porque un atacante podría adivinar algunos de esos números."
   ]
  },
  {
   "cell_type": "markdown",
   "id": "exotic-deadline",
   "metadata": {},
   "source": [
    "## Fuentes de azar no criptográficas\n",
    "\n",
    "Veremos algunas fuentes de azar comunes que no son criptográficas, y por tanto no debemos utilizarla en nuestros algoritmos.\n",
    "\n",
    "En Python, el paquete `random` se encarga de simular números al azar. **CUIDADO: el paquete random no es una fuente de azar válida para algoritmos criptográficos**"
   ]
  },
  {
   "cell_type": "code",
   "execution_count": null,
   "id": "lesser-softball",
   "metadata": {},
   "outputs": [],
   "source": [
    "import random"
   ]
  },
  {
   "cell_type": "code",
   "execution_count": null,
   "id": "requested-dressing",
   "metadata": {},
   "outputs": [],
   "source": [
    "print(random.random())\n",
    "print(random.random())\n",
    "print(random.random())"
   ]
  },
  {
   "cell_type": "code",
   "execution_count": null,
   "id": "virtual-concrete",
   "metadata": {},
   "outputs": [],
   "source": [
    "print(random.random())\n",
    "print(random.random())\n",
    "print(random.random())"
   ]
  },
  {
   "cell_type": "markdown",
   "id": "cheap-placement",
   "metadata": {},
   "source": [
    "En criptografía normalmente necesitamos un conjunto de bytes aleatorios, no un número. Podríamos convertir series de números reales a series de bytes así, **pero no lo hagas**."
   ]
  },
  {
   "cell_type": "code",
   "execution_count": null,
   "id": "black-firewall",
   "metadata": {},
   "outputs": [],
   "source": [
    "''.join(chr(int(255 * random.random())) for _ in range(0, 5)).encode()"
   ]
  },
  {
   "cell_type": "markdown",
   "id": "color-italic",
   "metadata": {},
   "source": [
    "Si ponemos una semilla, podemos repetir los números \"al azar\". Esto es útil, por ejemplo, en juegos, para que todos tengan las mismas cartas repartidas al azar"
   ]
  },
  {
   "cell_type": "code",
   "execution_count": null,
   "id": "classical-peripheral",
   "metadata": {},
   "outputs": [],
   "source": [
    "random.seed(0.12345)\n",
    "print(random.random())\n",
    "print(random.random())\n",
    "print(random.random())"
   ]
  },
  {
   "cell_type": "code",
   "execution_count": null,
   "id": "stretch-shelter",
   "metadata": {},
   "outputs": [],
   "source": [
    "random.seed(0.12345)\n",
    "print(random.random())\n",
    "print(random.random())\n",
    "print(random.random())"
   ]
  },
  {
   "cell_type": "markdown",
   "id": "expanded-purse",
   "metadata": {},
   "source": [
    "No sé cómo está programada la función `random.random()` de Python. Una manera común es utilizar la zona caótica de la [aplicación logística](https://es.wikipedia.org/wiki/Aplicaci%C3%B3n_log%C3%ADstica), como el ejemplo que viene a continuación.\n",
    "\n",
    "Fíjate que siempre necesita una semilla: si no le das una, toma el número de microsegundos de este momento según `time.time()`"
   ]
  },
  {
   "cell_type": "code",
   "execution_count": null,
   "id": "religious-making",
   "metadata": {},
   "outputs": [],
   "source": [
    "def rand_source(x=None):\n",
    "    \"\"\" Generación de número al azar usando aplicación logística.\n",
    "    \n",
    "    Semilla: cualquier número real entre 0 y 1.\n",
    "    \n",
    "    Si no hay semilla, usa la parte decimal de time.time()\n",
    "    \"\"\"\n",
    "    if x == None:\n",
    "        import time\n",
    "        _, x = divmod(time.time(), 1)\n",
    "    while True:\n",
    "        x = 4 * x * (1 - x)\n",
    "        yield x"
   ]
  },
  {
   "cell_type": "code",
   "execution_count": null,
   "id": "abroad-soundtrack",
   "metadata": {},
   "outputs": [],
   "source": [
    "rand = rand_source()\n",
    "print(next(rand))\n",
    "print(next(rand))\n",
    "print(next(rand))\n"
   ]
  },
  {
   "cell_type": "markdown",
   "id": "composite-mother",
   "metadata": {},
   "source": [
    "Si fijamos la semilla, podemos obtener siempre los mismos números aleatorios"
   ]
  },
  {
   "cell_type": "code",
   "execution_count": null,
   "id": "conventional-postcard",
   "metadata": {},
   "outputs": [],
   "source": [
    "rand = rand_source(0.12345678)\n",
    "print(next(rand))\n",
    "print(next(rand))\n",
    "print(next(rand))\n",
    "rand = rand_source(0.12345678)\n",
    "print(next(rand))\n",
    "print(next(rand))\n",
    "print(next(rand))"
   ]
  },
  {
   "cell_type": "markdown",
   "id": "careful-mustang",
   "metadata": {},
   "source": [
    "La ventaja de generar números aparentemente aleatorios con la aplicación logística es que es rapidísimo y muy sencillo de programar. Las desventajas son que se puede adivinar más o menos dónde caerá el próximo número dado el anterior. Ejecutad varias veces el ejemplo sin semilla: veréis que después de un número mayor de 0.9 es muy probable que paséis a un número menor de 0.3.\n",
    "\n",
    "Además, a veces es posible conocer la semilla inicial: porque un atacante pregunta la hora justo a la vez que se crea el generador de números aleatorios, por ejemplo.\n",
    "\n",
    "Esta forma, o alguna similar, es la manera habitual de crear números aleatorios en las librerías de programación. Pero **no es segura desde un punto de vista criptográfico**. `random.random()` o similares no se deben utilizar cuando necesitamos números aleatorios en nuestros sistemas seguros."
   ]
  },
  {
   "cell_type": "markdown",
   "id": "consecutive-intermediate",
   "metadata": {},
   "source": [
    "## Acceso a generadores seguros del sistema operativo\n",
    "\n",
    "Casi todos los sistemas operativos permiten acceder a generadores seguros de secuencias aleatorias con algún método hardware no algorítmico.\n",
    "\n",
    "En Linux estos generadores utilizan `/dev/urandom`, que es (¡más o menos!) el cifrado ChaCha20 del ruido que viene del teclado. Windows utiliza otros mecanismos similares.\n",
    "\n",
    "Esta función *urandom* del sistema operativo, o las que ofrece el módulo Crypto, sí que se pueden utilizar en algoritmos criptográficos. Por ejemplo, se pueden utilizar para generar la clave de algoritmos de cifrado simétrico, o sus *nonce*, o sus *IV*"
   ]
  },
  {
   "cell_type": "code",
   "execution_count": null,
   "id": "knowing-certificate",
   "metadata": {},
   "outputs": [],
   "source": [
    "import os\n",
    "print(os.urandom(5))"
   ]
  },
  {
   "cell_type": "code",
   "execution_count": null,
   "id": "gothic-shaft",
   "metadata": {},
   "outputs": [],
   "source": [
    "!python3 -m pip install pycryptodome\n",
    "\n",
    "import Crypto.Random\n",
    "Crypto.Random.get_random_bytes(5)"
   ]
  },
  {
   "cell_type": "markdown",
   "id": "charged-operations",
   "metadata": {},
   "source": [
    "Fíjate que a estas funciones no les puedes pasar una semilla, porque están basadas en generadores de ruido real."
   ]
  },
  {
   "cell_type": "markdown",
   "id": "modular-import",
   "metadata": {},
   "source": [
    "## Fuente de aletoriedad criptográfica con semilla\n",
    "\n",
    "Una manera típica de implementar un PRNG es utilizar la fase PRNG de un cifrado de flujo. La clave es la semilla y el frujo de datos a cifrar son ceros. Por ejemplo, con ChaCha20:"
   ]
  },
  {
   "cell_type": "code",
   "execution_count": null,
   "id": "after-battlefield",
   "metadata": {},
   "outputs": [],
   "source": [
    "from Crypto.Cipher import ChaCha20\n",
    "from Crypto.Random import get_random_bytes\n",
    "\n",
    "def rand_source(x=None):\n",
    "    \"\"\" Generación de número 'al azar' pero replicable usando ChaCha20.\n",
    "    \n",
    "    Si no hay semilla, usa una clave al azar\n",
    "    \"\"\"\n",
    "    if x == None:\n",
    "        x = get_random_bytes(32)\n",
    "    cipher = ChaCha20.new(key=x, nonce=None)\n",
    "    while True:\n",
    "        yield cipher.encrypt(chr(0).encode())"
   ]
  },
  {
   "cell_type": "code",
   "execution_count": null,
   "id": "bibliographic-stadium",
   "metadata": {},
   "outputs": [],
   "source": [
    "rand = rand_source()\n",
    "print(next(rand))\n",
    "print(next(rand))\n",
    "print(next(rand))"
   ]
  },
  {
   "cell_type": "code",
   "execution_count": null,
   "id": "rapid-banner",
   "metadata": {},
   "outputs": [],
   "source": []
  }
 ],
 "metadata": {
  "kernelspec": {
   "display_name": "Python 3 (ipykernel)",
   "language": "python",
   "name": "python3"
  },
  "language_info": {
   "codemirror_mode": {
    "name": "ipython",
    "version": 3
   },
   "file_extension": ".py",
   "mimetype": "text/x-python",
   "name": "python",
   "nbconvert_exporter": "python",
   "pygments_lexer": "ipython3",
   "version": "3.9.16"
  }
 },
 "nbformat": 4,
 "nbformat_minor": 5
}
