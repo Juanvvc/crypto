{
  "cells": [
    {
      "cell_type": "markdown",
      "source": [
        "**NOTA IMPORTANTE**: Las preguntas están marcadas en color rojo. Para la entrega, prepara un documento separado que solo contenga las preguntas y tus respuestas.\n",
        "\n",
        "<font color=\"#f00\">**La entrega es un documento PDF solo con las preguntas y respuestas**</font>"
      ],
      "metadata": {
        "id": "8pu4-mrKKoV4"
      },
      "id": "8pu4-mrKKoV4"
    },
    {
      "cell_type": "markdown",
      "id": "studied-pointer",
      "metadata": {
        "id": "studied-pointer"
      },
      "source": [
        "Las prácticas de este curso las haremos en Python, que tiene dos posibilidades para criptografía: el paquete `PyCryptodome` y el paquete `cryptography`. Ambos son opciones válidas e intercambiables, aunque Las prácticas de este curso las haremos con `PyCryptodome`. Puedes encontrar la ayuda en: https://pycryptodome.readthedocs.io/en/latest/\n",
        "\n",
        "Si estás siguiendo estas notas en tu PC, puedes instalarlo con: `python3 -m pip install pycryptodome`. Si las estás siguiendo en Colab, ejecuta la siguiente línea:"
      ]
    },
    {
      "cell_type": "code",
      "source": [
        "# @title\n",
        "# La siguiente línea instala CryptoDome en nuestra máquina virtual\n",
        "!pip install pycryptodome\n",
        "# La siguiente línea nos permitirá imprimir líneas largas\n",
        "from pprint import pprint\n",
        "from textwrap import wrap"
      ],
      "metadata": {
        "id": "8iOXOegEOi1Y"
      },
      "id": "8iOXOegEOi1Y",
      "execution_count": null,
      "outputs": []
    },
    {
      "cell_type": "markdown",
      "source": [
        "# Cifrado simétrico o de clave secreta\n",
        "\n",
        "Como hemos visto en las sesiones, el cifrado simétrico o de clave secreta es aquel cifrado que utiliza la misma clave para cifrar y para descifrar. Las dos partes de la comunicación necesitan conocer la clave, y mantenerla secreta para que nadie más tenga acceso a ella.\n",
        "\n",
        "Veremos dos ejemplos de sistemas simétricos:\n",
        "\n",
        "- Cifrado simétrico de flujo simétrico con ChaCha20\n",
        "- Cifrado simétrico de bloque con AES"
      ],
      "metadata": {
        "id": "XNqaWcBYMSR9"
      },
      "id": "XNqaWcBYMSR9"
    },
    {
      "cell_type": "markdown",
      "source": [
        "## Cifrado simétrico de flujo con ChaCha20\n",
        "\n",
        "En esta sección veremos los comandos para enviar un texto cifrado con ChaCha20.\n",
        "\n",
        "Primero importamos las librerías que necesitamos:"
      ],
      "metadata": {
        "id": "97ATz_RcM3tO"
      },
      "id": "97ATz_RcM3tO"
    },
    {
      "cell_type": "code",
      "source": [
        "from base64 import b64encode, b64decode\n",
        "from Crypto.Cipher import ChaCha20\n",
        "import Crypto.Random"
      ],
      "metadata": {
        "id": "3QHQmh6PM4Yy"
      },
      "id": "3QHQmh6PM4Yy",
      "execution_count": null,
      "outputs": []
    },
    {
      "cell_type": "markdown",
      "id": "designed-subcommittee",
      "metadata": {
        "id": "designed-subcommittee"
      },
      "source": [
        "### Configuración del sistema emisor\n",
        "\n",
        "Los módulos de criptografía suelen necesitar una etapa inicial de configuración. Cada módulo se configura a su manera. A continuación encontrarás la etapa de configuración de ChaCha20 para PyCryptodome.\n",
        "\n",
        "Fíjate que la clave se crea al azar con algoritmos criptográficos `Crypto.Random.get_random_bytes()`: **es fundamental que las claves sean totalmente aleatorias y creadas también con algoritmos criptográficos**. No todas las funciones de creación de azar son válidas: necesitas una fuente de azar con validez criptográfica. Muchas implementaciones de protocolos criptográficos han caído no porque el cifrado fuese erróneo, sino porque la fuente de azar no era lo suficiente \"aleatoria\". En particular: en criptografía, no uses la función general `random.randbytes()` sino alguna específica de la librería criptográfica, como `Crypto.Random.get_random_bytes()`. Esto es válido también para los demás sistemas criptográficos."
      ]
    },
    {
      "cell_type": "code",
      "execution_count": null,
      "id": "elegant-yacht",
      "metadata": {
        "id": "elegant-yacht"
      },
      "outputs": [],
      "source": [
        "key = Crypto.Random.get_random_bytes(32)\n",
        "cipher_emisor = ChaCha20.new(key=key, nonce=None)\n",
        "print(f'Longitud de la clave: {8 * len(key)} bits')"
      ]
    },
    {
      "cell_type": "markdown",
      "id": "blank-pierce",
      "metadata": {
        "id": "blank-pierce"
      },
      "source": [
        "En PyCryptodome el *nonce* se puede pasar al algoritmo durante la configuración. Si, como en este caso, no se pasa *nonce* durante la creación, la librería crea un *nonce* al azar que podemos recuperar. Si decides crear tú el *nonce*, recuerda que también tiene que ser un número aleatorio creado con algoritmos criptográficos, igual que la clave.\n",
        "\n",
        "Observa: en ChaCha20, la clave tiene 256 bits y el nonce tiene 64 bits."
      ]
    },
    {
      "cell_type": "code",
      "execution_count": null,
      "id": "hollow-snapshot",
      "metadata": {
        "id": "hollow-snapshot"
      },
      "outputs": [],
      "source": [
        "nonce = cipher_emisor.nonce\n",
        "print(f'nonce creado automáticamente: {b64encode(nonce)}, longitud: {8 * len(nonce)} bits')\n",
        "\n",
        "# si lo necesitas:\n",
        "# nonce_creado_por_mi = Crypto.Random.get_random_bytes(8)\n",
        "# cipher_emisor = ChaCha20.new(key=key, nonce=once_creado_por_mi)"
      ]
    },
    {
      "cell_type": "markdown",
      "id": "featured-means",
      "metadata": {
        "id": "featured-means"
      },
      "source": [
        "### Cifrado del mensaje por el emisor\n",
        "\n",
        "El emisor cifra el mensaje `Atacaremos al amanecer` y envía al receptor `result`, es decir, la pareja \"mensaje cifrado\" y \"*nonce*\". Fíjate: el nonce se puede enviar por un canal inseguro, así que se asume que el atacante lo conocerá.\n",
        "\n",
        "Observa que el resultado lo codificamos en Base64 (https://es.wikipedia.org/wiki/Base64). Aunque no es necesario, sí que es común hacerlo así porque algunos protocolos (correo electrónico, JSON...) solo puede enviar caracteres imprimibles. No pierdes ni ganas seguridad si decides usar o no Base64, es más una exigencia de tu sistema de comunicaciones. Fíjate que he usado la expresión \"codificamos en Base64\", no ciframos. Base64 es un algoritmo de codificación de bytes, no tiene claves, cualquiera lo puede codificar y decodificar y por tanto Base64 no es un cifrado."
      ]
    },
    {
      "cell_type": "code",
      "execution_count": null,
      "id": "flush-token",
      "metadata": {
        "id": "flush-token"
      },
      "outputs": [],
      "source": [
        "plaintext = b'Atacaremos al amanecer'\n",
        "ciphertext = cipher_emisor.encrypt(plaintext)\n",
        "ct = b64encode(ciphertext)\n",
        "result = {'nonce':b64encode(nonce), 'ciphertext':ct}\n",
        "print(result)"
      ]
    },
    {
      "cell_type": "markdown",
      "id": "occasional-memorial",
      "metadata": {
        "id": "occasional-memorial"
      },
      "source": [
        "### Recepción y descifrado\n",
        "\n",
        "El receptor toma el *nonce* y el *ciphertext*. Primero decodifica el base64, configura el *cipher* y el *nonce* que ha recibido y descifra. Ya veremos cómo el receptor conoce la clave, porque no se la puede enviar el emisor.\n",
        "\n",
        "En la sesión de \"Diffie-Hellman\" veremos cómo el receptor conoce la clave secreta."
      ]
    },
    {
      "cell_type": "code",
      "execution_count": null,
      "id": "graphic-rabbit",
      "metadata": {
        "id": "graphic-rabbit"
      },
      "outputs": [],
      "source": [
        "received_nonce = b64decode(result['nonce'])\n",
        "received_ciphertext = b64decode(result['ciphertext'])\n",
        "cipher_receptor = ChaCha20.new(key=key, nonce=received_nonce)\n",
        "plaintext = cipher_receptor.decrypt(received_ciphertext)\n",
        "print(plaintext)"
      ]
    },
    {
      "cell_type": "markdown",
      "id": "universal-genetics",
      "metadata": {
        "id": "universal-genetics"
      },
      "source": [
        "### Siguientes mensajes: sincronización entre ciphers\n",
        "\n",
        "Supongamos que el usuario vuelve a enviar el mismo mensaje, con el mismo cipher (fíjate que no volvemos a definir `cipher_emisor`: lo estamos reaprovechando)"
      ]
    },
    {
      "cell_type": "code",
      "execution_count": null,
      "id": "advance-cartoon",
      "metadata": {
        "id": "advance-cartoon"
      },
      "outputs": [],
      "source": [
        "plaintext = b'Atacaremos al amanecer'\n",
        "ciphertext = cipher_emisor.encrypt(plaintext)\n",
        "result = {'nonce':b64encode(nonce), 'ciphertext':b64encode(ciphertext)}\n",
        "print(result)"
      ]
    },
    {
      "cell_type": "markdown",
      "id": "previous-perspective",
      "metadata": {
        "id": "previous-perspective"
      },
      "source": [
        "Fíjate: estamos cifrando el mismo mensaje con el mismo nonce... pero el ciphertext es diferente. ¿Recuerdas que nunca se debe cifrar el mismo texto con la misma clave? ChaCha20 nos ayuda a que no lo hagamos, ni siquiera por equivocación, mediante el uso de un contador."
      ]
    },
    {
      "cell_type": "markdown",
      "id": "exciting-seeker",
      "metadata": {
        "id": "exciting-seeker"
      },
      "source": [
        "Supongamos que el receptor crea un nuevo cipher, con la misma configuración de key y nonce, e intenta descifrar:"
      ]
    },
    {
      "cell_type": "code",
      "execution_count": null,
      "id": "subsequent-delicious",
      "metadata": {
        "id": "subsequent-delicious"
      },
      "outputs": [],
      "source": [
        "received_nonce = b64decode(result['nonce'])\n",
        "received_ciphertext = b64decode(result['ciphertext'])\n",
        "cipher_receptor = ChaCha20.new(key=key, nonce=received_nonce)\n",
        "plaintext = cipher_receptor.decrypt(received_ciphertext)\n",
        "print(plaintext)"
      ]
    },
    {
      "cell_type": "markdown",
      "id": "tight-supervisor",
      "metadata": {
        "id": "tight-supervisor"
      },
      "source": [
        "¿Qué ha pasado? ¿Por qué no se descifra? Recuerda que ChaCha20 tiene un contador adicional interno. Es decir: **emisor y receptor tienen que estar sincronizados** Es decir: para descifrar el byte número 22 tenemos que decirle al receptor que han pasado 22 bytes antes, aunque no los haya visto.\n",
        "\n",
        "(nota: 22 es el tamaño en bytes de la cadena \"Atacaremos al amanecer\", que fue el contenido del primer mensaje)\n",
        "\n",
        "Si volvemos a intentar descifrar, ahora sí que podemos hacerlo:"
      ]
    },
    {
      "cell_type": "code",
      "execution_count": null,
      "id": "interracial-server",
      "metadata": {
        "id": "interracial-server"
      },
      "outputs": [],
      "source": [
        "cipher_receptor.seek(22)\n",
        "plaintext = cipher_receptor.decrypt(received_ciphertext)\n",
        "print(plaintext)"
      ]
    },
    {
      "cell_type": "markdown",
      "id": "statewide-mortgage",
      "metadata": {
        "id": "statewide-mortgage"
      },
      "source": [
        "PyCryptodome y todos los demás están sincronizados siempre que descifremos los mismos bytes que hemos cifrado desde que se han creado los dos ciphers, el de emisión y el de recepción.\n",
        "\n",
        "Si alguno de los dos pierde la sincronización (por ejemplo, porque se reinicia), entonces es necesario volver a sincronizarlos con un \"seek\": \"ya envié XX bytes aunque no los hayas visto, mueve el estado a esta posición\"\n",
        "\n",
        "Poder volver a sincronizar los dos streams es una enorme ventaja de ChaCha20 y eso es por el parámetro `pos` autoincremental que forma parte de la matriz de estado. No todos los algoritmos permiten sincronizar los flujos si se pierde la sincronización."
      ]
    },
    {
      "cell_type": "markdown",
      "source": [
        "## Cifrado simétrico de bloque con AES\n",
        "\n",
        "El otro sistema de cifrado simétrico que veremos es AES. Como ya comentamos en la parte teórica, no es suficiente con indicar que usamos AES, también es necesario especificar de qué manera, es decir, **en qué modo estamos usando AES**.\n",
        "\n",
        "Vamos a crear:\n",
        "\n",
        "- un mensaje de 128 bits, el tamaño de bloque de AES.\n",
        "- una clave k de 128 bits que usaremos durante todo el ejercicio."
      ],
      "metadata": {
        "id": "_IbfZXIFOKcN"
      },
      "id": "_IbfZXIFOKcN"
    },
    {
      "cell_type": "code",
      "source": [
        "from Crypto.Cipher import AES\n",
        "from Crypto.Random import get_random_bytes\n",
        "from base64 import b64encode, b64decode\n",
        "\n",
        "m = b'Atacad a las dos'\n",
        "k = get_random_bytes(16)\n",
        "print(f'Mensaje: \"{m}\" Tamaño={len(m) * 8} bits')\n",
        "print(f'Clave: {b64encode(k)} Tamaño={len(k) * 8} bits')"
      ],
      "metadata": {
        "id": "nnCxkVF_Odjc"
      },
      "id": "nnCxkVF_Odjc",
      "execution_count": null,
      "outputs": []
    },
    {
      "cell_type": "markdown",
      "source": [
        "### Modo ECB\n",
        "\n",
        "El primer modo que veremos es \"ECB\": cada bloque se cifra de forma independiente, sin realimentación con los demás.\n",
        "\n",
        "![center w:30em](https://github.com/Juanvvc/crypto/blob/master/ejercicios/03/images/ECB_encryption.svg?raw=1)\n",
        "\n",
        "Vamos a ciframos tres veces el mismo mensaje. Observa que no hay memoria, y que cifrar dos veces el mismo mensaje con la misma clave produce el mismo texto cifrado. Por eso no se debe usar nunca el modo ECB: un atacante que observa las comunicaciones quizá no sepa qué estamos diciendo, pero sí que sabe que estamos repitiendo el mensaje y eso puede ser suficiente para sus objetivos.\n",
        "\n",
        "**Nunca debe usarse AES en modo ECB**"
      ],
      "metadata": {
        "id": "4u2u5f3cOj-y"
      },
      "id": "4u2u5f3cOj-y"
    },
    {
      "cell_type": "code",
      "source": [
        "cipher = AES.new(k, AES.MODE_ECB)\n",
        "c1 = cipher.encrypt(m)\n",
        "c2 = cipher.encrypt(m)\n",
        "c3 = cipher.encrypt(m)\n",
        "print(b64encode(c1))\n",
        "print(b64encode(c2))\n",
        "print(b64encode(c3))"
      ],
      "metadata": {
        "id": "XEB4YLFiOqlU"
      },
      "id": "XEB4YLFiOqlU",
      "execution_count": null,
      "outputs": []
    },
    {
      "cell_type": "code",
      "source": [
        "decipher = AES.new(k, AES.MODE_ECB)\n",
        "m1 = decipher.decrypt(c1)\n",
        "m2 = decipher.decrypt(c2)\n",
        "m3 = decipher.decrypt(c3)\n",
        "print(m1)\n",
        "print(m2)\n",
        "print(m3)"
      ],
      "metadata": {
        "id": "iXNZuVJjOuH8"
      },
      "id": "iXNZuVJjOuH8",
      "execution_count": null,
      "outputs": []
    },
    {
      "cell_type": "markdown",
      "source": [
        "### Modo CBC\n",
        "\n",
        "En el modo CBC, hay realimentación entre bloques y existe un vector de inicialización\n",
        "\n",
        "![](https://github.com/Juanvvc/crypto/blob/master/ejercicios/03/images/CBC_encryption.svg?raw=1)\n",
        "\n",
        "Ciframos dos veces el mismo mensaje. Observa que tenemos que crear un IV (Vector de Inicialización), y que este IV se lo tenemos que enviar al receptor. El envío del IV se hace durante el primer mensaje, antes de que el canal sea seguro, pero no hay problemas en que un atacante conozca el IV."
      ],
      "metadata": {
        "id": "z7RO7QQOOw9_"
      },
      "id": "z7RO7QQOOw9_"
    },
    {
      "cell_type": "code",
      "source": [
        "iv = get_random_bytes(16)\n",
        "cipher = AES.new(k, AES.MODE_CBC, iv=iv)\n",
        "c1 = cipher.encrypt(m)\n",
        "c2 = cipher.encrypt(m)\n",
        "print(b64encode(c1))\n",
        "print(b64encode(c2))"
      ],
      "metadata": {
        "id": "7uEIaxK9Ozrd"
      },
      "id": "7uEIaxK9Ozrd",
      "execution_count": null,
      "outputs": []
    },
    {
      "cell_type": "markdown",
      "source": [
        "<font color=\"red\">\n",
        "\n",
        "<b>PREGUNTA:</b>\n",
        "\n",
        "1. Ahora los dos cifrados son diferentes a pesar de que estamos cifrando el mismo mensaje. ¿Por qué sucede eso?\n",
        "</font>"
      ],
      "metadata": {
        "id": "f8fwirpkPHG9"
      },
      "id": "f8fwirpkPHG9"
    },
    {
      "cell_type": "markdown",
      "source": [
        "Descifrado: necesita la clave y el IV. La clave es secreta y el receptor tiene que haberla recibido por un canal secreto (lo veremos) pero el IV puede recibirse sin protección al inicio de la comunicación."
      ],
      "metadata": {
        "id": "E361GW3xPOv-"
      },
      "id": "E361GW3xPOv-"
    },
    {
      "cell_type": "code",
      "source": [
        "decipher = AES.new(k, AES.MODE_CBC, iv=iv)\n",
        "m1 = decipher.decrypt(c1)\n",
        "m2 = decipher.decrypt(c2)\n",
        "print(m1)\n",
        "print(m2)"
      ],
      "metadata": {
        "id": "tO-E6zl7PP6_"
      },
      "id": "tO-E6zl7PP6_",
      "execution_count": null,
      "outputs": []
    },
    {
      "cell_type": "markdown",
      "source": [
        "### Ejercicio **opcional**\n",
        "\n",
        "- ¿Puedes programar el modo CBC a partir del modo ECB? ECB es la caja AES básica, así que es posible programar (¡como ejercicio solamente!) el modo CBC como composición de ECB\n",
        "- ¿Puedes programar los demás modos?\n",
        "\n",
        "Ejemplo de solución (solo parte de cifrado) de la primera pregunta. Observa que el resultado es el mismo de antes al cifrar m en modo CBC"
      ],
      "metadata": {
        "id": "Pi8OF4iUPWni"
      },
      "id": "Pi8OF4iUPWni"
    },
    {
      "cell_type": "code",
      "source": [
        "from Crypto.Util.strxor import strxor\n",
        "\n",
        "class AES_CBC():\n",
        "    def __init__(self, k, iv):\n",
        "        self.iv = iv\n",
        "        self.cipher = AES.new(k, AES.MODE_ECB)\n",
        "    def encrypt(self, msg):\n",
        "        # primero hacemos XOR del mensaje con el IV que tenemos\n",
        "        m = strxor(msg, self.iv)\n",
        "        c = self.cipher.encrypt(m)\n",
        "        # para la siguiente ronda, el IV es el propio texto cifrado\n",
        "        self.iv = c\n",
        "        return c\n",
        "\n",
        "k = get_random_bytes(16)\n",
        "iv = get_random_bytes(16)\n",
        "mycbc = AES_CBC(k, iv)\n",
        "print(b64encode(mycbc.encrypt(m)))\n",
        "print(b64encode(mycbc.encrypt(m)))"
      ],
      "metadata": {
        "id": "_ifeY3b1Pcxo"
      },
      "id": "_ifeY3b1Pcxo",
      "execution_count": null,
      "outputs": []
    },
    {
      "cell_type": "markdown",
      "source": [
        "### Padding\n",
        "\n",
        "¿Qué pasa si tenemos que enviar mensajes más cortos que la longitud de bloque de AES? Entonces tenemos que usar algún algoritmo de padding. Es decir: marcar la longitud del mensaje original. Observa que solo podemos enviar bloques de 128 bits, y si intentamos enviar bloques más cortos o más largos saltará un error:"
      ],
      "metadata": {
        "id": "FbpUeJJ6Ph2j"
      },
      "id": "FbpUeJJ6Ph2j"
    },
    {
      "cell_type": "code",
      "source": [
        "c1 = cipher.encrypt(b'mensaje corto')"
      ],
      "metadata": {
        "id": "ZAI3n_xbPk5g"
      },
      "id": "ZAI3n_xbPk5g",
      "execution_count": null,
      "outputs": []
    },
    {
      "cell_type": "markdown",
      "source": [
        "Con Cryptodome podemos usar las funciones pad() y unpad()\n",
        "\n",
        "Observa: en este ejemplo no especificamos IV al configurar el cipher, pero ya sabes que en modo CBC siempre hay un IV. Si no lo especificamos, escogerá el IV al azar utilizando algoritmos segutos, y eso es muy adecuado. Tenemos que enviarle ese IV al receptor en el primer mensaje.\n"
      ],
      "metadata": {
        "id": "YuB0YifYPoqB"
      },
      "id": "YuB0YifYPoqB"
    },
    {
      "cell_type": "code",
      "source": [
        "from Crypto.Util.Padding import pad, unpad\n",
        "\n",
        "# mensaje corto\n",
        "m = b'1234'\n",
        "cipher = AES.new(k, AES.MODE_CBC)\n",
        "c = cipher.encrypt(pad(m, AES.block_size))\n",
        "print({'iv':b64encode(cipher.iv), 'ciphertext':b64encode(c)})"
      ],
      "metadata": {
        "id": "VEknfcghPruA"
      },
      "id": "VEknfcghPruA",
      "execution_count": null,
      "outputs": []
    },
    {
      "cell_type": "markdown",
      "source": [
        "Recepción:"
      ],
      "metadata": {
        "id": "IOjVjeyLPwnT"
      },
      "id": "IOjVjeyLPwnT"
    },
    {
      "cell_type": "code",
      "source": [
        "decipher = AES.new(k, AES.MODE_CBC, cipher.iv)\n",
        "pt = unpad(decipher.decrypt(c), AES.block_size)\n",
        "print(f\"The message was: {pt}\")"
      ],
      "metadata": {
        "id": "z4omVJ4FPyFm"
      },
      "id": "z4omVJ4FPyFm",
      "execution_count": null,
      "outputs": []
    },
    {
      "cell_type": "markdown",
      "source": [
        "¿Qué pasa si no usamos unpad? AES es un cifrado de bloque, así que los mensajes en AES tienen obligatoriamente un tamaño igual al bloque AES (128 bits), así que vemos el *padding* que sobra. Las función *unpad()* nos hubiese cortado esos bytes sobrantes."
      ],
      "metadata": {
        "id": "IX5O2BO0P2Y0"
      },
      "id": "IX5O2BO0P2Y0"
    },
    {
      "cell_type": "code",
      "source": [
        "decipher = AES.new(k, AES.MODE_CBC, cipher.iv)\n",
        "pt = decipher.decrypt(c)\n",
        "print(f\"The message was: {pt} (longitud {len(pt) * 8} bits)\")"
      ],
      "metadata": {
        "id": "rZdcUpa3P3Jj"
      },
      "id": "rZdcUpa3P3Jj",
      "execution_count": null,
      "outputs": []
    },
    {
      "cell_type": "markdown",
      "source": [
        "<font color=\"red\">\n",
        "<b>PREGUNTA:</b>\n",
        "\n",
        "1. Vimos que ChaCha20 podía resincronizarse si se perdían mensajes. ¿AES en modo CBC puede resincronizarse si se pierden mensajes? ¿Qué modo de AES permitiría resincronizarse?\n",
        "\n",
        "</font>"
      ],
      "metadata": {
        "id": "3TZluCp_P-n8"
      },
      "id": "3TZluCp_P-n8"
    }
  ],
  "metadata": {
    "kernelspec": {
      "display_name": "Python 3 (ipykernel)",
      "language": "python",
      "name": "python3"
    },
    "language_info": {
      "codemirror_mode": {
        "name": "ipython",
        "version": 3
      },
      "file_extension": ".py",
      "mimetype": "text/x-python",
      "name": "python",
      "nbconvert_exporter": "python",
      "pygments_lexer": "ipython3",
      "version": "3.9.16"
    },
    "colab": {
      "provenance": []
    }
  },
  "nbformat": 4,
  "nbformat_minor": 5
}