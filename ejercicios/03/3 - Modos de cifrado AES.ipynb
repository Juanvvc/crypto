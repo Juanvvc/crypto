{
 "cells": [
  {
   "cell_type": "markdown",
   "id": "plastic-alarm",
   "metadata": {},
   "source": [
    "# Modos de cifrado AES\n",
    "\n",
    "AES se puede utilizar en varios modos. Vamos a verlos en esta actividad.\n",
    "\n",
    "Vamos a crear:\n",
    "- un mensaje de 128 bits, el tamaño de bloque de AES.\n",
    "- una clave k de 128 bits que usaremos durante todo el ejercicio.\n",
    "\n",
    "Recuerda: si no tienes la librería Crypto, tienes que instalarla con el siguiente comando:\n",
    "\n",
    "```\n",
    "python3 -m pip install pycryptodome\n",
    "```"
   ]
  },
  {
   "cell_type": "code",
   "execution_count": null,
   "id": "naughty-burning",
   "metadata": {},
   "outputs": [],
   "source": [
    "!pip install pycryptodome\n",
    "from Crypto.Cipher import AES\n",
    "from Crypto.Random import get_random_bytes\n",
    "from base64 import b64encode, b64decode\n",
    "\n",
    "m = b'abcdefghabcdefgh'\n",
    "k = get_random_bytes(16)\n",
    "print(f'Mensaje: \"{m}\" Tamaño={len(m) * 8} bits')\n",
    "print(f'Clave: {b64encode(k)} Tamaño={len(k) * 8} bits')"
   ]
  },
  {
   "cell_type": "markdown",
   "id": "medical-persian",
   "metadata": {},
   "source": [
    "## Modo ECB\n",
    "\n",
    "Ciframos dos veces el mismo mensaje.\n",
    "\n",
    "Observa que no hay memoria, y que cifrar dos veces el mismo mensaje con la misma clave produce el mismo texto cifrado."
   ]
  },
  {
   "cell_type": "code",
   "execution_count": null,
   "id": "engaged-kitty",
   "metadata": {},
   "outputs": [],
   "source": [
    "cipher = AES.new(k, AES.MODE_ECB)\n",
    "c1 = cipher.encrypt(m)\n",
    "c2 = cipher.encrypt(m)\n",
    "print(b64encode(c1))\n",
    "print(b64encode(c2))"
   ]
  },
  {
   "cell_type": "code",
   "execution_count": null,
   "id": "historical-printer",
   "metadata": {},
   "outputs": [],
   "source": [
    "decipher = AES.new(k, AES.MODE_ECB)\n",
    "m1 = decipher.decrypt(c1)\n",
    "m2 = decipher.decrypt(c2)\n",
    "print(m1)\n",
    "print(m2)"
   ]
  },
  {
   "cell_type": "markdown",
   "id": "accessory-petersburg",
   "metadata": {},
   "source": [
    "## Modo CBC\n",
    "\n",
    "Ciframos dos veces el mismo mensaje. Observa que:\n",
    "- tenemos que crear un IV (Vector de Inicialización), y que este IV se lo tenemos que enviar al receptor. El envío del IV puede ser en claro\n",
    "- Ahora los dos cifrados son diferentes, a pesar de que estamos cifrando el mismo mensaje. ¿Por qué sucede eso?"
   ]
  },
  {
   "cell_type": "code",
   "execution_count": null,
   "id": "killing-fisher",
   "metadata": {},
   "outputs": [],
   "source": [
    "iv = get_random_bytes(16)\n",
    "cipher = AES.new(k, AES.MODE_CBC, iv=iv)\n",
    "c1 = cipher.encrypt(m)\n",
    "c2 = cipher.encrypt(m)\n",
    "print(b64encode(c1))\n",
    "print(b64encode(c2))"
   ]
  },
  {
   "cell_type": "markdown",
   "id": "stone-crazy",
   "metadata": {},
   "source": [
    "Descifrado: necesita la clave y el IV. La clave es secreta y el receptor tiene que haberla recibido por un canal secreto (lo veremos) pero el IV puede recibirse sin protección al inicio de la comunicación."
   ]
  },
  {
   "cell_type": "code",
   "execution_count": null,
   "id": "caring-passing",
   "metadata": {},
   "outputs": [],
   "source": [
    "decipher = AES.new(k, AES.MODE_CBC, iv=iv)\n",
    "m1 = decipher.decrypt(c1)\n",
    "m2 = decipher.decrypt(c2)\n",
    "print(m1)\n",
    "print(m2)"
   ]
  },
  {
   "cell_type": "markdown",
   "id": "controversial-sheffield",
   "metadata": {},
   "source": [
    "# Ejercicios (opcional)\n",
    "\n",
    "- ¿Puedes programar el modo CBC a partir del modo ECB? ECB es la caja AES básica, así que es posible programar (¡como ejercicio solamente!) el modo CBC como composición de ECB\n",
    "- ¿Puedes programar los demás modos?"
   ]
  },
  {
   "cell_type": "markdown",
   "id": "terminal-registration",
   "metadata": {},
   "source": [
    "Ejemplo de solución (solo parte de cifrado) de la primera pregunta. Observa que el resultado es el mmismo de antes al cifrar m en modo CBC"
   ]
  },
  {
   "cell_type": "code",
   "execution_count": null,
   "id": "geographic-salvation",
   "metadata": {},
   "outputs": [],
   "source": [
    "from Crypto.Util.strxor import strxor\n",
    "\n",
    "class AES_CBC():\n",
    "    def __init__(self, k, iv):\n",
    "        self.iv = iv\n",
    "        self.cipher = AES.new(k, AES.MODE_ECB)\n",
    "    def encrypt(self, msg):\n",
    "        # primero hacemos XOR del mensaje con el IV que tenemos\n",
    "        m = strxor(msg, self.iv)\n",
    "        c = self.cipher.encrypt(m)\n",
    "        # para la siguiente ronda, el IV es el propio texto cifrado\n",
    "        self.iv = c\n",
    "        return c\n",
    "\n",
    "k = get_random_bytes(16)\n",
    "iv = get_random_bytes(16)\n",
    "mycbc = AES_CBC(k, iv)\n",
    "print(b64encode(mycbc.encrypt(m)))\n",
    "print(b64encode(mycbc.encrypt(m)))"
   ]
  },
  {
   "cell_type": "markdown",
   "id": "opening-fifth",
   "metadata": {},
   "source": [
    "# Padding\n",
    "\n",
    "¿Qué pasa si tenemos que enviar mensajes más cortos que la longitud de bloque de AES? Entonces tenemos que usar algún algoritmo de padding. Es decir: marcar la longitud del mensaje original.\n",
    "\n",
    "Con Cryptodome podemos usar las funciones pad y unpad\n",
    "\n",
    "Observa: no ponemos IV, así que la librería lo escoge aleatorio. En modo CBC solo tenemos que enviar el IV la primera vez,"
   ]
  },
  {
   "cell_type": "code",
   "execution_count": null,
   "id": "labeled-status",
   "metadata": {},
   "outputs": [],
   "source": [
    "from Crypto.Util.Padding import pad, unpad\n",
    "\n",
    "# mensaje corto\n",
    "m = b'1234'\n",
    "cipher = AES.new(k, AES.MODE_CBC)\n",
    "c = cipher.encrypt(pad(m, AES.block_size))\n",
    "print({'iv':b64encode(cipher.iv), 'ciphertext':b64encode(c)})"
   ]
  },
  {
   "cell_type": "markdown",
   "id": "biblical-milton",
   "metadata": {},
   "source": [
    "Recepción:"
   ]
  },
  {
   "cell_type": "code",
   "execution_count": null,
   "id": "aquatic-copper",
   "metadata": {},
   "outputs": [],
   "source": [
    "decipher = AES.new(k, AES.MODE_CBC, cipher.iv)\n",
    "pt = unpad(decipher.decrypt(c), AES.block_size)\n",
    "print(\"The message was: \", pt)"
   ]
  },
  {
   "cell_type": "markdown",
   "id": "flying-transport",
   "metadata": {},
   "source": [
    "¿Qué pasa si no usamos unpad? AES es un cifrado de bloque, así que los mensajes en AES tienen obligatoriamente un tamaño igual al bloque AES (128 bits), así que vemos el *padding* que sobra. Las función *unpad()* nos hubiese cortado esos bytes sobrantes.\n",
    "\n",
    "(Observa: tenemos que volver a recrear el decipher, porque tiene memoria y queremos volver a descifrar el mismo mensaje)"
   ]
  },
  {
   "cell_type": "code",
   "execution_count": null,
   "id": "prerequisite-latvia",
   "metadata": {},
   "outputs": [],
   "source": [
    "decipher = AES.new(k, AES.MODE_CBC, cipher.iv)\n",
    "pt = decipher.decrypt(c)\n",
    "print(f\"The message was: {pt} (longitud {len(pt) * 8} bits)\")"
   ]
  },
  {
   "cell_type": "code",
   "execution_count": null,
   "id": "thorough-basics",
   "metadata": {},
   "outputs": [],
   "source": []
  }
 ],
 "metadata": {
  "kernelspec": {
   "display_name": "Python 3 (ipykernel)",
   "language": "python",
   "name": "python3"
  },
  "language_info": {
   "codemirror_mode": {
    "name": "ipython",
    "version": 3
   },
   "file_extension": ".py",
   "mimetype": "text/x-python",
   "name": "python",
   "nbconvert_exporter": "python",
   "pygments_lexer": "ipython3",
   "version": "3.9.15"
  }
 },
 "nbformat": 4,
 "nbformat_minor": 5
}
