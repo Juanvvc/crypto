{
  "cells": [
    {
      "cell_type": "markdown",
      "id": "plastic-alarm",
      "metadata": {
        "id": "plastic-alarm"
      },
      "source": [
        "# Cifrado de bloque: modos de cifrado AES\n",
        "\n",
        "Las prácticas de este curso las haremos en Python, conde tenemos dos posibilidades para probar criptografía: el paquete `PyCryptodome` y el paquete `cryptography`. Ambos son opciones válidas e intercambiables. Las prácticas de este curso las haremos con PyCryptodome. Puedes encontrar la ayuda en: https://pycryptodome.readthedocs.io/en/latest/\n",
        "\n",
        "Si estás siguiendo estas notas en tu PC, puedes instalarlo con: `python3 -m pip install pycryptodome`. Si las estás siguiendo en Colab, ejecuta la siguiente línea:"
      ]
    },
    {
      "cell_type": "code",
      "source": [
        "!pip install pycryptodome"
      ],
      "metadata": {
        "id": "nukHd73PSErj",
        "outputId": "3daccfa5-3696-47ba-ca03-661a1b8837f6",
        "colab": {
          "base_uri": "https://localhost:8080/"
        }
      },
      "id": "nukHd73PSErj",
      "execution_count": 1,
      "outputs": [
        {
          "output_type": "stream",
          "name": "stdout",
          "text": [
            "Collecting pycryptodome\n",
            "  Downloading pycryptodome-3.20.0-cp35-abi3-manylinux_2_17_x86_64.manylinux2014_x86_64.whl (2.1 MB)\n",
            "\u001b[2K     \u001b[90m━━━━━━━━━━━━━━━━━━━━━━━━━━━━━━━━━━━━━━━━\u001b[0m \u001b[32m2.1/2.1 MB\u001b[0m \u001b[31m10.4 MB/s\u001b[0m eta \u001b[36m0:00:00\u001b[0m\n",
            "\u001b[?25hInstalling collected packages: pycryptodome\n",
            "Successfully installed pycryptodome-3.20.0\n"
          ]
        }
      ]
    },
    {
      "cell_type": "markdown",
      "source": [
        "\n",
        "\n",
        "AES se puede utilizar en varios modos. Vamos a verlos en esta actividad.\n",
        "\n",
        "Vamos a crear:\n",
        "- un mensaje de 128 bits, el tamaño de bloque de AES.\n",
        "- una clave k de 128 bits que usaremos durante todo el ejercicio."
      ],
      "metadata": {
        "id": "J_1w0qFQSBUf"
      },
      "id": "J_1w0qFQSBUf"
    },
    {
      "cell_type": "code",
      "execution_count": 2,
      "id": "naughty-burning",
      "metadata": {
        "id": "naughty-burning",
        "outputId": "05fe10d9-2407-4a60-8445-e7bafca471ae",
        "colab": {
          "base_uri": "https://localhost:8080/"
        }
      },
      "outputs": [
        {
          "output_type": "stream",
          "name": "stdout",
          "text": [
            "Mensaje: \"b'abcdefghabcdefgh'\" Tamaño=128 bits\n",
            "Clave: b'WqrwLp/uDUNCNr3JbNG6Sg==' Tamaño=128 bits\n"
          ]
        }
      ],
      "source": [
        "from Crypto.Cipher import AES\n",
        "from Crypto.Random import get_random_bytes\n",
        "from base64 import b64encode, b64decode\n",
        "\n",
        "m = b'abcdefghabcdefgh'\n",
        "k = get_random_bytes(16)\n",
        "print(f'Mensaje: \"{m}\" Tamaño={len(m) * 8} bits')\n",
        "print(f'Clave: {b64encode(k)} Tamaño={len(k) * 8} bits')"
      ]
    },
    {
      "cell_type": "markdown",
      "id": "medical-persian",
      "metadata": {
        "id": "medical-persian"
      },
      "source": [
        "## Modo ECB\n",
        "\n",
        "El primer modo que veremos es \"ECB\": cada bloque se cifra de forma independiente, sin realimentación con los demás.\n",
        "\n",
        "![center w:30em](https://github.com/Juanvvc/crypto/blob/master/ejercicios/03/images/ECB_encryption.svg?raw=1)\n",
        "\n",
        "Vamos a ciframos tres veces el mismo mensaje. Observa que no hay memoria, y que cifrar dos veces el mismo mensaje con la misma clave produce el mismo texto cifrado. Por eso no se debe usar nunca el modo ECB: un atacante que observa las comunicaciones quizá no sepa qué estamos diciendo, pero sí que sabe que estamos repitiendo el mensaje y eso puede ser suficiente para sus objetivos.\n",
        "\n",
        "**Nunca debe usarse AES en modo ECB**\n"
      ]
    },
    {
      "cell_type": "code",
      "execution_count": 5,
      "id": "engaged-kitty",
      "metadata": {
        "id": "engaged-kitty",
        "outputId": "967e3fea-9682-4432-e58c-b0ff8bc32b8a",
        "colab": {
          "base_uri": "https://localhost:8080/"
        }
      },
      "outputs": [
        {
          "output_type": "stream",
          "name": "stdout",
          "text": [
            "b'7XcCU0tCV3pYhwyL+wiVcg=='\n",
            "b'7XcCU0tCV3pYhwyL+wiVcg=='\n",
            "b'7XcCU0tCV3pYhwyL+wiVcg=='\n"
          ]
        }
      ],
      "source": [
        "cipher = AES.new(k, AES.MODE_ECB)\n",
        "c1 = cipher.encrypt(m)\n",
        "c2 = cipher.encrypt(m)\n",
        "c3 = cipher.encrypt(m)\n",
        "print(b64encode(c1))\n",
        "print(b64encode(c2))\n",
        "print(b64encode(c3))"
      ]
    },
    {
      "cell_type": "code",
      "execution_count": 6,
      "id": "historical-printer",
      "metadata": {
        "id": "historical-printer",
        "outputId": "bb846d80-26a9-4ffa-a178-b47a3d3881df",
        "colab": {
          "base_uri": "https://localhost:8080/"
        }
      },
      "outputs": [
        {
          "output_type": "stream",
          "name": "stdout",
          "text": [
            "b'abcdefghabcdefgh'\n",
            "b'abcdefghabcdefgh'\n",
            "b'abcdefghabcdefgh'\n"
          ]
        }
      ],
      "source": [
        "decipher = AES.new(k, AES.MODE_ECB)\n",
        "m1 = decipher.decrypt(c1)\n",
        "m2 = decipher.decrypt(c2)\n",
        "m3 = decipher.decrypt(c3)\n",
        "print(m1)\n",
        "print(m2)\n",
        "print(m3)"
      ]
    },
    {
      "cell_type": "markdown",
      "id": "accessory-petersburg",
      "metadata": {
        "id": "accessory-petersburg"
      },
      "source": [
        "## Modo CBC\n",
        "\n",
        "En el modo CBC, hay realimentación entre bloques y existe un vector de inicialización\n",
        "\n",
        "![](https://github.com/Juanvvc/crypto/blob/master/ejercicios/03/images/CBC_encryption.svg?raw=1)\n",
        "\n",
        "Ciframos dos veces el mismo mensaje. Observa que tenemos que crear un IV (Vector de Inicialización), y que este IV se lo tenemos que enviar al receptor. El envío del IV se hace durante el primer mensaje, antes de que el canal sea seguro, pero no hay problemas en que un atacante conozca el IV."
      ]
    },
    {
      "cell_type": "code",
      "execution_count": 7,
      "id": "killing-fisher",
      "metadata": {
        "id": "killing-fisher",
        "outputId": "c37f204d-a130-4691-d42f-3936079ec7fa",
        "colab": {
          "base_uri": "https://localhost:8080/"
        }
      },
      "outputs": [
        {
          "output_type": "stream",
          "name": "stdout",
          "text": [
            "b'HcpsV9yRVSncbRWxtZpSMQ=='\n",
            "b'UdwT/047CKsAYbOgATijLw=='\n"
          ]
        }
      ],
      "source": [
        "iv = get_random_bytes(16)\n",
        "cipher = AES.new(k, AES.MODE_CBC, iv=iv)\n",
        "c1 = cipher.encrypt(m)\n",
        "c2 = cipher.encrypt(m)\n",
        "print(b64encode(c1))\n",
        "print(b64encode(c2))"
      ]
    },
    {
      "cell_type": "markdown",
      "source": [
        "***\n",
        "\n",
        "<font color=\"green\">\n",
        "PREGUNTA: ahora los dos cifrados son diferentes a pesar de que estamos cifrando el mismo mensaje. ¿Por qué sucede eso?\n",
        "</font>\n",
        "\n",
        "***\n",
        "\n",
        "<font color=\"blue\">\n",
        "RESPUESTA: añade aquí tu respuesta\n",
        "</font>\n",
        "\n",
        "***"
      ],
      "metadata": {
        "id": "WcAAdizRS5Q-"
      },
      "id": "WcAAdizRS5Q-"
    },
    {
      "cell_type": "markdown",
      "id": "stone-crazy",
      "metadata": {
        "id": "stone-crazy"
      },
      "source": [
        "Descifrado: necesita la clave y el IV. La clave es secreta y el receptor tiene que haberla recibido por un canal secreto (lo veremos) pero el IV puede recibirse sin protección al inicio de la comunicación."
      ]
    },
    {
      "cell_type": "code",
      "execution_count": 8,
      "id": "caring-passing",
      "metadata": {
        "id": "caring-passing",
        "outputId": "15ad7d7c-4396-4bae-9359-31abc0fd4d6f",
        "colab": {
          "base_uri": "https://localhost:8080/"
        }
      },
      "outputs": [
        {
          "output_type": "stream",
          "name": "stdout",
          "text": [
            "b'abcdefghabcdefgh'\n",
            "b'abcdefghabcdefgh'\n"
          ]
        }
      ],
      "source": [
        "decipher = AES.new(k, AES.MODE_CBC, iv=iv)\n",
        "m1 = decipher.decrypt(c1)\n",
        "m2 = decipher.decrypt(c2)\n",
        "print(m1)\n",
        "print(m2)"
      ]
    },
    {
      "cell_type": "markdown",
      "source": [],
      "metadata": {
        "id": "ia1Yr6s7SyLM"
      },
      "id": "ia1Yr6s7SyLM"
    },
    {
      "cell_type": "markdown",
      "id": "controversial-sheffield",
      "metadata": {
        "id": "controversial-sheffield"
      },
      "source": [
        "## Ejercicio **opcional**\n",
        "\n",
        "- ¿Puedes programar el modo CBC a partir del modo ECB? ECB es la caja AES básica, así que es posible programar (¡como ejercicio solamente!) el modo CBC como composición de ECB\n",
        "- ¿Puedes programar los demás modos?"
      ]
    },
    {
      "cell_type": "markdown",
      "id": "terminal-registration",
      "metadata": {
        "id": "terminal-registration"
      },
      "source": [
        "Ejemplo de solución (solo parte de cifrado) de la primera pregunta. Observa que el resultado es el mmismo de antes al cifrar m en modo CBC"
      ]
    },
    {
      "cell_type": "code",
      "execution_count": 9,
      "id": "geographic-salvation",
      "metadata": {
        "id": "geographic-salvation",
        "outputId": "92b039cd-c61b-4d3b-d03a-a0f64d04f6fd",
        "colab": {
          "base_uri": "https://localhost:8080/"
        }
      },
      "outputs": [
        {
          "output_type": "stream",
          "name": "stdout",
          "text": [
            "b'rJP+Swkvh+LgOSxKMJ9uvQ=='\n",
            "b'5aSpH4sFY9UO3ylAntAznQ=='\n"
          ]
        }
      ],
      "source": [
        "from Crypto.Util.strxor import strxor\n",
        "\n",
        "class AES_CBC():\n",
        "    def __init__(self, k, iv):\n",
        "        self.iv = iv\n",
        "        self.cipher = AES.new(k, AES.MODE_ECB)\n",
        "    def encrypt(self, msg):\n",
        "        # primero hacemos XOR del mensaje con el IV que tenemos\n",
        "        m = strxor(msg, self.iv)\n",
        "        c = self.cipher.encrypt(m)\n",
        "        # para la siguiente ronda, el IV es el propio texto cifrado\n",
        "        self.iv = c\n",
        "        return c\n",
        "\n",
        "k = get_random_bytes(16)\n",
        "iv = get_random_bytes(16)\n",
        "mycbc = AES_CBC(k, iv)\n",
        "print(b64encode(mycbc.encrypt(m)))\n",
        "print(b64encode(mycbc.encrypt(m)))"
      ]
    },
    {
      "cell_type": "markdown",
      "id": "opening-fifth",
      "metadata": {
        "id": "opening-fifth"
      },
      "source": [
        "## Padding\n",
        "\n",
        "¿Qué pasa si tenemos que enviar mensajes más cortos que la longitud de bloque de AES? Entonces tenemos que usar algún algoritmo de padding. Es decir: marcar la longitud del mensaje original. Observa que solo podemos enviar bloques de 128 bits, y si intentamos enviar bloques más cortos o más largos saltará un error:"
      ]
    },
    {
      "cell_type": "code",
      "source": [
        "c1 = cipher.encrypt(b'mensaje corto')"
      ],
      "metadata": {
        "id": "iyzuS4YLTQMg",
        "outputId": "b1a2f0bf-9f98-4d79-89f4-afbbfc673c56",
        "colab": {
          "base_uri": "https://localhost:8080/",
          "height": 269
        }
      },
      "id": "iyzuS4YLTQMg",
      "execution_count": 10,
      "outputs": [
        {
          "output_type": "error",
          "ename": "ValueError",
          "evalue": "Data must be padded to 16 byte boundary in CBC mode",
          "traceback": [
            "\u001b[0;31m---------------------------------------------------------------------------\u001b[0m",
            "\u001b[0;31mValueError\u001b[0m                                Traceback (most recent call last)",
            "\u001b[0;32m<ipython-input-10-ff6eff737aa0>\u001b[0m in \u001b[0;36m<cell line: 1>\u001b[0;34m()\u001b[0m\n\u001b[0;32m----> 1\u001b[0;31m \u001b[0mc1\u001b[0m \u001b[0;34m=\u001b[0m \u001b[0mcipher\u001b[0m\u001b[0;34m.\u001b[0m\u001b[0mencrypt\u001b[0m\u001b[0;34m(\u001b[0m\u001b[0;34mb'mensaje corto'\u001b[0m\u001b[0;34m)\u001b[0m\u001b[0;34m\u001b[0m\u001b[0;34m\u001b[0m\u001b[0m\n\u001b[0m",
            "\u001b[0;32m/usr/local/lib/python3.10/dist-packages/Crypto/Cipher/_mode_cbc.py\u001b[0m in \u001b[0;36mencrypt\u001b[0;34m(self, plaintext, output)\u001b[0m\n\u001b[1;32m    181\u001b[0m         \u001b[0;32mif\u001b[0m \u001b[0mresult\u001b[0m\u001b[0;34m:\u001b[0m\u001b[0;34m\u001b[0m\u001b[0;34m\u001b[0m\u001b[0m\n\u001b[1;32m    182\u001b[0m             \u001b[0;32mif\u001b[0m \u001b[0mresult\u001b[0m \u001b[0;34m==\u001b[0m \u001b[0;36m3\u001b[0m\u001b[0;34m:\u001b[0m\u001b[0;34m\u001b[0m\u001b[0;34m\u001b[0m\u001b[0m\n\u001b[0;32m--> 183\u001b[0;31m                 \u001b[0;32mraise\u001b[0m \u001b[0mValueError\u001b[0m\u001b[0;34m(\u001b[0m\u001b[0;34m\"Data must be padded to %d byte boundary in CBC mode\"\u001b[0m \u001b[0;34m%\u001b[0m \u001b[0mself\u001b[0m\u001b[0;34m.\u001b[0m\u001b[0mblock_size\u001b[0m\u001b[0;34m)\u001b[0m\u001b[0;34m\u001b[0m\u001b[0;34m\u001b[0m\u001b[0m\n\u001b[0m\u001b[1;32m    184\u001b[0m             \u001b[0;32mraise\u001b[0m \u001b[0mValueError\u001b[0m\u001b[0;34m(\u001b[0m\u001b[0;34m\"Error %d while encrypting in CBC mode\"\u001b[0m \u001b[0;34m%\u001b[0m \u001b[0mresult\u001b[0m\u001b[0;34m)\u001b[0m\u001b[0;34m\u001b[0m\u001b[0;34m\u001b[0m\u001b[0m\n\u001b[1;32m    185\u001b[0m \u001b[0;34m\u001b[0m\u001b[0m\n",
            "\u001b[0;31mValueError\u001b[0m: Data must be padded to 16 byte boundary in CBC mode"
          ]
        }
      ]
    },
    {
      "cell_type": "markdown",
      "source": [
        "Con Cryptodome podemos usar las funciones `pad()` y `unpad()`\n",
        "\n",
        "Observa: en este ejemplo no especificamos un IV al crear el cipher, pero ya sabes que en modo CBC siempre existe un IV. Si no lo especificamos en creación, los escogerá al azar."
      ],
      "metadata": {
        "id": "v9ZddlszTTYM"
      },
      "id": "v9ZddlszTTYM"
    },
    {
      "cell_type": "code",
      "execution_count": 11,
      "id": "labeled-status",
      "metadata": {
        "id": "labeled-status",
        "outputId": "0c57bf1b-4fd1-4c87-c0c4-1287cb9dd263",
        "colab": {
          "base_uri": "https://localhost:8080/"
        }
      },
      "outputs": [
        {
          "output_type": "stream",
          "name": "stdout",
          "text": [
            "{'iv': b'vYhOcjSOsZZJlk+PZ7hEdQ==', 'ciphertext': b'NP5TjQJuFGhPefgbVIyfTQ=='}\n"
          ]
        }
      ],
      "source": [
        "from Crypto.Util.Padding import pad, unpad\n",
        "\n",
        "# mensaje corto\n",
        "m = b'1234'\n",
        "cipher = AES.new(k, AES.MODE_CBC)\n",
        "c = cipher.encrypt(pad(m, AES.block_size))\n",
        "print({'iv':b64encode(cipher.iv), 'ciphertext':b64encode(c)})"
      ]
    },
    {
      "cell_type": "markdown",
      "id": "biblical-milton",
      "metadata": {
        "id": "biblical-milton"
      },
      "source": [
        "Recepción:"
      ]
    },
    {
      "cell_type": "code",
      "execution_count": 12,
      "id": "aquatic-copper",
      "metadata": {
        "id": "aquatic-copper",
        "outputId": "097768ac-8e39-4840-9d04-6552ec22b7e2",
        "colab": {
          "base_uri": "https://localhost:8080/"
        }
      },
      "outputs": [
        {
          "output_type": "stream",
          "name": "stdout",
          "text": [
            "The message was:  b'1234'\n"
          ]
        }
      ],
      "source": [
        "decipher = AES.new(k, AES.MODE_CBC, cipher.iv)\n",
        "pt = unpad(decipher.decrypt(c), AES.block_size)\n",
        "print(\"The message was: \", pt)"
      ]
    },
    {
      "cell_type": "markdown",
      "id": "flying-transport",
      "metadata": {
        "id": "flying-transport"
      },
      "source": [
        "¿Qué pasa si no usamos unpad? AES es un cifrado de bloque, así que los mensajes en AES tienen obligatoriamente un tamaño igual al bloque AES (128 bits), así que vemos el *padding* que sobra. Las función *unpad()* nos hubiese cortado esos bytes sobrantes.\n",
        "\n",
        "(Observa: tenemos que volver a recrear el decipher, porque tiene memoria y queremos volver a descifrar el mismo mensaje)"
      ]
    },
    {
      "cell_type": "code",
      "execution_count": 13,
      "id": "prerequisite-latvia",
      "metadata": {
        "id": "prerequisite-latvia",
        "outputId": "2bec8230-ebcc-4ebc-8fc7-6d662a5f239a",
        "colab": {
          "base_uri": "https://localhost:8080/"
        }
      },
      "outputs": [
        {
          "output_type": "stream",
          "name": "stdout",
          "text": [
            "The message was: b'1234\\x0c\\x0c\\x0c\\x0c\\x0c\\x0c\\x0c\\x0c\\x0c\\x0c\\x0c\\x0c' (longitud 128 bits)\n"
          ]
        }
      ],
      "source": [
        "decipher = AES.new(k, AES.MODE_CBC, cipher.iv)\n",
        "pt = decipher.decrypt(c)\n",
        "print(f\"The message was: {pt} (longitud {len(pt) * 8} bits)\")"
      ]
    },
    {
      "cell_type": "markdown",
      "source": [
        "***\n",
        "\n",
        "<font color=\"red\">\n",
        "PREGUNTA: vimos que ChaCha20 podía resincronizarse si se perdían mensajes. ¿AES en modo CBC puede resincronizarse si se pierden mensajes? ¿Qué modo de AES permitiría resincronizarse?\n",
        "</font>\n",
        "\n",
        "***\n",
        "\n",
        "<font color=\"blue\">\n",
        "RESPUESTA: añade aquí tu respuesta\n",
        "</font>\n",
        "\n",
        "***"
      ],
      "metadata": {
        "id": "ynSH-ODCTnFB"
      },
      "id": "ynSH-ODCTnFB"
    }
  ],
  "metadata": {
    "kernelspec": {
      "display_name": "Python 3 (ipykernel)",
      "language": "python",
      "name": "python3"
    },
    "language_info": {
      "codemirror_mode": {
        "name": "ipython",
        "version": 3
      },
      "file_extension": ".py",
      "mimetype": "text/x-python",
      "name": "python",
      "nbconvert_exporter": "python",
      "pygments_lexer": "ipython3",
      "version": "3.9.16"
    },
    "colab": {
      "provenance": []
    }
  },
  "nbformat": 4,
  "nbformat_minor": 5
}