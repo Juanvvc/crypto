{
  "cells": [
    {
      "cell_type": "markdown",
      "id": "arranged-chassis",
      "metadata": {
        "id": "arranged-chassis"
      },
      "source": [
        "# Acuerdo de claves Diffie-Hellman\n",
        "\n",
        "Recuerda, el protocolo es:\n",
        "\n",
        "1. Acuerdan $g$ y $p$ primos entre sí\n",
        "1. Escogen números en secreto $a$ y $b$\n",
        "1. Se envian entre ellos:\n",
        "    - $Alice \\rightarrow Bob: A=g^{a} \\mod p$\n",
        "    - $Bob \\rightarrow Alice: B=g^{b} \\mod p$\n",
        "1. Calculan en secreto:\n",
        "    - $Alice$: $s = B^{a} \\mod p = g^{ab} \\mod p$\n",
        "    - $Alice$: $s = A^{b} \\mod p = g^{ab} \\mod p$\n",
        "1. Y usan $s$ como clave de cifrado un algoritmo simétrico  "
      ]
    },
    {
      "cell_type": "markdown",
      "id": "heated-monday",
      "metadata": {
        "id": "heated-monday"
      },
      "source": [
        "A continuación está el código de la librería https://github.com/amiralis/pyDH de Amirali Sanatinia, que es sencillo de leer y entender.\n",
        "\n",
        "Aunque no parece haber errores evidentes, **es obligatorio utilizar librerías auditadas**. Seguiremos esta por su valor educativo, no porque sea recomendable su uso."
      ]
    },
    {
      "cell_type": "code",
      "execution_count": null,
      "id": "devoted-genealogy",
      "metadata": {
        "id": "devoted-genealogy"
      },
      "outputs": [],
      "source": [
        "# Apache License\n",
        "#         Version 2.0, January 2004\n",
        "#     Copyright 2015 Amirali Sanatinia\n",
        "\n",
        "\"\"\" Pure Python Diffie Hellman implementation\n",
        "\n",
        "Source: https://github.com/amiralis/pyDH\"\"\"\n",
        "\n",
        "import os\n",
        "import binascii\n",
        "import hashlib\n",
        "\n",
        "from base64 import b64encode\n",
        "\n",
        "# RFC 3526 - More Modular Exponential (MODP) Diffie-Hellman groups for\n",
        "# Internet Key Exchange (IKE) https://tools.ietf.org/html/rfc3526\n",
        "\n",
        "primes = {\n",
        "\n",
        "\t# 1536-bit\n",
        "\t5: {\n",
        "\t\"prime\": 0xFFFFFFFFFFFFFFFFC90FDAA22168C234C4C6628B80DC1CD129024E088A67CC74020BBEA63B139B22514A08798E3404DDEF9519B3CD3A431B302B0A6DF25F14374FE1356D6D51C245E485B576625E7EC6F44C42E9A637ED6B0BFF5CB6F406B7EDEE386BFB5A899FA5AE9F24117C4B1FE649286651ECE45B3DC2007CB8A163BF0598DA48361C55D39A69163FA8FD24CF5F83655D23DCA3AD961C62F356208552BB9ED529077096966D670C354E4ABC9804F1746C08CA237327FFFFFFFFFFFFFFFF,\n",
        "\t\"generator\": 2\n",
        "\t},\n",
        "\n",
        "\t# 2048-bit\n",
        "\t14: {\n",
        "\t\"prime\": 0xFFFFFFFFFFFFFFFFC90FDAA22168C234C4C6628B80DC1CD129024E088A67CC74020BBEA63B139B22514A08798E3404DDEF9519B3CD3A431B302B0A6DF25F14374FE1356D6D51C245E485B576625E7EC6F44C42E9A637ED6B0BFF5CB6F406B7EDEE386BFB5A899FA5AE9F24117C4B1FE649286651ECE45B3DC2007CB8A163BF0598DA48361C55D39A69163FA8FD24CF5F83655D23DCA3AD961C62F356208552BB9ED529077096966D670C354E4ABC9804F1746C08CA18217C32905E462E36CE3BE39E772C180E86039B2783A2EC07A28FB5C55DF06F4C52C9DE2BCBF6955817183995497CEA956AE515D2261898FA051015728E5A8AACAA68FFFFFFFFFFFFFFFF,\n",
        "\t\"generator\": 2\n",
        "\t},\n",
        "\n",
        "\t# 3072-bit\n",
        "\t15: {\n",
        "\t\"prime\": 0xFFFFFFFFFFFFFFFFC90FDAA22168C234C4C6628B80DC1CD129024E088A67CC74020BBEA63B139B22514A08798E3404DDEF9519B3CD3A431B302B0A6DF25F14374FE1356D6D51C245E485B576625E7EC6F44C42E9A637ED6B0BFF5CB6F406B7EDEE386BFB5A899FA5AE9F24117C4B1FE649286651ECE45B3DC2007CB8A163BF0598DA48361C55D39A69163FA8FD24CF5F83655D23DCA3AD961C62F356208552BB9ED529077096966D670C354E4ABC9804F1746C08CA18217C32905E462E36CE3BE39E772C180E86039B2783A2EC07A28FB5C55DF06F4C52C9DE2BCBF6955817183995497CEA956AE515D2261898FA051015728E5A8AAAC42DAD33170D04507A33A85521ABDF1CBA64ECFB850458DBEF0A8AEA71575D060C7DB3970F85A6E1E4C7ABF5AE8CDB0933D71E8C94E04A25619DCEE3D2261AD2EE6BF12FFA06D98A0864D87602733EC86A64521F2B18177B200CBBE117577A615D6C770988C0BAD946E208E24FA074E5AB3143DB5BFCE0FD108E4B82D120A93AD2CAFFFFFFFFFFFFFFFF,\n",
        "\t\"generator\": 2\n",
        "\t},\n",
        "\n",
        "\t# 4096-bit\n",
        "\t16: {\n",
        "\t\"prime\": 0xFFFFFFFFFFFFFFFFC90FDAA22168C234C4C6628B80DC1CD129024E088A67CC74020BBEA63B139B22514A08798E3404DDEF9519B3CD3A431B302B0A6DF25F14374FE1356D6D51C245E485B576625E7EC6F44C42E9A637ED6B0BFF5CB6F406B7EDEE386BFB5A899FA5AE9F24117C4B1FE649286651ECE45B3DC2007CB8A163BF0598DA48361C55D39A69163FA8FD24CF5F83655D23DCA3AD961C62F356208552BB9ED529077096966D670C354E4ABC9804F1746C08CA18217C32905E462E36CE3BE39E772C180E86039B2783A2EC07A28FB5C55DF06F4C52C9DE2BCBF6955817183995497CEA956AE515D2261898FA051015728E5A8AAAC42DAD33170D04507A33A85521ABDF1CBA64ECFB850458DBEF0A8AEA71575D060C7DB3970F85A6E1E4C7ABF5AE8CDB0933D71E8C94E04A25619DCEE3D2261AD2EE6BF12FFA06D98A0864D87602733EC86A64521F2B18177B200CBBE117577A615D6C770988C0BAD946E208E24FA074E5AB3143DB5BFCE0FD108E4B82D120A92108011A723C12A787E6D788719A10BDBA5B2699C327186AF4E23C1A946834B6150BDA2583E9CA2AD44CE8DBBBC2DB04DE8EF92E8EFC141FBECAA6287C59474E6BC05D99B2964FA090C3A2233BA186515BE7ED1F612970CEE2D7AFB81BDD762170481CD0069127D5B05AA993B4EA988D8FDDC186FFB7DC90A6C08F4DF435C934063199FFFFFFFFFFFFFFFF,\n",
        "\t\"generator\": 2\n",
        "\t},\n",
        "\n",
        "\t# 6144-bit\n",
        "\t17: {\n",
        "\t\"prime\": 0xFFFFFFFFFFFFFFFFC90FDAA22168C234C4C6628B80DC1CD129024E088A67CC74020BBEA63B139B22514A08798E3404DDEF9519B3CD3A431B302B0A6DF25F14374FE1356D6D51C245E485B576625E7EC6F44C42E9A637ED6B0BFF5CB6F406B7EDEE386BFB5A899FA5AE9F24117C4B1FE649286651ECE45B3DC2007CB8A163BF0598DA48361C55D39A69163FA8FD24CF5F83655D23DCA3AD961C62F356208552BB9ED529077096966D670C354E4ABC9804F1746C08CA18217C32905E462E36CE3BE39E772C180E86039B2783A2EC07A28FB5C55DF06F4C52C9DE2BCBF6955817183995497CEA956AE515D2261898FA051015728E5A8AAAC42DAD33170D04507A33A85521ABDF1CBA64ECFB850458DBEF0A8AEA71575D060C7DB3970F85A6E1E4C7ABF5AE8CDB0933D71E8C94E04A25619DCEE3D2261AD2EE6BF12FFA06D98A0864D87602733EC86A64521F2B18177B200CBBE117577A615D6C770988C0BAD946E208E24FA074E5AB3143DB5BFCE0FD108E4B82D120A92108011A723C12A787E6D788719A10BDBA5B2699C327186AF4E23C1A946834B6150BDA2583E9CA2AD44CE8DBBBC2DB04DE8EF92E8EFC141FBECAA6287C59474E6BC05D99B2964FA090C3A2233BA186515BE7ED1F612970CEE2D7AFB81BDD762170481CD0069127D5B05AA993B4EA988D8FDDC186FFB7DC90A6C08F4DF435C93402849236C3FAB4D27C7026C1D4DCB2602646DEC9751E763DBA37BDF8FF9406AD9E530EE5DB382F413001AEB06A53ED9027D831179727B0865A8918DA3EDBEBCF9B14ED44CE6CBACED4BB1BDB7F1447E6CC254B332051512BD7AF426FB8F401378CD2BF5983CA01C64B92ECF032EA15D1721D03F482D7CE6E74FEF6D55E702F46980C82B5A84031900B1C9E59E7C97FBEC7E8F323A97A7E36CC88BE0F1D45B7FF585AC54BD407B22B4154AACC8F6D7EBF48E1D814CC5ED20F8037E0A79715EEF29BE32806A1D58BB7C5DA76F550AA3D8A1FBFF0EB19CCB1A313D55CDA56C9EC2EF29632387FE8D76E3C0468043E8F663F4860EE12BF2D5B0B7474D6E694F91E6DCC4024FFFFFFFFFFFFFFFF,\n",
        "\t\"generator\": 2\n",
        "\t},\n",
        "\n",
        "\t# 8192-bit\n",
        "\t18: {\n",
        "\t\"prime\": 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n",
        "\t\"generator\": 2\n",
        "\t}\n",
        "}\n",
        "\n",
        "\n",
        "class DiffieHellman:\n",
        "\t\"\"\" Class to represent the Diffie-Hellman key exchange protocol \"\"\"\n",
        "\t# Current minimum recommendation is 2048 bit.\n",
        "\tdef __init__(self, group=14):\n",
        "\t\tif group in primes:\n",
        "\t\t\tself.p = primes[group][\"prime\"]\n",
        "\t\t\tself.g = primes[group][\"generator\"]\n",
        "\t\telse:\n",
        "\t\t\traise Exception(\"Group not supported\")\n",
        "\n",
        "\t\tself.__a = int(binascii.hexlify(os.urandom(32)), base=16)\n",
        "\n",
        "\tdef get_private_key(self):\n",
        "\t\t\"\"\" Return the private key (a) \"\"\"\n",
        "\t\treturn self.__a\n",
        "\n",
        "\tdef gen_public_key(self):\n",
        "\t\t\"\"\" Return A, A = g ^ a mod p \"\"\"\n",
        "\t\t# calculate G^a mod p\n",
        "\t\treturn pow(self.g, self.__a, self.p)\n",
        "\n",
        "\tdef check_other_public_key(self, other_contribution):\n",
        "\t\t# check if the other public key is valid based on NIST SP800-56\n",
        "\t\t# 2 <= g^b <= p-2 and Lagrange for safe primes (g^bq)=1, q=(p-1)/2\n",
        "\n",
        "\t\tif 2 <= other_contribution and other_contribution <= self.p - 2:\n",
        "\t\t\tif pow(other_contribution, (self.p - 1) // 2, self.p) == 1:\n",
        "\t\t\t\treturn True\n",
        "\t\treturn False\n",
        "\n",
        "\tdef gen_shared_key(self, other_contribution):\n",
        "\t\t\"\"\" Return g ^ ab mod p \"\"\"\n",
        "\t\t# calculate the shared key G^ab mod p\n",
        "\t\tif self.check_other_public_key(other_contribution):\n",
        "\t\t\tself.shared_key = pow(other_contribution, self.__a, self.p)\n",
        "\t\t\treturn hashlib.sha256(str(self.shared_key).encode()).digest()\n",
        "\t\telse:\n",
        "\t\t\traise Exception(\"Bad public key from other party\")\n"
      ]
    },
    {
      "cell_type": "markdown",
      "id": "exclusive-stylus",
      "metadata": {
        "id": "exclusive-stylus"
      },
      "source": [
        "## Alice"
      ]
    },
    {
      "cell_type": "markdown",
      "id": "pending-massage",
      "metadata": {
        "id": "pending-massage"
      },
      "source": [
        "En esta ocasión, Alice y Bob quieren acordar una clave que después usarán para las comunicaciones con AES.\n",
        "\n",
        "Vamos a ver primero qué hace Alice."
      ]
    },
    {
      "cell_type": "code",
      "execution_count": null,
      "id": "excessive-writer",
      "metadata": {
        "id": "excessive-writer"
      },
      "outputs": [],
      "source": [
        "alice = DiffieHellman()\n",
        "alice_pubkey = alice.gen_public_key()\n",
        "\n",
        "print('CLAVE PRIVADA DE ALICE: a\\n-------------------')\n",
        "print(f'a = {alice.get_private_key()}\\n')\n",
        "\n",
        "print('\\nCLAVE PÚBLICA DE ALICE: es el trío A=(g, p, g^a)\\n-------------------')\n",
        "print(f'g = {alice.g}\\n')\n",
        "print(f'p = {alice.p}\\n')\n",
        "print(f'g^a = {alice_pubkey}\\n')"
      ]
    },
    {
      "cell_type": "markdown",
      "id": "moderate-manor",
      "metadata": {
        "id": "moderate-manor"
      },
      "source": [
        "Claves de Alice:\n",
        "\n",
        "- Clave privada es un solo número: $a_{priv}$. Este número es la clave privada de Alice y nunca saldrá del PC de Alice.\n",
        "- Clave pública es un trío de números: $A_{pub}=\\{g, p, g^a\\}$. Esta es la clave pública de Alice, que es lo que le envía a Bob.\n",
        "\n",
        "Nota: en realidad $g$ y $p$ no los suele escoger Alice sino que usa algún valor estándar de una tabla. Así que normalmente solo se envía $g^a$, y los valores de $g$ y $p$ son los del estándar. $g$ suele ser un primo pequeño, 2 ó 3, para acelerar los cálculos, mientras que $p$ es un número muy grande para dar seguridad al sistema."
      ]
    },
    {
      "cell_type": "markdown",
      "id": "integral-tomato",
      "metadata": {
        "id": "integral-tomato"
      },
      "source": [
        "## Bob\n",
        "\n",
        "Bob calcular su par de claves públicas y privadas de una forma similar"
      ]
    },
    {
      "cell_type": "code",
      "execution_count": null,
      "id": "romantic-cross",
      "metadata": {
        "id": "romantic-cross"
      },
      "outputs": [],
      "source": [
        "bob = DiffieHellman()\n",
        "bob_pubkey = bob.gen_public_key()\n",
        "\n",
        "print('CLAVE PRIVADA DE BOB: b\\n-------------------')\n",
        "print(f'b = {bob.get_private_key()}\\n')\n",
        "\n",
        "print('\\nCLAVE PÚBLICA DE BOB: es el trío B=(g, p, g^b)\\n-------------------')\n",
        "print(f'g = {bob.g}\\n')\n",
        "print(f'p = {bob.p}\\n')\n",
        "print(f'g^b = {bob_pubkey}\\n')"
      ]
    },
    {
      "cell_type": "markdown",
      "id": "younger-appendix",
      "metadata": {
        "id": "younger-appendix"
      },
      "source": [
        "Fíjate: la g de Alice y la de Bob es 2. Aunque podría ser cualquier, es común que $g$ sea 2 siempre porque así se aceleran los cálculos. Esto no reduce la seguridad del algoritmo, según los matemáticos"
      ]
    },
    {
      "cell_type": "markdown",
      "id": "sapphire-match",
      "metadata": {
        "id": "sapphire-match"
      },
      "source": [
        "## Alice y Bob: cálculo de la clave compartida"
      ]
    },
    {
      "cell_type": "markdown",
      "source": [
        "Ahora (recuerda que todos estos cálculos son $\\mod p$):\n",
        "\n",
        "- Alice recibe de Bob $B=g^b$, y puede calcular la clave compartida usando su propia $a$: $k_{shared} = B^a=g^{ab}$\n",
        "- Bob recibe de Alice $A=g^a$, y puede calcular la clave compartida usando su propia $b$: $k_{shared} = A^b=g^{ab}$\n",
        "- Un espía de las comunicaciones sabe $A=g^a$ y $B=g^b$, pero no sabe $a$ ni $b$. Observa que sabiendo solo $g^a$ y $g^b$ no hay forma de calcular $g^{ab}$ y el atacante no puede calcular la clave"
      ],
      "metadata": {
        "id": "N5rC4cgjUswL"
      },
      "id": "N5rC4cgjUswL"
    },
    {
      "cell_type": "code",
      "execution_count": null,
      "id": "intellectual-inside",
      "metadata": {
        "id": "intellectual-inside"
      },
      "outputs": [],
      "source": [
        "alice_sharedkey = alice.gen_shared_key(bob_pubkey)\n",
        "print(b64encode(alice_sharedkey))"
      ]
    },
    {
      "cell_type": "code",
      "execution_count": null,
      "id": "incorporate-separate",
      "metadata": {
        "id": "incorporate-separate"
      },
      "outputs": [],
      "source": [
        "bob_sharedkey = bob.gen_shared_key(alice_pubkey)\n",
        "print(b64encode(bob_sharedkey))"
      ]
    },
    {
      "cell_type": "markdown",
      "id": "controversial-payment",
      "metadata": {
        "id": "controversial-payment"
      },
      "source": [
        "Y podemos comprobar que los dos tienen la misma clave compartida"
      ]
    },
    {
      "cell_type": "code",
      "execution_count": null,
      "id": "specialized-amount",
      "metadata": {
        "id": "specialized-amount"
      },
      "outputs": [],
      "source": [
        "print(bob_sharedkey == alice_sharedkey)"
      ]
    },
    {
      "cell_type": "markdown",
      "id": "unexpected-stanford",
      "metadata": {
        "id": "unexpected-stanford"
      },
      "source": [
        "## Ejercicios\n",
        "\n",
        "***\n",
        "\n",
        "<font color=\"red\">\n",
        "Ya tenemos una \"clave compartida\", pero aún hay que adaptarla para poder usarla en AES-256 o ChaCha20. ¿Cómo lo harías?\n",
        "\n",
        "Los parámetros p y g de la librería son muy antiguos (RFC3526). ¿Puedes buscar otros más modernos?\n",
        "</font>\n",
        "\n",
        "***\n",
        "\n",
        "<font color=\"blue\">\n",
        "RESPUESTA: añade aquí tu respuesta\n",
        "</font>\n",
        "\n",
        "***"
      ]
    },
    {
      "cell_type": "code",
      "execution_count": null,
      "id": "interstate-ridge",
      "metadata": {
        "id": "interstate-ridge"
      },
      "outputs": [],
      "source": []
    }
  ],
  "metadata": {
    "kernelspec": {
      "display_name": "Python 3 (ipykernel)",
      "language": "python",
      "name": "python3"
    },
    "language_info": {
      "codemirror_mode": {
        "name": "ipython",
        "version": 3
      },
      "file_extension": ".py",
      "mimetype": "text/x-python",
      "name": "python",
      "nbconvert_exporter": "python",
      "pygments_lexer": "ipython3",
      "version": "3.9.12"
    },
    "colab": {
      "provenance": []
    }
  },
  "nbformat": 4,
  "nbformat_minor": 5
}